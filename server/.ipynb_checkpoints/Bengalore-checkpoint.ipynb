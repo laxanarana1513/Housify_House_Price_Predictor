{
 "cells": [
  {
   "cell_type": "code",
   "execution_count": 1,
   "id": "digital-contact",
   "metadata": {},
   "outputs": [],
   "source": [
    "import numpy as np\n",
    "import pandas as pd"
   ]
  },
  {
   "cell_type": "code",
   "execution_count": 2,
   "id": "stone-battlefield",
   "metadata": {},
   "outputs": [],
   "source": [
    "data = pd.read_csv('Bengalore.csv')\n",
    "data['price'] = data['price'] / 10000"
   ]
  },
  {
   "cell_type": "code",
   "execution_count": 3,
   "id": "nonprofit-treatment",
   "metadata": {},
   "outputs": [
    {
     "data": {
      "text/html": [
       "<div>\n",
       "<style scoped>\n",
       "    .dataframe tbody tr th:only-of-type {\n",
       "        vertical-align: middle;\n",
       "    }\n",
       "\n",
       "    .dataframe tbody tr th {\n",
       "        vertical-align: top;\n",
       "    }\n",
       "\n",
       "    .dataframe thead th {\n",
       "        text-align: right;\n",
       "    }\n",
       "</style>\n",
       "<table border=\"1\" class=\"dataframe\">\n",
       "  <thead>\n",
       "    <tr style=\"text-align: right;\">\n",
       "      <th></th>\n",
       "      <th>price</th>\n",
       "      <th>sqft</th>\n",
       "      <th>location</th>\n",
       "      <th>bathrooms</th>\n",
       "      <th>bhk</th>\n",
       "      <th>area_type</th>\n",
       "    </tr>\n",
       "  </thead>\n",
       "  <tbody>\n",
       "    <tr>\n",
       "      <th>0</th>\n",
       "      <td>3000.0</td>\n",
       "      <td>3340</td>\n",
       "      <td>JP Nagar Phase 1</td>\n",
       "      <td>2.0</td>\n",
       "      <td>1</td>\n",
       "      <td>Super built-up Area</td>\n",
       "    </tr>\n",
       "    <tr>\n",
       "      <th>1</th>\n",
       "      <td>788.8</td>\n",
       "      <td>1045</td>\n",
       "      <td>Dasarahalli on Tumkur Road</td>\n",
       "      <td>5.0</td>\n",
       "      <td>3</td>\n",
       "      <td>Plot Area</td>\n",
       "    </tr>\n",
       "    <tr>\n",
       "      <th>2</th>\n",
       "      <td>486.6</td>\n",
       "      <td>1179</td>\n",
       "      <td>Kannur on Thanisandra Main Road</td>\n",
       "      <td>2.0</td>\n",
       "      <td>3</td>\n",
       "      <td>Built-up Area</td>\n",
       "    </tr>\n",
       "    <tr>\n",
       "      <th>3</th>\n",
       "      <td>835.8</td>\n",
       "      <td>1675</td>\n",
       "      <td>Doddanekundi</td>\n",
       "      <td>3.0</td>\n",
       "      <td>2</td>\n",
       "      <td>Super built-up Area</td>\n",
       "    </tr>\n",
       "    <tr>\n",
       "      <th>4</th>\n",
       "      <td>684.5</td>\n",
       "      <td>1670</td>\n",
       "      <td>Kengeri</td>\n",
       "      <td>2.0</td>\n",
       "      <td>4</td>\n",
       "      <td>Super built-up Area</td>\n",
       "    </tr>\n",
       "  </tbody>\n",
       "</table>\n",
       "</div>"
      ],
      "text/plain": [
       "    price  sqft                         location  bathrooms  bhk  \\\n",
       "0  3000.0  3340                 JP Nagar Phase 1        2.0    1   \n",
       "1   788.8  1045       Dasarahalli on Tumkur Road        5.0    3   \n",
       "2   486.6  1179  Kannur on Thanisandra Main Road        2.0    3   \n",
       "3   835.8  1675                     Doddanekundi        3.0    2   \n",
       "4   684.5  1670                          Kengeri        2.0    4   \n",
       "\n",
       "             area_type  \n",
       "0  Super built-up Area  \n",
       "1            Plot Area  \n",
       "2        Built-up Area  \n",
       "3  Super built-up Area  \n",
       "4  Super built-up Area  "
      ]
     },
     "execution_count": 3,
     "metadata": {},
     "output_type": "execute_result"
    }
   ],
   "source": [
    "data.head()"
   ]
  },
  {
   "cell_type": "code",
   "execution_count": 4,
   "id": "prospective-silly",
   "metadata": {},
   "outputs": [
    {
     "data": {
      "text/plain": [
       "(6207, 6)"
      ]
     },
     "execution_count": 4,
     "metadata": {},
     "output_type": "execute_result"
    }
   ],
   "source": [
    "data.shape"
   ]
  },
  {
   "cell_type": "code",
   "execution_count": 5,
   "id": "under-empty",
   "metadata": {},
   "outputs": [
    {
     "name": "stdout",
     "output_type": "stream",
     "text": [
      "<class 'pandas.core.frame.DataFrame'>\n",
      "RangeIndex: 6207 entries, 0 to 6206\n",
      "Data columns (total 6 columns):\n",
      " #   Column     Non-Null Count  Dtype  \n",
      "---  ------     --------------  -----  \n",
      " 0   price      6207 non-null   float64\n",
      " 1   sqft       6207 non-null   int64  \n",
      " 2   location   6207 non-null   object \n",
      " 3   bathrooms  6170 non-null   float64\n",
      " 4   bhk        6207 non-null   int64  \n",
      " 5   area_type  6207 non-null   object \n",
      "dtypes: float64(2), int64(2), object(2)\n",
      "memory usage: 291.1+ KB\n"
     ]
    }
   ],
   "source": [
    "data.info()"
   ]
  },
  {
   "cell_type": "code",
   "execution_count": 6,
   "id": "above-manhattan",
   "metadata": {},
   "outputs": [
    {
     "name": "stdout",
     "output_type": "stream",
     "text": [
      "840.0     111\n",
      "310.0      58\n",
      "1100.0     47\n",
      "784.0      46\n",
      "1050.0     39\n",
      "         ... \n",
      "350.7       1\n",
      "553.0       1\n",
      "945.3       1\n",
      "9020.0      1\n",
      "518.0       1\n",
      "Name: price, Length: 2146, dtype: int64\n",
      "********************\n",
      "1500    138\n",
      "1400     70\n",
      "1200     64\n",
      "1450     56\n",
      "924      52\n",
      "       ... \n",
      "2920      1\n",
      "873       1\n",
      "3891      1\n",
      "885       1\n",
      "2650      1\n",
      "Name: sqft, Length: 1359, dtype: int64\n",
      "********************\n",
      "Electronic City Phase 2            232\n",
      "RR Nagar                           217\n",
      "Begur                              186\n",
      "Varthur                            168\n",
      "Kumaraswamy Layout                 154\n",
      "                                  ... \n",
      "Padmanabhanagar                      1\n",
      "Ashwathkatte Road                    1\n",
      "OMBR Layout                          1\n",
      "Kumaraswamy Layout Vittal Nagar      1\n",
      "Electronic City Phase I              1\n",
      "Name: location, Length: 302, dtype: int64\n",
      "********************\n",
      "2.0     3225\n",
      "3.0     1516\n",
      "4.0      576\n",
      "1.0      364\n",
      "5.0      231\n",
      "6.0      121\n",
      "7.0       63\n",
      "8.0       31\n",
      "9.0       24\n",
      "10.0       8\n",
      "12.0       3\n",
      "11.0       2\n",
      "16.0       2\n",
      "15.0       1\n",
      "27.0       1\n",
      "40.0       1\n",
      "14.0       1\n",
      "Name: bathrooms, dtype: int64\n",
      "********************\n",
      "3     2752\n",
      "2     1980\n",
      "4      703\n",
      "1      626\n",
      "5       72\n",
      "6       33\n",
      "7       15\n",
      "8       10\n",
      "9        9\n",
      "10       4\n",
      "16       1\n",
      "13       1\n",
      "11       1\n",
      "Name: bhk, dtype: int64\n",
      "********************\n",
      "Super built-up Area    4073\n",
      "Built-up Area          1134\n",
      "Plot Area               955\n",
      "Carpet Area              45\n",
      "Name: area_type, dtype: int64\n",
      "********************\n"
     ]
    }
   ],
   "source": [
    "for column in data.columns:\n",
    "    print(data[column].value_counts())\n",
    "    print(\"*\"*20)"
   ]
  },
  {
   "cell_type": "code",
   "execution_count": 7,
   "id": "diagnostic-difficulty",
   "metadata": {},
   "outputs": [
    {
     "data": {
      "text/plain": [
       "price         0\n",
       "sqft          0\n",
       "location      0\n",
       "bathrooms    37\n",
       "bhk           0\n",
       "area_type     0\n",
       "dtype: int64"
      ]
     },
     "execution_count": 7,
     "metadata": {},
     "output_type": "execute_result"
    }
   ],
   "source": [
    "data.isna().sum()"
   ]
  },
  {
   "cell_type": "code",
   "execution_count": 8,
   "id": "unauthorized-essex",
   "metadata": {},
   "outputs": [
    {
     "data": {
      "text/html": [
       "<div>\n",
       "<style scoped>\n",
       "    .dataframe tbody tr th:only-of-type {\n",
       "        vertical-align: middle;\n",
       "    }\n",
       "\n",
       "    .dataframe tbody tr th {\n",
       "        vertical-align: top;\n",
       "    }\n",
       "\n",
       "    .dataframe thead th {\n",
       "        text-align: right;\n",
       "    }\n",
       "</style>\n",
       "<table border=\"1\" class=\"dataframe\">\n",
       "  <thead>\n",
       "    <tr style=\"text-align: right;\">\n",
       "      <th></th>\n",
       "      <th>price</th>\n",
       "      <th>sqft</th>\n",
       "      <th>bathrooms</th>\n",
       "      <th>bhk</th>\n",
       "    </tr>\n",
       "  </thead>\n",
       "  <tbody>\n",
       "    <tr>\n",
       "      <th>count</th>\n",
       "      <td>6207.000000</td>\n",
       "      <td>6207.000000</td>\n",
       "      <td>6170.000000</td>\n",
       "      <td>6207.000000</td>\n",
       "    </tr>\n",
       "    <tr>\n",
       "      <th>mean</th>\n",
       "      <td>1058.510483</td>\n",
       "      <td>1526.094248</td>\n",
       "      <td>2.709562</td>\n",
       "      <td>2.667633</td>\n",
       "    </tr>\n",
       "    <tr>\n",
       "      <th>std</th>\n",
       "      <td>1410.943400</td>\n",
       "      <td>764.845609</td>\n",
       "      <td>1.435236</td>\n",
       "      <td>1.017834</td>\n",
       "    </tr>\n",
       "    <tr>\n",
       "      <th>min</th>\n",
       "      <td>200.000000</td>\n",
       "      <td>415.000000</td>\n",
       "      <td>1.000000</td>\n",
       "      <td>1.000000</td>\n",
       "    </tr>\n",
       "    <tr>\n",
       "      <th>25%</th>\n",
       "      <td>500.000000</td>\n",
       "      <td>1110.000000</td>\n",
       "      <td>2.000000</td>\n",
       "      <td>2.000000</td>\n",
       "    </tr>\n",
       "    <tr>\n",
       "      <th>50%</th>\n",
       "      <td>736.800000</td>\n",
       "      <td>1340.000000</td>\n",
       "      <td>2.000000</td>\n",
       "      <td>3.000000</td>\n",
       "    </tr>\n",
       "    <tr>\n",
       "      <th>75%</th>\n",
       "      <td>1070.000000</td>\n",
       "      <td>1662.500000</td>\n",
       "      <td>3.000000</td>\n",
       "      <td>3.000000</td>\n",
       "    </tr>\n",
       "    <tr>\n",
       "      <th>max</th>\n",
       "      <td>30000.000000</td>\n",
       "      <td>9900.000000</td>\n",
       "      <td>40.000000</td>\n",
       "      <td>16.000000</td>\n",
       "    </tr>\n",
       "  </tbody>\n",
       "</table>\n",
       "</div>"
      ],
      "text/plain": [
       "              price         sqft    bathrooms          bhk\n",
       "count   6207.000000  6207.000000  6170.000000  6207.000000\n",
       "mean    1058.510483  1526.094248     2.709562     2.667633\n",
       "std     1410.943400   764.845609     1.435236     1.017834\n",
       "min      200.000000   415.000000     1.000000     1.000000\n",
       "25%      500.000000  1110.000000     2.000000     2.000000\n",
       "50%      736.800000  1340.000000     2.000000     3.000000\n",
       "75%     1070.000000  1662.500000     3.000000     3.000000\n",
       "max    30000.000000  9900.000000    40.000000    16.000000"
      ]
     },
     "execution_count": 8,
     "metadata": {},
     "output_type": "execute_result"
    }
   ],
   "source": [
    "data.describe()"
   ]
  },
  {
   "cell_type": "code",
   "execution_count": 9,
   "id": "graphic-wireless",
   "metadata": {},
   "outputs": [
    {
     "name": "stdout",
     "output_type": "stream",
     "text": [
      "<class 'pandas.core.frame.DataFrame'>\n",
      "RangeIndex: 6207 entries, 0 to 6206\n",
      "Data columns (total 6 columns):\n",
      " #   Column     Non-Null Count  Dtype  \n",
      "---  ------     --------------  -----  \n",
      " 0   price      6207 non-null   float64\n",
      " 1   sqft       6207 non-null   int64  \n",
      " 2   location   6207 non-null   object \n",
      " 3   bathrooms  6170 non-null   float64\n",
      " 4   bhk        6207 non-null   int64  \n",
      " 5   area_type  6207 non-null   object \n",
      "dtypes: float64(2), int64(2), object(2)\n",
      "memory usage: 291.1+ KB\n"
     ]
    }
   ],
   "source": [
    "data.info()"
   ]
  },
  {
   "cell_type": "code",
   "execution_count": 10,
   "id": "printable-rouge",
   "metadata": {},
   "outputs": [
    {
     "data": {
      "text/plain": [
       "Electronic City Phase 2            232\n",
       "RR Nagar                           217\n",
       "Begur                              186\n",
       "Varthur                            168\n",
       "Kumaraswamy Layout                 154\n",
       "                                  ... \n",
       "Padmanabhanagar                      1\n",
       "Ashwathkatte Road                    1\n",
       "OMBR Layout                          1\n",
       "Kumaraswamy Layout Vittal Nagar      1\n",
       "Electronic City Phase I              1\n",
       "Name: location, Length: 302, dtype: int64"
      ]
     },
     "execution_count": 10,
     "metadata": {},
     "output_type": "execute_result"
    }
   ],
   "source": [
    "data['location'].value_counts()"
   ]
  },
  {
   "cell_type": "code",
   "execution_count": 11,
   "id": "laden-candy",
   "metadata": {},
   "outputs": [],
   "source": [
    "data['location'] = data['location'].fillna('RR Nagar')"
   ]
  },
  {
   "cell_type": "code",
   "execution_count": 12,
   "id": "devoted-kuwait",
   "metadata": {},
   "outputs": [
    {
     "data": {
      "text/plain": [
       "3     2752\n",
       "2     1980\n",
       "4      703\n",
       "1      626\n",
       "5       72\n",
       "6       33\n",
       "7       15\n",
       "8       10\n",
       "9        9\n",
       "10       4\n",
       "16       1\n",
       "13       1\n",
       "11       1\n",
       "Name: bhk, dtype: int64"
      ]
     },
     "execution_count": 12,
     "metadata": {},
     "output_type": "execute_result"
    }
   ],
   "source": [
    "data['bhk'].value_counts()"
   ]
  },
  {
   "cell_type": "code",
   "execution_count": 13,
   "id": "residential-corrections",
   "metadata": {},
   "outputs": [],
   "source": [
    "data['bhk'] = data['bhk'].fillna('2')"
   ]
  },
  {
   "cell_type": "code",
   "execution_count": 14,
   "id": "protective-waterproof",
   "metadata": {},
   "outputs": [],
   "source": [
    "data['bathrooms'] = data['bathrooms'].fillna(data['bathrooms'].median())"
   ]
  },
  {
   "cell_type": "code",
   "execution_count": 15,
   "id": "pointed-spotlight",
   "metadata": {},
   "outputs": [
    {
     "name": "stdout",
     "output_type": "stream",
     "text": [
      "<class 'pandas.core.frame.DataFrame'>\n",
      "RangeIndex: 6207 entries, 0 to 6206\n",
      "Data columns (total 6 columns):\n",
      " #   Column     Non-Null Count  Dtype  \n",
      "---  ------     --------------  -----  \n",
      " 0   price      6207 non-null   float64\n",
      " 1   sqft       6207 non-null   int64  \n",
      " 2   location   6207 non-null   object \n",
      " 3   bathrooms  6207 non-null   float64\n",
      " 4   bhk        6207 non-null   int64  \n",
      " 5   area_type  6207 non-null   object \n",
      "dtypes: float64(2), int64(2), object(2)\n",
      "memory usage: 291.1+ KB\n"
     ]
    }
   ],
   "source": [
    "data.info()"
   ]
  },
  {
   "cell_type": "code",
   "execution_count": 16,
   "id": "remarkable-quebec",
   "metadata": {},
   "outputs": [
    {
     "data": {
      "text/html": [
       "<div>\n",
       "<style scoped>\n",
       "    .dataframe tbody tr th:only-of-type {\n",
       "        vertical-align: middle;\n",
       "    }\n",
       "\n",
       "    .dataframe tbody tr th {\n",
       "        vertical-align: top;\n",
       "    }\n",
       "\n",
       "    .dataframe thead th {\n",
       "        text-align: right;\n",
       "    }\n",
       "</style>\n",
       "<table border=\"1\" class=\"dataframe\">\n",
       "  <thead>\n",
       "    <tr style=\"text-align: right;\">\n",
       "      <th></th>\n",
       "      <th>price</th>\n",
       "      <th>sqft</th>\n",
       "      <th>location</th>\n",
       "      <th>bathrooms</th>\n",
       "      <th>bhk</th>\n",
       "      <th>area_type</th>\n",
       "    </tr>\n",
       "  </thead>\n",
       "  <tbody>\n",
       "  </tbody>\n",
       "</table>\n",
       "</div>"
      ],
      "text/plain": [
       "Empty DataFrame\n",
       "Columns: [price, sqft, location, bathrooms, bhk, area_type]\n",
       "Index: []"
      ]
     },
     "execution_count": 16,
     "metadata": {},
     "output_type": "execute_result"
    }
   ],
   "source": [
    "data[data.bhk > 20]"
   ]
  },
  {
   "cell_type": "code",
   "execution_count": 17,
   "id": "second-berlin",
   "metadata": {},
   "outputs": [
    {
     "data": {
      "text/plain": [
       "array([3340, 1045, 1179, ..., 2204,  873, 2064], dtype=int64)"
      ]
     },
     "execution_count": 17,
     "metadata": {},
     "output_type": "execute_result"
    }
   ],
   "source": [
    "data['sqft'].unique()"
   ]
  },
  {
   "cell_type": "code",
   "execution_count": 18,
   "id": "instructional-thong",
   "metadata": {},
   "outputs": [],
   "source": [
    "def convertRange(x):\n",
    "    temp = x.split('-')\n",
    "    if len(temp) == 2:\n",
    "        return (float(temp[0]) + float(temp[1]))/2\n",
    "    try:\n",
    "        return float(x)\n",
    "    except:\n",
    "        return None"
   ]
  },
  {
   "cell_type": "code",
   "execution_count": 19,
   "id": "floating-appearance",
   "metadata": {},
   "outputs": [
    {
     "data": {
      "text/html": [
       "<div>\n",
       "<style scoped>\n",
       "    .dataframe tbody tr th:only-of-type {\n",
       "        vertical-align: middle;\n",
       "    }\n",
       "\n",
       "    .dataframe tbody tr th {\n",
       "        vertical-align: top;\n",
       "    }\n",
       "\n",
       "    .dataframe thead th {\n",
       "        text-align: right;\n",
       "    }\n",
       "</style>\n",
       "<table border=\"1\" class=\"dataframe\">\n",
       "  <thead>\n",
       "    <tr style=\"text-align: right;\">\n",
       "      <th></th>\n",
       "      <th>price</th>\n",
       "      <th>sqft</th>\n",
       "      <th>location</th>\n",
       "      <th>bathrooms</th>\n",
       "      <th>bhk</th>\n",
       "      <th>area_type</th>\n",
       "    </tr>\n",
       "  </thead>\n",
       "  <tbody>\n",
       "    <tr>\n",
       "      <th>0</th>\n",
       "      <td>3000.0</td>\n",
       "      <td>3340</td>\n",
       "      <td>JP Nagar Phase 1</td>\n",
       "      <td>2.0</td>\n",
       "      <td>1</td>\n",
       "      <td>Super built-up Area</td>\n",
       "    </tr>\n",
       "    <tr>\n",
       "      <th>1</th>\n",
       "      <td>788.8</td>\n",
       "      <td>1045</td>\n",
       "      <td>Dasarahalli on Tumkur Road</td>\n",
       "      <td>5.0</td>\n",
       "      <td>3</td>\n",
       "      <td>Plot Area</td>\n",
       "    </tr>\n",
       "    <tr>\n",
       "      <th>2</th>\n",
       "      <td>486.6</td>\n",
       "      <td>1179</td>\n",
       "      <td>Kannur on Thanisandra Main Road</td>\n",
       "      <td>2.0</td>\n",
       "      <td>3</td>\n",
       "      <td>Built-up Area</td>\n",
       "    </tr>\n",
       "    <tr>\n",
       "      <th>3</th>\n",
       "      <td>835.8</td>\n",
       "      <td>1675</td>\n",
       "      <td>Doddanekundi</td>\n",
       "      <td>3.0</td>\n",
       "      <td>2</td>\n",
       "      <td>Super built-up Area</td>\n",
       "    </tr>\n",
       "    <tr>\n",
       "      <th>4</th>\n",
       "      <td>684.5</td>\n",
       "      <td>1670</td>\n",
       "      <td>Kengeri</td>\n",
       "      <td>2.0</td>\n",
       "      <td>4</td>\n",
       "      <td>Super built-up Area</td>\n",
       "    </tr>\n",
       "  </tbody>\n",
       "</table>\n",
       "</div>"
      ],
      "text/plain": [
       "    price  sqft                         location  bathrooms  bhk  \\\n",
       "0  3000.0  3340                 JP Nagar Phase 1        2.0    1   \n",
       "1   788.8  1045       Dasarahalli on Tumkur Road        5.0    3   \n",
       "2   486.6  1179  Kannur on Thanisandra Main Road        2.0    3   \n",
       "3   835.8  1675                     Doddanekundi        3.0    2   \n",
       "4   684.5  1670                          Kengeri        2.0    4   \n",
       "\n",
       "             area_type  \n",
       "0  Super built-up Area  \n",
       "1            Plot Area  \n",
       "2        Built-up Area  \n",
       "3  Super built-up Area  \n",
       "4  Super built-up Area  "
      ]
     },
     "execution_count": 19,
     "metadata": {},
     "output_type": "execute_result"
    }
   ],
   "source": [
    "# data['sqft'] = data['sqft'].apply(convertRange)\n",
    "data.head()"
   ]
  },
  {
   "cell_type": "markdown",
   "id": "needed-regulation",
   "metadata": {},
   "source": [
    "# Price Per Square Feet"
   ]
  },
  {
   "cell_type": "code",
   "execution_count": 20,
   "id": "progressive-power",
   "metadata": {},
   "outputs": [],
   "source": [
    "data['sqft'] = data['price'] * 100000 / data['sqft']"
   ]
  },
  {
   "cell_type": "code",
   "execution_count": 21,
   "id": "underlying-lucas",
   "metadata": {},
   "outputs": [
    {
     "data": {
      "text/plain": [
       "Electronic City Phase 2            232\n",
       "RR Nagar                           217\n",
       "Begur                              186\n",
       "Varthur                            168\n",
       "Kumaraswamy Layout                 154\n",
       "                                  ... \n",
       "Padmanabhanagar                      1\n",
       "Ashwathkatte Road                    1\n",
       "OMBR Layout                          1\n",
       "Kumaraswamy Layout Vittal Nagar      1\n",
       "Electronic City Phase I              1\n",
       "Name: location, Length: 302, dtype: int64"
      ]
     },
     "execution_count": 21,
     "metadata": {},
     "output_type": "execute_result"
    }
   ],
   "source": [
    "data['location'].value_counts()"
   ]
  },
  {
   "cell_type": "code",
   "execution_count": 22,
   "id": "complimentary-coordinator",
   "metadata": {},
   "outputs": [],
   "source": [
    "data['location'] = data['location'].apply(lambda x: x.strip())"
   ]
  },
  {
   "cell_type": "code",
   "execution_count": 23,
   "id": "understood-amber",
   "metadata": {},
   "outputs": [
    {
     "data": {
      "text/plain": [
       "0                      JP Nagar Phase 1\n",
       "1            Dasarahalli on Tumkur Road\n",
       "2       Kannur on Thanisandra Main Road\n",
       "3                          Doddanekundi\n",
       "4                               Kengeri\n",
       "                     ...               \n",
       "6202                         Chandapura\n",
       "6203                      Kasavanahalli\n",
       "6204                      Kasavanahalli\n",
       "6205                      Kasavanahalli\n",
       "6206                      Kasavanahalli\n",
       "Name: location, Length: 6207, dtype: object"
      ]
     },
     "execution_count": 23,
     "metadata": {},
     "output_type": "execute_result"
    }
   ],
   "source": [
    "data['location']"
   ]
  },
  {
   "cell_type": "code",
   "execution_count": 24,
   "id": "passive-invitation",
   "metadata": {},
   "outputs": [],
   "source": [
    "location_count = data['location'].value_counts()"
   ]
  },
  {
   "cell_type": "code",
   "execution_count": 25,
   "id": "interesting-baptist",
   "metadata": {},
   "outputs": [
    {
     "data": {
      "text/plain": [
       "Electronic City Phase 2            232\n",
       "RR Nagar                           217\n",
       "Begur                              186\n",
       "Varthur                            168\n",
       "Kumaraswamy Layout                 154\n",
       "                                  ... \n",
       "Padmanabhanagar                      1\n",
       "Ashwathkatte Road                    1\n",
       "OMBR Layout                          1\n",
       "Kumaraswamy Layout Vittal Nagar      1\n",
       "Electronic City Phase I              1\n",
       "Name: location, Length: 302, dtype: int64"
      ]
     },
     "execution_count": 25,
     "metadata": {},
     "output_type": "execute_result"
    }
   ],
   "source": [
    "location_count"
   ]
  },
  {
   "cell_type": "code",
   "execution_count": 26,
   "id": "structural-plumbing",
   "metadata": {},
   "outputs": [
    {
     "data": {
      "text/plain": [
       "Whitefield                         10\n",
       "Kanakapura                         10\n",
       "RR Nagar Main Road                  9\n",
       "JP Nagar Phase 6                    9\n",
       "Bagalur                             9\n",
       "                                   ..\n",
       "Padmanabhanagar                     1\n",
       "Ashwathkatte Road                   1\n",
       "OMBR Layout                         1\n",
       "Kumaraswamy Layout Vittal Nagar     1\n",
       "Electronic City Phase I             1\n",
       "Name: location, Length: 190, dtype: int64"
      ]
     },
     "execution_count": 26,
     "metadata": {},
     "output_type": "execute_result"
    }
   ],
   "source": [
    "location_count_less_10 = location_count[location_count <= 10]\n",
    "location_count_less_10"
   ]
  },
  {
   "cell_type": "code",
   "execution_count": 27,
   "id": "urban-engineering",
   "metadata": {},
   "outputs": [],
   "source": [
    "data['location'] = data['location'].apply(lambda x: 'Other' if x in location_count_less_10 else x)"
   ]
  },
  {
   "cell_type": "code",
   "execution_count": 28,
   "id": "whole-karen",
   "metadata": {},
   "outputs": [
    {
     "data": {
      "text/plain": [
       "Other                      525\n",
       "Electronic City Phase 2    232\n",
       "RR Nagar                   217\n",
       "Begur                      186\n",
       "Varthur                    168\n",
       "                          ... \n",
       "Lingarajapuram              11\n",
       "Uttarahalli Hobli           11\n",
       "5th Phase                   11\n",
       "Nayandahalli                11\n",
       "KPC Layout                  11\n",
       "Name: location, Length: 113, dtype: int64"
      ]
     },
     "execution_count": 28,
     "metadata": {},
     "output_type": "execute_result"
    }
   ],
   "source": [
    "data['location'].value_counts()"
   ]
  },
  {
   "cell_type": "markdown",
   "id": "temporal-commons",
   "metadata": {},
   "source": [
    "# Outlier Detection and Removal"
   ]
  },
  {
   "cell_type": "code",
   "execution_count": 29,
   "id": "dense-guyana",
   "metadata": {},
   "outputs": [
    {
     "data": {
      "text/plain": [
       "count    6.207000e+03\n",
       "mean     3.101363e+04\n",
       "std      4.782025e+04\n",
       "min      1.500464e+03\n",
       "25%      1.411323e+04\n",
       "50%      2.127660e+04\n",
       "75%      3.299055e+04\n",
       "max      1.735160e+06\n",
       "dtype: float64"
      ]
     },
     "execution_count": 29,
     "metadata": {},
     "output_type": "execute_result"
    }
   ],
   "source": [
    "(data['sqft'] / data['bhk']).describe()"
   ]
  },
  {
   "cell_type": "code",
   "execution_count": 30,
   "id": "restricted-addiction",
   "metadata": {},
   "outputs": [
    {
     "data": {
      "text/html": [
       "<div>\n",
       "<style scoped>\n",
       "    .dataframe tbody tr th:only-of-type {\n",
       "        vertical-align: middle;\n",
       "    }\n",
       "\n",
       "    .dataframe tbody tr th {\n",
       "        vertical-align: top;\n",
       "    }\n",
       "\n",
       "    .dataframe thead th {\n",
       "        text-align: right;\n",
       "    }\n",
       "</style>\n",
       "<table border=\"1\" class=\"dataframe\">\n",
       "  <thead>\n",
       "    <tr style=\"text-align: right;\">\n",
       "      <th></th>\n",
       "      <th>price</th>\n",
       "      <th>sqft</th>\n",
       "      <th>bathrooms</th>\n",
       "      <th>bhk</th>\n",
       "    </tr>\n",
       "  </thead>\n",
       "  <tbody>\n",
       "    <tr>\n",
       "      <th>count</th>\n",
       "      <td>6207.000000</td>\n",
       "      <td>6.207000e+03</td>\n",
       "      <td>6207.000000</td>\n",
       "      <td>6207.000000</td>\n",
       "    </tr>\n",
       "    <tr>\n",
       "      <th>mean</th>\n",
       "      <td>1058.510483</td>\n",
       "      <td>7.073572e+04</td>\n",
       "      <td>2.705333</td>\n",
       "      <td>2.667633</td>\n",
       "    </tr>\n",
       "    <tr>\n",
       "      <th>std</th>\n",
       "      <td>1410.943400</td>\n",
       "      <td>1.050364e+05</td>\n",
       "      <td>1.431993</td>\n",
       "      <td>1.017834</td>\n",
       "    </tr>\n",
       "    <tr>\n",
       "      <th>min</th>\n",
       "      <td>200.000000</td>\n",
       "      <td>4.323034e+03</td>\n",
       "      <td>1.000000</td>\n",
       "      <td>1.000000</td>\n",
       "    </tr>\n",
       "    <tr>\n",
       "      <th>25%</th>\n",
       "      <td>500.000000</td>\n",
       "      <td>4.038424e+04</td>\n",
       "      <td>2.000000</td>\n",
       "      <td>2.000000</td>\n",
       "    </tr>\n",
       "    <tr>\n",
       "      <th>50%</th>\n",
       "      <td>736.800000</td>\n",
       "      <td>5.371787e+04</td>\n",
       "      <td>2.000000</td>\n",
       "      <td>3.000000</td>\n",
       "    </tr>\n",
       "    <tr>\n",
       "      <th>75%</th>\n",
       "      <td>1070.000000</td>\n",
       "      <td>7.243584e+04</td>\n",
       "      <td>3.000000</td>\n",
       "      <td>3.000000</td>\n",
       "    </tr>\n",
       "    <tr>\n",
       "      <th>max</th>\n",
       "      <td>30000.000000</td>\n",
       "      <td>3.821656e+06</td>\n",
       "      <td>40.000000</td>\n",
       "      <td>16.000000</td>\n",
       "    </tr>\n",
       "  </tbody>\n",
       "</table>\n",
       "</div>"
      ],
      "text/plain": [
       "              price          sqft    bathrooms          bhk\n",
       "count   6207.000000  6.207000e+03  6207.000000  6207.000000\n",
       "mean    1058.510483  7.073572e+04     2.705333     2.667633\n",
       "std     1410.943400  1.050364e+05     1.431993     1.017834\n",
       "min      200.000000  4.323034e+03     1.000000     1.000000\n",
       "25%      500.000000  4.038424e+04     2.000000     2.000000\n",
       "50%      736.800000  5.371787e+04     2.000000     3.000000\n",
       "75%     1070.000000  7.243584e+04     3.000000     3.000000\n",
       "max    30000.000000  3.821656e+06    40.000000    16.000000"
      ]
     },
     "execution_count": 30,
     "metadata": {},
     "output_type": "execute_result"
    }
   ],
   "source": [
    "data = data[((data['sqft']/data['bhk']) >= 300)]\n",
    "data.describe()"
   ]
  },
  {
   "cell_type": "code",
   "execution_count": 31,
   "id": "sonic-butler",
   "metadata": {},
   "outputs": [
    {
     "data": {
      "text/plain": [
       "(6207, 6)"
      ]
     },
     "execution_count": 31,
     "metadata": {},
     "output_type": "execute_result"
    }
   ],
   "source": [
    "data.shape"
   ]
  },
  {
   "cell_type": "code",
   "execution_count": 32,
   "id": "bridal-biodiversity",
   "metadata": {},
   "outputs": [
    {
     "data": {
      "text/plain": [
       "count     6207.000000\n",
       "mean      1058.510483\n",
       "std       1410.943400\n",
       "min        200.000000\n",
       "25%        500.000000\n",
       "50%        736.800000\n",
       "75%       1070.000000\n",
       "max      30000.000000\n",
       "Name: price, dtype: float64"
      ]
     },
     "execution_count": 32,
     "metadata": {},
     "output_type": "execute_result"
    }
   ],
   "source": [
    "data.price.describe()"
   ]
  },
  {
   "cell_type": "code",
   "execution_count": 33,
   "id": "adjacent-disney",
   "metadata": {},
   "outputs": [
    {
     "data": {
      "text/html": [
       "<div>\n",
       "<style scoped>\n",
       "    .dataframe tbody tr th:only-of-type {\n",
       "        vertical-align: middle;\n",
       "    }\n",
       "\n",
       "    .dataframe tbody tr th {\n",
       "        vertical-align: top;\n",
       "    }\n",
       "\n",
       "    .dataframe thead th {\n",
       "        text-align: right;\n",
       "    }\n",
       "</style>\n",
       "<table border=\"1\" class=\"dataframe\">\n",
       "  <thead>\n",
       "    <tr style=\"text-align: right;\">\n",
       "      <th></th>\n",
       "      <th>price</th>\n",
       "      <th>sqft</th>\n",
       "      <th>bathrooms</th>\n",
       "      <th>bhk</th>\n",
       "    </tr>\n",
       "  </thead>\n",
       "  <tbody>\n",
       "    <tr>\n",
       "      <th>count</th>\n",
       "      <td>5339.000000</td>\n",
       "      <td>5339.000000</td>\n",
       "      <td>5339.000000</td>\n",
       "      <td>5339.000000</td>\n",
       "    </tr>\n",
       "    <tr>\n",
       "      <th>mean</th>\n",
       "      <td>844.635357</td>\n",
       "      <td>58418.963164</td>\n",
       "      <td>2.703315</td>\n",
       "      <td>2.663233</td>\n",
       "    </tr>\n",
       "    <tr>\n",
       "      <th>std</th>\n",
       "      <td>698.141709</td>\n",
       "      <td>32304.247647</td>\n",
       "      <td>1.455474</td>\n",
       "      <td>1.002292</td>\n",
       "    </tr>\n",
       "    <tr>\n",
       "      <th>min</th>\n",
       "      <td>209.600000</td>\n",
       "      <td>4323.034080</td>\n",
       "      <td>1.000000</td>\n",
       "      <td>1.000000</td>\n",
       "    </tr>\n",
       "    <tr>\n",
       "      <th>25%</th>\n",
       "      <td>494.000000</td>\n",
       "      <td>40000.000000</td>\n",
       "      <td>2.000000</td>\n",
       "      <td>2.000000</td>\n",
       "    </tr>\n",
       "    <tr>\n",
       "      <th>50%</th>\n",
       "      <td>700.500000</td>\n",
       "      <td>52306.122449</td>\n",
       "      <td>2.000000</td>\n",
       "      <td>3.000000</td>\n",
       "    </tr>\n",
       "    <tr>\n",
       "      <th>75%</th>\n",
       "      <td>945.200000</td>\n",
       "      <td>67571.404454</td>\n",
       "      <td>3.000000</td>\n",
       "      <td>3.000000</td>\n",
       "    </tr>\n",
       "    <tr>\n",
       "      <th>max</th>\n",
       "      <td>7870.000000</td>\n",
       "      <td>359615.384615</td>\n",
       "      <td>40.000000</td>\n",
       "      <td>13.000000</td>\n",
       "    </tr>\n",
       "  </tbody>\n",
       "</table>\n",
       "</div>"
      ],
      "text/plain": [
       "             price           sqft    bathrooms          bhk\n",
       "count  5339.000000    5339.000000  5339.000000  5339.000000\n",
       "mean    844.635357   58418.963164     2.703315     2.663233\n",
       "std     698.141709   32304.247647     1.455474     1.002292\n",
       "min     209.600000    4323.034080     1.000000     1.000000\n",
       "25%     494.000000   40000.000000     2.000000     2.000000\n",
       "50%     700.500000   52306.122449     2.000000     3.000000\n",
       "75%     945.200000   67571.404454     3.000000     3.000000\n",
       "max    7870.000000  359615.384615    40.000000    13.000000"
      ]
     },
     "execution_count": 33,
     "metadata": {},
     "output_type": "execute_result"
    }
   ],
   "source": [
    "def remove_outliers_sqft(df):\n",
    "    df_output = pd.DataFrame()\n",
    "    for key,subdf in df.groupby('location'):\n",
    "        m = np.mean(subdf.price)\n",
    "        st = np.std(subdf.price)\n",
    "        gen_df = subdf[(subdf.price > (m-st)) & (subdf.price <= (m+st))]\n",
    "        df_output = pd.concat([df_output,gen_df],ignore_index =True)\n",
    "    return df_output\n",
    "data = remove_outliers_sqft(data)\n",
    "data.describe()"
   ]
  },
  {
   "cell_type": "code",
   "execution_count": 34,
   "id": "hired-islam",
   "metadata": {},
   "outputs": [],
   "source": [
    "def bhk_outlier_remover(df):\n",
    "    exclude_indices = np.array([])\n",
    "    for location, loc_df in df.groupby('location'):\n",
    "        bhk_stats = {}\n",
    "        for bhk, bhk_df in loc_df.groupby('bhk'):\n",
    "            bhk_stats[bhk] = {\n",
    "                'mean': np.mean(bhk_df.price),\n",
    "                'std': np.std(bhk_df.price),\n",
    "                'count': bhk_df.shape[0]\n",
    "            }\n",
    "        for bhk, bhk_df in loc_df.groupby('bhk'):\n",
    "            stats = bhk_stats.get(bhk-1)\n",
    "            if stats and stats['count']>5:\n",
    "                exclude_indices = np.append(exclude_indices, bhk_df[bhk_df.price<(stats['mean'])].index.values)\n",
    "    return df.drop(exclude_indices,axis='index')"
   ]
  },
  {
   "cell_type": "code",
   "execution_count": 35,
   "id": "adjustable-check",
   "metadata": {},
   "outputs": [],
   "source": [
    "data = bhk_outlier_remover(data)"
   ]
  },
  {
   "cell_type": "code",
   "execution_count": 36,
   "id": "diverse-trunk",
   "metadata": {},
   "outputs": [
    {
     "data": {
      "text/plain": [
       "(3228, 6)"
      ]
     },
     "execution_count": 36,
     "metadata": {},
     "output_type": "execute_result"
    }
   ],
   "source": [
    "data.shape"
   ]
  },
  {
   "cell_type": "code",
   "execution_count": 37,
   "id": "ignored-superintendent",
   "metadata": {},
   "outputs": [
    {
     "data": {
      "text/html": [
       "<div>\n",
       "<style scoped>\n",
       "    .dataframe tbody tr th:only-of-type {\n",
       "        vertical-align: middle;\n",
       "    }\n",
       "\n",
       "    .dataframe tbody tr th {\n",
       "        vertical-align: top;\n",
       "    }\n",
       "\n",
       "    .dataframe thead th {\n",
       "        text-align: right;\n",
       "    }\n",
       "</style>\n",
       "<table border=\"1\" class=\"dataframe\">\n",
       "  <thead>\n",
       "    <tr style=\"text-align: right;\">\n",
       "      <th></th>\n",
       "      <th>price</th>\n",
       "      <th>sqft</th>\n",
       "      <th>location</th>\n",
       "      <th>bathrooms</th>\n",
       "      <th>bhk</th>\n",
       "      <th>area_type</th>\n",
       "    </tr>\n",
       "  </thead>\n",
       "  <tbody>\n",
       "    <tr>\n",
       "      <th>0</th>\n",
       "      <td>670.0000</td>\n",
       "      <td>56779.661017</td>\n",
       "      <td>5th Phase</td>\n",
       "      <td>5.0</td>\n",
       "      <td>3</td>\n",
       "      <td>Super built-up Area</td>\n",
       "    </tr>\n",
       "    <tr>\n",
       "      <th>1</th>\n",
       "      <td>580.0000</td>\n",
       "      <td>48945.147679</td>\n",
       "      <td>5th Phase</td>\n",
       "      <td>3.0</td>\n",
       "      <td>3</td>\n",
       "      <td>Super built-up Area</td>\n",
       "    </tr>\n",
       "    <tr>\n",
       "      <th>2</th>\n",
       "      <td>850.0000</td>\n",
       "      <td>59440.559441</td>\n",
       "      <td>5th Phase</td>\n",
       "      <td>2.0</td>\n",
       "      <td>3</td>\n",
       "      <td>Super built-up Area</td>\n",
       "    </tr>\n",
       "    <tr>\n",
       "      <th>3</th>\n",
       "      <td>840.0000</td>\n",
       "      <td>71186.440678</td>\n",
       "      <td>5th Phase</td>\n",
       "      <td>2.0</td>\n",
       "      <td>1</td>\n",
       "      <td>Plot Area</td>\n",
       "    </tr>\n",
       "    <tr>\n",
       "      <th>4</th>\n",
       "      <td>487.6000</td>\n",
       "      <td>41147.679325</td>\n",
       "      <td>5th Phase</td>\n",
       "      <td>3.0</td>\n",
       "      <td>3</td>\n",
       "      <td>Super built-up Area</td>\n",
       "    </tr>\n",
       "    <tr>\n",
       "      <th>...</th>\n",
       "      <td>...</td>\n",
       "      <td>...</td>\n",
       "      <td>...</td>\n",
       "      <td>...</td>\n",
       "      <td>...</td>\n",
       "      <td>...</td>\n",
       "    </tr>\n",
       "    <tr>\n",
       "      <th>5332</th>\n",
       "      <td>376.1999</td>\n",
       "      <td>39893.944857</td>\n",
       "      <td>sarjapura attibele road</td>\n",
       "      <td>3.0</td>\n",
       "      <td>2</td>\n",
       "      <td>Super built-up Area</td>\n",
       "    </tr>\n",
       "    <tr>\n",
       "      <th>5333</th>\n",
       "      <td>356.4000</td>\n",
       "      <td>32400.000000</td>\n",
       "      <td>sarjapura attibele road</td>\n",
       "      <td>2.0</td>\n",
       "      <td>2</td>\n",
       "      <td>Super built-up Area</td>\n",
       "    </tr>\n",
       "    <tr>\n",
       "      <th>5336</th>\n",
       "      <td>485.2000</td>\n",
       "      <td>47662.082515</td>\n",
       "      <td>sarjapura attibele road</td>\n",
       "      <td>5.0</td>\n",
       "      <td>2</td>\n",
       "      <td>Plot Area</td>\n",
       "    </tr>\n",
       "    <tr>\n",
       "      <th>5337</th>\n",
       "      <td>633.2000</td>\n",
       "      <td>43162.917519</td>\n",
       "      <td>sarjapura attibele road</td>\n",
       "      <td>5.0</td>\n",
       "      <td>3</td>\n",
       "      <td>Plot Area</td>\n",
       "    </tr>\n",
       "    <tr>\n",
       "      <th>5338</th>\n",
       "      <td>517.5000</td>\n",
       "      <td>36937.901499</td>\n",
       "      <td>sarjapura attibele road</td>\n",
       "      <td>3.0</td>\n",
       "      <td>2</td>\n",
       "      <td>Super built-up Area</td>\n",
       "    </tr>\n",
       "  </tbody>\n",
       "</table>\n",
       "<p>3228 rows × 6 columns</p>\n",
       "</div>"
      ],
      "text/plain": [
       "         price          sqft                 location  bathrooms  bhk  \\\n",
       "0     670.0000  56779.661017                5th Phase        5.0    3   \n",
       "1     580.0000  48945.147679                5th Phase        3.0    3   \n",
       "2     850.0000  59440.559441                5th Phase        2.0    3   \n",
       "3     840.0000  71186.440678                5th Phase        2.0    1   \n",
       "4     487.6000  41147.679325                5th Phase        3.0    3   \n",
       "...        ...           ...                      ...        ...  ...   \n",
       "5332  376.1999  39893.944857  sarjapura attibele road        3.0    2   \n",
       "5333  356.4000  32400.000000  sarjapura attibele road        2.0    2   \n",
       "5336  485.2000  47662.082515  sarjapura attibele road        5.0    2   \n",
       "5337  633.2000  43162.917519  sarjapura attibele road        5.0    3   \n",
       "5338  517.5000  36937.901499  sarjapura attibele road        3.0    2   \n",
       "\n",
       "                area_type  \n",
       "0     Super built-up Area  \n",
       "1     Super built-up Area  \n",
       "2     Super built-up Area  \n",
       "3               Plot Area  \n",
       "4     Super built-up Area  \n",
       "...                   ...  \n",
       "5332  Super built-up Area  \n",
       "5333  Super built-up Area  \n",
       "5336            Plot Area  \n",
       "5337            Plot Area  \n",
       "5338  Super built-up Area  \n",
       "\n",
       "[3228 rows x 6 columns]"
      ]
     },
     "execution_count": 37,
     "metadata": {},
     "output_type": "execute_result"
    }
   ],
   "source": [
    "data"
   ]
  },
  {
   "cell_type": "markdown",
   "id": "expensive-permit",
   "metadata": {},
   "source": [
    "# Cleaned Data"
   ]
  },
  {
   "cell_type": "code",
   "execution_count": 38,
   "id": "constitutional-journal",
   "metadata": {},
   "outputs": [],
   "source": [
    "data.head()\n",
    "data.drop(columns=['area_type'],inplace=True)"
   ]
  },
  {
   "cell_type": "code",
   "execution_count": 39,
   "id": "floating-burlington",
   "metadata": {},
   "outputs": [],
   "source": [
    "data.to_csv(\"Bengalore_Cleaned_data.csv\")"
   ]
  },
  {
   "cell_type": "code",
   "execution_count": 40,
   "id": "loose-stomach",
   "metadata": {},
   "outputs": [],
   "source": [
    "X = data.drop(columns=['price'])\n",
    "y = data['price']"
   ]
  },
  {
   "cell_type": "code",
   "execution_count": 41,
   "id": "relevant-pointer",
   "metadata": {},
   "outputs": [],
   "source": [
    "from sklearn.model_selection import train_test_split\n",
    "from sklearn.linear_model import LinearRegression,Lasso,Ridge\n",
    "from sklearn.preprocessing import OneHotEncoder, StandardScaler\n",
    "from sklearn.compose import make_column_transformer\n",
    "from sklearn.pipeline import make_pipeline\n",
    "from sklearn.metrics import r2_score"
   ]
  },
  {
   "cell_type": "code",
   "execution_count": 42,
   "id": "sunset-affect",
   "metadata": {},
   "outputs": [],
   "source": [
    "X_train,X_test,y_train,y_test = train_test_split(X,y,test_size=0.2, random_state=0)"
   ]
  },
  {
   "cell_type": "code",
   "execution_count": 43,
   "id": "global-permit",
   "metadata": {},
   "outputs": [
    {
     "name": "stdout",
     "output_type": "stream",
     "text": [
      "(2582, 4)\n",
      "(646, 4)\n"
     ]
    }
   ],
   "source": [
    "print(X_train.shape)\n",
    "print(X_test.shape)"
   ]
  },
  {
   "cell_type": "markdown",
   "id": "expensive-profit",
   "metadata": {},
   "source": [
    "# Applying Linear Regression"
   ]
  },
  {
   "cell_type": "code",
   "execution_count": 44,
   "id": "complimentary-inside",
   "metadata": {},
   "outputs": [],
   "source": [
    "column_trans = make_column_transformer((OneHotEncoder(sparse=False), ['location']),remainder='passthrough')"
   ]
  },
  {
   "cell_type": "code",
   "execution_count": 45,
   "id": "intimate-marsh",
   "metadata": {},
   "outputs": [],
   "source": [
    "scaler = StandardScaler()"
   ]
  },
  {
   "cell_type": "code",
   "execution_count": 46,
   "id": "painted-degree",
   "metadata": {},
   "outputs": [],
   "source": [
    "lr = LinearRegression(normalize=True)"
   ]
  },
  {
   "cell_type": "code",
   "execution_count": 47,
   "id": "stock-invasion",
   "metadata": {},
   "outputs": [],
   "source": [
    "pipe = make_pipeline(column_trans,scaler,lr)"
   ]
  },
  {
   "cell_type": "code",
   "execution_count": 48,
   "id": "congressional-devices",
   "metadata": {},
   "outputs": [
    {
     "data": {
      "text/plain": [
       "Pipeline(steps=[('columntransformer',\n",
       "                 ColumnTransformer(remainder='passthrough',\n",
       "                                   transformers=[('onehotencoder',\n",
       "                                                  OneHotEncoder(sparse=False),\n",
       "                                                  ['location'])])),\n",
       "                ('standardscaler', StandardScaler()),\n",
       "                ('linearregression', LinearRegression(normalize=True))])"
      ]
     },
     "execution_count": 48,
     "metadata": {},
     "output_type": "execute_result"
    }
   ],
   "source": [
    "pipe.fit(X_train,y_train)"
   ]
  },
  {
   "cell_type": "code",
   "execution_count": 49,
   "id": "concerned-champagne",
   "metadata": {},
   "outputs": [],
   "source": [
    "y_pred_lr = pipe.predict(X_test)"
   ]
  },
  {
   "cell_type": "code",
   "execution_count": 50,
   "id": "surprising-decision",
   "metadata": {},
   "outputs": [
    {
     "data": {
      "text/plain": [
       "0.8288288377402327"
      ]
     },
     "execution_count": 50,
     "metadata": {},
     "output_type": "execute_result"
    }
   ],
   "source": [
    "r2_score(y_test, y_pred_lr)"
   ]
  },
  {
   "cell_type": "markdown",
   "id": "neural-training",
   "metadata": {},
   "source": [
    "# Applying Lasso"
   ]
  },
  {
   "cell_type": "code",
   "execution_count": 51,
   "id": "whole-reading",
   "metadata": {},
   "outputs": [],
   "source": [
    "lasso = Lasso()"
   ]
  },
  {
   "cell_type": "code",
   "execution_count": 52,
   "id": "linear-spank",
   "metadata": {},
   "outputs": [],
   "source": [
    "pipe = make_pipeline(column_trans, scaler, lasso)"
   ]
  },
  {
   "cell_type": "code",
   "execution_count": 53,
   "id": "consistent-transition",
   "metadata": {},
   "outputs": [
    {
     "data": {
      "text/plain": [
       "Pipeline(steps=[('columntransformer',\n",
       "                 ColumnTransformer(remainder='passthrough',\n",
       "                                   transformers=[('onehotencoder',\n",
       "                                                  OneHotEncoder(sparse=False),\n",
       "                                                  ['location'])])),\n",
       "                ('standardscaler', StandardScaler()), ('lasso', Lasso())])"
      ]
     },
     "execution_count": 53,
     "metadata": {},
     "output_type": "execute_result"
    }
   ],
   "source": [
    "pipe.fit(X_train, y_train)"
   ]
  },
  {
   "cell_type": "code",
   "execution_count": 54,
   "id": "united-tuner",
   "metadata": {},
   "outputs": [],
   "source": [
    "y_pred_lasso = pipe.predict(X_test)"
   ]
  },
  {
   "cell_type": "code",
   "execution_count": 55,
   "id": "latest-blake",
   "metadata": {},
   "outputs": [
    {
     "data": {
      "text/plain": [
       "0.8291928997295084"
      ]
     },
     "execution_count": 55,
     "metadata": {},
     "output_type": "execute_result"
    }
   ],
   "source": [
    "r2_score(y_test, y_pred_lasso)"
   ]
  },
  {
   "cell_type": "markdown",
   "id": "complimentary-association",
   "metadata": {},
   "source": [
    "# Applying Ridge"
   ]
  },
  {
   "cell_type": "code",
   "execution_count": 56,
   "id": "missing-hazard",
   "metadata": {},
   "outputs": [],
   "source": [
    "ridge = Ridge()"
   ]
  },
  {
   "cell_type": "code",
   "execution_count": 57,
   "id": "collectible-shirt",
   "metadata": {},
   "outputs": [],
   "source": [
    "pipe = make_pipeline(column_trans, scaler, ridge)"
   ]
  },
  {
   "cell_type": "code",
   "execution_count": 58,
   "id": "superb-engineer",
   "metadata": {},
   "outputs": [
    {
     "data": {
      "text/plain": [
       "Pipeline(steps=[('columntransformer',\n",
       "                 ColumnTransformer(remainder='passthrough',\n",
       "                                   transformers=[('onehotencoder',\n",
       "                                                  OneHotEncoder(sparse=False),\n",
       "                                                  ['location'])])),\n",
       "                ('standardscaler', StandardScaler()), ('ridge', Ridge())])"
      ]
     },
     "execution_count": 58,
     "metadata": {},
     "output_type": "execute_result"
    }
   ],
   "source": [
    "pipe.fit(X_train, y_train)"
   ]
  },
  {
   "cell_type": "code",
   "execution_count": 59,
   "id": "acting-fireplace",
   "metadata": {},
   "outputs": [],
   "source": [
    "y_pred_ridge = pipe.predict(X_test)"
   ]
  },
  {
   "cell_type": "code",
   "execution_count": 60,
   "id": "ultimate-medium",
   "metadata": {},
   "outputs": [
    {
     "data": {
      "text/plain": [
       "0.8293242275716046"
      ]
     },
     "execution_count": 60,
     "metadata": {},
     "output_type": "execute_result"
    }
   ],
   "source": [
    "r2_score(y_test, y_pred_ridge)"
   ]
  },
  {
   "cell_type": "code",
   "execution_count": 62,
   "id": "nominated-posting",
   "metadata": {},
   "outputs": [
    {
     "name": "stdout",
     "output_type": "stream",
     "text": [
      "Linear Regression:  0.8288288377402327\n",
      "Lasso:  0.8291928997295084\n",
      "Ridge:  0.8293242275716046\n"
     ]
    }
   ],
   "source": [
    "print(\"Linear Regression: \", r2_score(y_test, y_pred_lr))\n",
    "print(\"Lasso: \", r2_score(y_test, y_pred_lasso))\n",
    "print(\"Ridge: \", r2_score(y_test, y_pred_ridge))"
   ]
  },
  {
   "cell_type": "code",
   "execution_count": null,
   "id": "patent-transcript",
   "metadata": {},
   "outputs": [],
   "source": []
  }
 ],
 "metadata": {
  "kernelspec": {
   "display_name": "Python 3",
   "language": "python",
   "name": "python3"
  },
  "language_info": {
   "codemirror_mode": {
    "name": "ipython",
    "version": 3
   },
   "file_extension": ".py",
   "mimetype": "text/x-python",
   "name": "python",
   "nbconvert_exporter": "python",
   "pygments_lexer": "ipython3",
   "version": "3.9.1"
  }
 },
 "nbformat": 4,
 "nbformat_minor": 5
}
