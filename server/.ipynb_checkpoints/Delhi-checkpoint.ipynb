{
 "cells": [
  {
   "cell_type": "code",
   "execution_count": 1,
   "id": "understood-hamilton",
   "metadata": {},
   "outputs": [],
   "source": [
    "import numpy as np\n",
    "import pandas as pd"
   ]
  },
  {
   "cell_type": "code",
   "execution_count": 2,
   "id": "scheduled-walker",
   "metadata": {},
   "outputs": [],
   "source": [
    "data = pd.read_csv('Delhi.csv')\n",
    "data['price'] = data['price'] / 100000"
   ]
  },
  {
   "cell_type": "code",
   "execution_count": 3,
   "id": "demographic-bernard",
   "metadata": {},
   "outputs": [
    {
     "data": {
      "text/html": [
       "<div>\n",
       "<style scoped>\n",
       "    .dataframe tbody tr th:only-of-type {\n",
       "        vertical-align: middle;\n",
       "    }\n",
       "\n",
       "    .dataframe tbody tr th {\n",
       "        vertical-align: top;\n",
       "    }\n",
       "\n",
       "    .dataframe thead th {\n",
       "        text-align: right;\n",
       "    }\n",
       "</style>\n",
       "<table border=\"1\" class=\"dataframe\">\n",
       "  <thead>\n",
       "    <tr style=\"text-align: right;\">\n",
       "      <th></th>\n",
       "      <th>price</th>\n",
       "      <th>sqft</th>\n",
       "      <th>location</th>\n",
       "      <th>bathrooms</th>\n",
       "      <th>bhk</th>\n",
       "      <th>area_type</th>\n",
       "    </tr>\n",
       "  </thead>\n",
       "  <tbody>\n",
       "    <tr>\n",
       "      <th>0</th>\n",
       "      <td>105.0</td>\n",
       "      <td>1200</td>\n",
       "      <td>Sector 10 Dwarka</td>\n",
       "      <td>2.0</td>\n",
       "      <td>1</td>\n",
       "      <td>Super built-up Area</td>\n",
       "    </tr>\n",
       "    <tr>\n",
       "      <th>1</th>\n",
       "      <td>60.0</td>\n",
       "      <td>1000</td>\n",
       "      <td>Uttam Nagar</td>\n",
       "      <td>5.0</td>\n",
       "      <td>3</td>\n",
       "      <td>Plot Area</td>\n",
       "    </tr>\n",
       "    <tr>\n",
       "      <th>2</th>\n",
       "      <td>150.0</td>\n",
       "      <td>1350</td>\n",
       "      <td>Sarita Vihar</td>\n",
       "      <td>2.0</td>\n",
       "      <td>3</td>\n",
       "      <td>Built-up Area</td>\n",
       "    </tr>\n",
       "    <tr>\n",
       "      <th>3</th>\n",
       "      <td>25.0</td>\n",
       "      <td>435</td>\n",
       "      <td>Uttam Nagar</td>\n",
       "      <td>3.0</td>\n",
       "      <td>2</td>\n",
       "      <td>Super built-up Area</td>\n",
       "    </tr>\n",
       "    <tr>\n",
       "      <th>4</th>\n",
       "      <td>58.0</td>\n",
       "      <td>900</td>\n",
       "      <td>Dwarka Mor</td>\n",
       "      <td>2.0</td>\n",
       "      <td>4</td>\n",
       "      <td>Super built-up Area</td>\n",
       "    </tr>\n",
       "  </tbody>\n",
       "</table>\n",
       "</div>"
      ],
      "text/plain": [
       "   price  sqft          location  bathrooms  bhk            area_type\n",
       "0  105.0  1200  Sector 10 Dwarka        2.0    1  Super built-up Area\n",
       "1   60.0  1000       Uttam Nagar        5.0    3            Plot Area\n",
       "2  150.0  1350      Sarita Vihar        2.0    3        Built-up Area\n",
       "3   25.0   435       Uttam Nagar        3.0    2  Super built-up Area\n",
       "4   58.0   900        Dwarka Mor        2.0    4  Super built-up Area"
      ]
     },
     "execution_count": 3,
     "metadata": {},
     "output_type": "execute_result"
    }
   ],
   "source": [
    "data.head()"
   ]
  },
  {
   "cell_type": "code",
   "execution_count": 4,
   "id": "joined-escape",
   "metadata": {},
   "outputs": [
    {
     "data": {
      "text/plain": [
       "(4998, 6)"
      ]
     },
     "execution_count": 4,
     "metadata": {},
     "output_type": "execute_result"
    }
   ],
   "source": [
    "data.shape"
   ]
  },
  {
   "cell_type": "code",
   "execution_count": 5,
   "id": "specific-coast",
   "metadata": {},
   "outputs": [
    {
     "name": "stdout",
     "output_type": "stream",
     "text": [
      "<class 'pandas.core.frame.DataFrame'>\n",
      "RangeIndex: 4998 entries, 0 to 4997\n",
      "Data columns (total 6 columns):\n",
      " #   Column     Non-Null Count  Dtype  \n",
      "---  ------     --------------  -----  \n",
      " 0   price      4998 non-null   float64\n",
      " 1   sqft       4998 non-null   int64  \n",
      " 2   location   4998 non-null   object \n",
      " 3   bathrooms  4966 non-null   float64\n",
      " 4   bhk        4998 non-null   int64  \n",
      " 5   area_type  4998 non-null   object \n",
      "dtypes: float64(2), int64(2), object(2)\n",
      "memory usage: 234.4+ KB\n"
     ]
    }
   ],
   "source": [
    "data.info()"
   ]
  },
  {
   "cell_type": "code",
   "execution_count": 6,
   "id": "particular-salvation",
   "metadata": {},
   "outputs": [
    {
     "name": "stdout",
     "output_type": "stream",
     "text": [
      "25.00000      116\n",
      "24.00000       91\n",
      "35.00000       89\n",
      "155.00000      89\n",
      "30.00000       88\n",
      "             ... \n",
      "615.00000       1\n",
      "4190.99999      1\n",
      "45.50000        1\n",
      "76.00000        1\n",
      "1250.00000      1\n",
      "Name: price, Length: 724, dtype: int64\n",
      "********************\n",
      "800     575\n",
      "1000    439\n",
      "1800    262\n",
      "900     218\n",
      "750     124\n",
      "       ... \n",
      "1869      1\n",
      "1825      1\n",
      "1821      1\n",
      "1809      1\n",
      "2031      1\n",
      "Name: sqft, Length: 454, dtype: int64\n",
      "********************\n",
      "Noida                      761\n",
      "Uttam Nagar                430\n",
      "Dwarka Mor                 347\n",
      "Vasant Kunj                263\n",
      "Burari                     144\n",
      "                          ... \n",
      "Ramesh Nagar                 1\n",
      "1 Lane Johri Farm            1\n",
      "Sector 8 Dwarka Block B      1\n",
      "Mathura Road                 1\n",
      "Hauz Khas Enclave            1\n",
      "Name: location, Length: 339, dtype: int64\n",
      "********************\n",
      "2.0     2581\n",
      "3.0     1253\n",
      "4.0      462\n",
      "1.0      280\n",
      "5.0      187\n",
      "6.0       91\n",
      "7.0       50\n",
      "9.0       23\n",
      "8.0       21\n",
      "10.0       7\n",
      "12.0       3\n",
      "11.0       2\n",
      "16.0       2\n",
      "15.0       1\n",
      "27.0       1\n",
      "40.0       1\n",
      "14.0       1\n",
      "Name: bathrooms, dtype: int64\n",
      "********************\n",
      "3     2222\n",
      "2     1579\n",
      "4      585\n",
      "1      492\n",
      "5       61\n",
      "6       26\n",
      "7       11\n",
      "8        8\n",
      "9        7\n",
      "10       4\n",
      "16       1\n",
      "13       1\n",
      "11       1\n",
      "Name: bhk, dtype: int64\n",
      "********************\n",
      "Super built-up Area    3279\n",
      "Built-up Area           902\n",
      "Plot Area               777\n",
      "Carpet Area              40\n",
      "Name: area_type, dtype: int64\n",
      "********************\n"
     ]
    }
   ],
   "source": [
    "for column in data.columns:\n",
    "    print(data[column].value_counts())\n",
    "    print(\"*\"*20)"
   ]
  },
  {
   "cell_type": "code",
   "execution_count": 7,
   "id": "traditional-refund",
   "metadata": {},
   "outputs": [
    {
     "data": {
      "text/plain": [
       "price         0\n",
       "sqft          0\n",
       "location      0\n",
       "bathrooms    32\n",
       "bhk           0\n",
       "area_type     0\n",
       "dtype: int64"
      ]
     },
     "execution_count": 7,
     "metadata": {},
     "output_type": "execute_result"
    }
   ],
   "source": [
    "data.isna().sum()"
   ]
  },
  {
   "cell_type": "code",
   "execution_count": 8,
   "id": "cultural-wichita",
   "metadata": {},
   "outputs": [
    {
     "data": {
      "text/html": [
       "<div>\n",
       "<style scoped>\n",
       "    .dataframe tbody tr th:only-of-type {\n",
       "        vertical-align: middle;\n",
       "    }\n",
       "\n",
       "    .dataframe tbody tr th {\n",
       "        vertical-align: top;\n",
       "    }\n",
       "\n",
       "    .dataframe thead th {\n",
       "        text-align: right;\n",
       "    }\n",
       "</style>\n",
       "<table border=\"1\" class=\"dataframe\">\n",
       "  <thead>\n",
       "    <tr style=\"text-align: right;\">\n",
       "      <th></th>\n",
       "      <th>price</th>\n",
       "      <th>sqft</th>\n",
       "      <th>bathrooms</th>\n",
       "      <th>bhk</th>\n",
       "    </tr>\n",
       "  </thead>\n",
       "  <tbody>\n",
       "    <tr>\n",
       "      <th>count</th>\n",
       "      <td>4998.000000</td>\n",
       "      <td>4998.000000</td>\n",
       "      <td>4966.000000</td>\n",
       "      <td>4998.000000</td>\n",
       "    </tr>\n",
       "    <tr>\n",
       "      <th>mean</th>\n",
       "      <td>158.863837</td>\n",
       "      <td>1277.343737</td>\n",
       "      <td>2.720701</td>\n",
       "      <td>2.681273</td>\n",
       "    </tr>\n",
       "    <tr>\n",
       "      <th>std</th>\n",
       "      <td>461.289394</td>\n",
       "      <td>915.217800</td>\n",
       "      <td>1.471968</td>\n",
       "      <td>1.025907</td>\n",
       "    </tr>\n",
       "    <tr>\n",
       "      <th>min</th>\n",
       "      <td>20.000000</td>\n",
       "      <td>200.000000</td>\n",
       "      <td>1.000000</td>\n",
       "      <td>1.000000</td>\n",
       "    </tr>\n",
       "    <tr>\n",
       "      <th>25%</th>\n",
       "      <td>29.000000</td>\n",
       "      <td>800.000000</td>\n",
       "      <td>2.000000</td>\n",
       "      <td>2.000000</td>\n",
       "    </tr>\n",
       "    <tr>\n",
       "      <th>50%</th>\n",
       "      <td>55.000000</td>\n",
       "      <td>1000.000000</td>\n",
       "      <td>2.000000</td>\n",
       "      <td>3.000000</td>\n",
       "    </tr>\n",
       "    <tr>\n",
       "      <th>75%</th>\n",
       "      <td>158.000000</td>\n",
       "      <td>1650.000000</td>\n",
       "      <td>3.000000</td>\n",
       "      <td>3.000000</td>\n",
       "    </tr>\n",
       "    <tr>\n",
       "      <th>max</th>\n",
       "      <td>8545.999990</td>\n",
       "      <td>16000.000000</td>\n",
       "      <td>40.000000</td>\n",
       "      <td>16.000000</td>\n",
       "    </tr>\n",
       "  </tbody>\n",
       "</table>\n",
       "</div>"
      ],
      "text/plain": [
       "             price          sqft    bathrooms          bhk\n",
       "count  4998.000000   4998.000000  4966.000000  4998.000000\n",
       "mean    158.863837   1277.343737     2.720701     2.681273\n",
       "std     461.289394    915.217800     1.471968     1.025907\n",
       "min      20.000000    200.000000     1.000000     1.000000\n",
       "25%      29.000000    800.000000     2.000000     2.000000\n",
       "50%      55.000000   1000.000000     2.000000     3.000000\n",
       "75%     158.000000   1650.000000     3.000000     3.000000\n",
       "max    8545.999990  16000.000000    40.000000    16.000000"
      ]
     },
     "execution_count": 8,
     "metadata": {},
     "output_type": "execute_result"
    }
   ],
   "source": [
    "data.describe()"
   ]
  },
  {
   "cell_type": "code",
   "execution_count": 9,
   "id": "right-apartment",
   "metadata": {},
   "outputs": [
    {
     "name": "stdout",
     "output_type": "stream",
     "text": [
      "<class 'pandas.core.frame.DataFrame'>\n",
      "RangeIndex: 4998 entries, 0 to 4997\n",
      "Data columns (total 6 columns):\n",
      " #   Column     Non-Null Count  Dtype  \n",
      "---  ------     --------------  -----  \n",
      " 0   price      4998 non-null   float64\n",
      " 1   sqft       4998 non-null   int64  \n",
      " 2   location   4998 non-null   object \n",
      " 3   bathrooms  4966 non-null   float64\n",
      " 4   bhk        4998 non-null   int64  \n",
      " 5   area_type  4998 non-null   object \n",
      "dtypes: float64(2), int64(2), object(2)\n",
      "memory usage: 234.4+ KB\n"
     ]
    }
   ],
   "source": [
    "data.info()"
   ]
  },
  {
   "cell_type": "code",
   "execution_count": 10,
   "id": "material-general",
   "metadata": {},
   "outputs": [
    {
     "data": {
      "text/plain": [
       "Noida                      761\n",
       "Uttam Nagar                430\n",
       "Dwarka Mor                 347\n",
       "Vasant Kunj                263\n",
       "Burari                     144\n",
       "                          ... \n",
       "Ramesh Nagar                 1\n",
       "1 Lane Johri Farm            1\n",
       "Sector 8 Dwarka Block B      1\n",
       "Mathura Road                 1\n",
       "Hauz Khas Enclave            1\n",
       "Name: location, Length: 339, dtype: int64"
      ]
     },
     "execution_count": 10,
     "metadata": {},
     "output_type": "execute_result"
    }
   ],
   "source": [
    "data['location'].value_counts()"
   ]
  },
  {
   "cell_type": "code",
   "execution_count": 11,
   "id": "confused-minute",
   "metadata": {},
   "outputs": [],
   "source": [
    "data['location'] = data['location'].fillna('Dwarka Mor')"
   ]
  },
  {
   "cell_type": "code",
   "execution_count": 12,
   "id": "freelance-local",
   "metadata": {},
   "outputs": [
    {
     "data": {
      "text/plain": [
       "3     2222\n",
       "2     1579\n",
       "4      585\n",
       "1      492\n",
       "5       61\n",
       "6       26\n",
       "7       11\n",
       "8        8\n",
       "9        7\n",
       "10       4\n",
       "16       1\n",
       "13       1\n",
       "11       1\n",
       "Name: bhk, dtype: int64"
      ]
     },
     "execution_count": 12,
     "metadata": {},
     "output_type": "execute_result"
    }
   ],
   "source": [
    "data['bhk'].value_counts()"
   ]
  },
  {
   "cell_type": "code",
   "execution_count": 13,
   "id": "figured-worship",
   "metadata": {},
   "outputs": [],
   "source": [
    "data['bhk'] = data['bhk'].fillna('2')"
   ]
  },
  {
   "cell_type": "code",
   "execution_count": 14,
   "id": "administrative-compiler",
   "metadata": {},
   "outputs": [],
   "source": [
    "data['bathrooms'] = data['bathrooms'].fillna(data['bathrooms'].median())"
   ]
  },
  {
   "cell_type": "code",
   "execution_count": 15,
   "id": "proper-seeker",
   "metadata": {},
   "outputs": [
    {
     "name": "stdout",
     "output_type": "stream",
     "text": [
      "<class 'pandas.core.frame.DataFrame'>\n",
      "RangeIndex: 4998 entries, 0 to 4997\n",
      "Data columns (total 6 columns):\n",
      " #   Column     Non-Null Count  Dtype  \n",
      "---  ------     --------------  -----  \n",
      " 0   price      4998 non-null   float64\n",
      " 1   sqft       4998 non-null   int64  \n",
      " 2   location   4998 non-null   object \n",
      " 3   bathrooms  4998 non-null   float64\n",
      " 4   bhk        4998 non-null   int64  \n",
      " 5   area_type  4998 non-null   object \n",
      "dtypes: float64(2), int64(2), object(2)\n",
      "memory usage: 234.4+ KB\n"
     ]
    }
   ],
   "source": [
    "data.info()"
   ]
  },
  {
   "cell_type": "code",
   "execution_count": 16,
   "id": "periodic-wrist",
   "metadata": {},
   "outputs": [
    {
     "data": {
      "text/html": [
       "<div>\n",
       "<style scoped>\n",
       "    .dataframe tbody tr th:only-of-type {\n",
       "        vertical-align: middle;\n",
       "    }\n",
       "\n",
       "    .dataframe tbody tr th {\n",
       "        vertical-align: top;\n",
       "    }\n",
       "\n",
       "    .dataframe thead th {\n",
       "        text-align: right;\n",
       "    }\n",
       "</style>\n",
       "<table border=\"1\" class=\"dataframe\">\n",
       "  <thead>\n",
       "    <tr style=\"text-align: right;\">\n",
       "      <th></th>\n",
       "      <th>price</th>\n",
       "      <th>sqft</th>\n",
       "      <th>location</th>\n",
       "      <th>bathrooms</th>\n",
       "      <th>bhk</th>\n",
       "      <th>area_type</th>\n",
       "    </tr>\n",
       "  </thead>\n",
       "  <tbody>\n",
       "  </tbody>\n",
       "</table>\n",
       "</div>"
      ],
      "text/plain": [
       "Empty DataFrame\n",
       "Columns: [price, sqft, location, bathrooms, bhk, area_type]\n",
       "Index: []"
      ]
     },
     "execution_count": 16,
     "metadata": {},
     "output_type": "execute_result"
    }
   ],
   "source": [
    "data[data.bhk > 20]"
   ]
  },
  {
   "cell_type": "code",
   "execution_count": 17,
   "id": "neutral-coast",
   "metadata": {},
   "outputs": [
    {
     "data": {
      "text/plain": [
       "array([ 1200,  1000,  1350,   435,   900,  1800,  1500,  1300,  1550,\n",
       "         600,   385,  2500,  1050,  1600,   630,  2000,  1125,   415,\n",
       "         675,  1750,  4600,  1650,   540,   950,   850,   450,  1551,\n",
       "         650,   550,  1843,  3000,  1700,   700,   750,   810,  1250,\n",
       "        3800,   380,  2250,   645,   920,   570,  6400,  1100,   800,\n",
       "         500,   620,   581,  2150,  2350,   720,   990,   765,  1950,\n",
       "         410,  1450,  1400,  1150,  1900,   820,   625,   525,  2200,\n",
       "        2400,  2300,  2100,  2600,   360,   400,  2800,  1170,   638,\n",
       "         954,   774,   495,   738,  1080,   517,   864,   612,   558,\n",
       "         585,   567,   875,   756,  4500,   855,  2700,   980,   580,\n",
       "        1850,  2050,  3500,  1880,  4200,   680,  1485,   480,   350,\n",
       "        1375,   740,   477,   865,   640,   685,   520,   658,  1638,\n",
       "         616,   505,   667,   510,   861,   755,   760,  2520,  1440,\n",
       "        1055,   970,   545,   615,  1215,  2001,   785,  2302,  1245,\n",
       "        3200,  1530,  3300,   560,   830,   300,   610,   770,  1105,\n",
       "        2650,  2750,   220,   200,   210,   531,  3260,  3450,  2160,\n",
       "        2850,  1160,   818,   845,  1475,   833,   799,  1030,  1025,\n",
       "        1035,  1565,  2550,  1560,   562,   549,  1953,  1963,  1711,\n",
       "        1699,  1321,  1599,  5500,  1858,   590,   465,  2870,   516,\n",
       "         530,   594,   565,  1680,  7254,  1658,  2450,  4966,  5000,\n",
       "        4000,  2402,  6976,  2311,  3250,   521,  1435,  1801,  6815,\n",
       "        7049,  5422,  6650,  5503,  4350,  6877,  7500,  7251,  6905,\n",
       "        1017,  1337,   518,  1381,  2799,   460,   420,   883,  1855,\n",
       "        2025,  1758,  1582,   668,  4580,   975,  1625,  1204,  2590,\n",
       "        3600,  1114,  1821,  2741,  2530,  1845,  1930,   945,  5412,\n",
       "         972,  1869,  2798,  2369, 16000,  2210,  2900,  1333,  1894,\n",
       "        1904,  4430,  1420,  1906,  1886,  2863,  5621,  5211,  2202,\n",
       "        1501,  1854,   426,  4503,  1872,  1504,   405,  2448,  2580,\n",
       "        5175,  2430,  1115,  1075,  1387,   422,  4506,  3015,  1620,\n",
       "         440,  5625,  1503,  6521,  3123,  2322,  1206,  2106,  1006,\n",
       "        1040,  1175,   459,   918,   504,   780,   909,   790,   556,\n",
       "        4502,  4501,  1980,  2754,  1957,  1888,  1255,  1999,  2555,\n",
       "        2666,  2380,  2305,  3240,  2070,  2645,  2011,  7211, 12552,\n",
       "        8521,  5523,  4950,  1251,   952,  1106,  1615,  2475,  1194,\n",
       "        1097,  2790,  1905,  1180,   725,  1827,  1401,  1510,  1103,\n",
       "         407,  6852,  4521,  1002,  3006,  1201,  2537,  7000,  1260,\n",
       "        4400,   401,   507,   890,  1996,   730,   811,  6975,  1007,\n",
       "        1875,  1835,  1585,  2970,  1490,  1264,  2395,  1751,  1732,\n",
       "        2725,  2639,  1825,  1076,   532,  2075,  1931,  3715,  1256,\n",
       "         632,  2195,  1240,  7259,  8000,  5550,  1470,  1674,  1044,\n",
       "        7411,  1429,  2833,  1210,  1360,  1406,  5200,  1188,  9000,\n",
       "        3650,  1647,  1690,   648,  1935,  1653,  1386,   801,   690,\n",
       "        1005,  4376,  5582,  1225,  2360,  1020,  1107,  1207,  1498,\n",
       "        1965,   586,   240,  1537,  1709,  2911,  1442,   677,  1143,\n",
       "        2340,  2111,  6541,  1197,   605,  2808,  6544,  1610,  1629,\n",
       "        1102,  1101,  1728,  1323,  1422,   927,  3460,  3850,  4300,\n",
       "         710,  1786,   979,  2234,  2020,   981,  1152,  1809,  6251,\n",
       "        3652,  1269,  1089,  2021,  2341,  2010,  3375,  2140,  1784,\n",
       "        1881,  4504,   888,  1651,  1053,  1134,  1415,   965,  1223,\n",
       "        4010,  2320,  2423,   978,   704,   572,  1220,  2412,  2620,\n",
       "        1190,  2312,  2031,  1275], dtype=int64)"
      ]
     },
     "execution_count": 17,
     "metadata": {},
     "output_type": "execute_result"
    }
   ],
   "source": [
    "data['sqft'].unique()"
   ]
  },
  {
   "cell_type": "code",
   "execution_count": 18,
   "id": "sealed-october",
   "metadata": {},
   "outputs": [],
   "source": [
    "def convertRange(x):\n",
    "    temp = x.split('-')\n",
    "    if len(temp) == 2:\n",
    "        return (float(temp[0]) + float(temp[1]))/2\n",
    "    try:\n",
    "        return float(x)\n",
    "    except:\n",
    "        return None"
   ]
  },
  {
   "cell_type": "code",
   "execution_count": 19,
   "id": "advised-attention",
   "metadata": {},
   "outputs": [
    {
     "data": {
      "text/html": [
       "<div>\n",
       "<style scoped>\n",
       "    .dataframe tbody tr th:only-of-type {\n",
       "        vertical-align: middle;\n",
       "    }\n",
       "\n",
       "    .dataframe tbody tr th {\n",
       "        vertical-align: top;\n",
       "    }\n",
       "\n",
       "    .dataframe thead th {\n",
       "        text-align: right;\n",
       "    }\n",
       "</style>\n",
       "<table border=\"1\" class=\"dataframe\">\n",
       "  <thead>\n",
       "    <tr style=\"text-align: right;\">\n",
       "      <th></th>\n",
       "      <th>price</th>\n",
       "      <th>sqft</th>\n",
       "      <th>location</th>\n",
       "      <th>bathrooms</th>\n",
       "      <th>bhk</th>\n",
       "      <th>area_type</th>\n",
       "    </tr>\n",
       "  </thead>\n",
       "  <tbody>\n",
       "    <tr>\n",
       "      <th>0</th>\n",
       "      <td>105.0</td>\n",
       "      <td>1200</td>\n",
       "      <td>Sector 10 Dwarka</td>\n",
       "      <td>2.0</td>\n",
       "      <td>1</td>\n",
       "      <td>Super built-up Area</td>\n",
       "    </tr>\n",
       "    <tr>\n",
       "      <th>1</th>\n",
       "      <td>60.0</td>\n",
       "      <td>1000</td>\n",
       "      <td>Uttam Nagar</td>\n",
       "      <td>5.0</td>\n",
       "      <td>3</td>\n",
       "      <td>Plot Area</td>\n",
       "    </tr>\n",
       "    <tr>\n",
       "      <th>2</th>\n",
       "      <td>150.0</td>\n",
       "      <td>1350</td>\n",
       "      <td>Sarita Vihar</td>\n",
       "      <td>2.0</td>\n",
       "      <td>3</td>\n",
       "      <td>Built-up Area</td>\n",
       "    </tr>\n",
       "    <tr>\n",
       "      <th>3</th>\n",
       "      <td>25.0</td>\n",
       "      <td>435</td>\n",
       "      <td>Uttam Nagar</td>\n",
       "      <td>3.0</td>\n",
       "      <td>2</td>\n",
       "      <td>Super built-up Area</td>\n",
       "    </tr>\n",
       "    <tr>\n",
       "      <th>4</th>\n",
       "      <td>58.0</td>\n",
       "      <td>900</td>\n",
       "      <td>Dwarka Mor</td>\n",
       "      <td>2.0</td>\n",
       "      <td>4</td>\n",
       "      <td>Super built-up Area</td>\n",
       "    </tr>\n",
       "  </tbody>\n",
       "</table>\n",
       "</div>"
      ],
      "text/plain": [
       "   price  sqft          location  bathrooms  bhk            area_type\n",
       "0  105.0  1200  Sector 10 Dwarka        2.0    1  Super built-up Area\n",
       "1   60.0  1000       Uttam Nagar        5.0    3            Plot Area\n",
       "2  150.0  1350      Sarita Vihar        2.0    3        Built-up Area\n",
       "3   25.0   435       Uttam Nagar        3.0    2  Super built-up Area\n",
       "4   58.0   900        Dwarka Mor        2.0    4  Super built-up Area"
      ]
     },
     "execution_count": 19,
     "metadata": {},
     "output_type": "execute_result"
    }
   ],
   "source": [
    "data.head()"
   ]
  },
  {
   "cell_type": "markdown",
   "id": "powerful-acceptance",
   "metadata": {},
   "source": [
    "# Price Per Square Feet"
   ]
  },
  {
   "cell_type": "code",
   "execution_count": 20,
   "id": "lesbian-convenience",
   "metadata": {},
   "outputs": [
    {
     "data": {
      "text/plain": [
       "Noida                      761\n",
       "Uttam Nagar                430\n",
       "Dwarka Mor                 347\n",
       "Vasant Kunj                263\n",
       "Burari                     144\n",
       "                          ... \n",
       "Ramesh Nagar                 1\n",
       "1 Lane Johri Farm            1\n",
       "Sector 8 Dwarka Block B      1\n",
       "Mathura Road                 1\n",
       "Hauz Khas Enclave            1\n",
       "Name: location, Length: 339, dtype: int64"
      ]
     },
     "execution_count": 20,
     "metadata": {},
     "output_type": "execute_result"
    }
   ],
   "source": [
    "data['location'].value_counts()"
   ]
  },
  {
   "cell_type": "code",
   "execution_count": 21,
   "id": "wanted-prompt",
   "metadata": {},
   "outputs": [],
   "source": [
    "data['location'] = data['location'].apply(lambda x: x.strip())"
   ]
  },
  {
   "cell_type": "code",
   "execution_count": 22,
   "id": "understood-brief",
   "metadata": {},
   "outputs": [
    {
     "data": {
      "text/plain": [
       "0       Sector 10 Dwarka\n",
       "1            Uttam Nagar\n",
       "2           Sarita Vihar\n",
       "3            Uttam Nagar\n",
       "4             Dwarka Mor\n",
       "              ...       \n",
       "4993         Madhu Vihar\n",
       "4994         Madhu Vihar\n",
       "4995    Sector 26 Dwarka\n",
       "4996    Sector 26 Dwarka\n",
       "4997         Uttam Nagar\n",
       "Name: location, Length: 4998, dtype: object"
      ]
     },
     "execution_count": 22,
     "metadata": {},
     "output_type": "execute_result"
    }
   ],
   "source": [
    "data['location']"
   ]
  },
  {
   "cell_type": "code",
   "execution_count": 23,
   "id": "amended-afghanistan",
   "metadata": {},
   "outputs": [],
   "source": [
    "location_count = data['location'].value_counts()"
   ]
  },
  {
   "cell_type": "code",
   "execution_count": 24,
   "id": "greater-season",
   "metadata": {},
   "outputs": [
    {
     "data": {
      "text/plain": [
       "Noida                      761\n",
       "Uttam Nagar                430\n",
       "Dwarka Mor                 347\n",
       "Vasant Kunj                263\n",
       "Burari                     144\n",
       "                          ... \n",
       "Ramesh Nagar                 1\n",
       "1 Lane Johri Farm            1\n",
       "Sector 8 Dwarka Block B      1\n",
       "Mathura Road                 1\n",
       "Hauz Khas Enclave            1\n",
       "Name: location, Length: 339, dtype: int64"
      ]
     },
     "execution_count": 24,
     "metadata": {},
     "output_type": "execute_result"
    }
   ],
   "source": [
    "location_count"
   ]
  },
  {
   "cell_type": "code",
   "execution_count": 25,
   "id": "running-sunrise",
   "metadata": {},
   "outputs": [
    {
     "data": {
      "text/plain": [
       "CVD Line                   10\n",
       "Kundli                     10\n",
       "Sector 9 Rohini            10\n",
       "Sheikh Sarai               10\n",
       "Hauz Khas                   9\n",
       "                           ..\n",
       "Ramesh Nagar                1\n",
       "1 Lane Johri Farm           1\n",
       "Sector 8 Dwarka Block B     1\n",
       "Mathura Road                1\n",
       "Hauz Khas Enclave           1\n",
       "Name: location, Length: 266, dtype: int64"
      ]
     },
     "execution_count": 25,
     "metadata": {},
     "output_type": "execute_result"
    }
   ],
   "source": [
    "location_count_less_10 = location_count[location_count <= 10]\n",
    "location_count_less_10"
   ]
  },
  {
   "cell_type": "code",
   "execution_count": 26,
   "id": "million-spiritual",
   "metadata": {},
   "outputs": [],
   "source": [
    "data['location'] = data['location'].apply(lambda x: 'Other' if x in location_count_less_10 else x)"
   ]
  },
  {
   "cell_type": "code",
   "execution_count": 27,
   "id": "typical-bowling",
   "metadata": {},
   "outputs": [
    {
     "data": {
      "text/plain": [
       "Noida                 761\n",
       "Other                 589\n",
       "Uttam Nagar           430\n",
       "Dwarka Mor            347\n",
       "Vasant Kunj           263\n",
       "                     ... \n",
       "Shanti Park Dwarka     13\n",
       "Roop Nagar             12\n",
       "Model Town             12\n",
       "Punjabi Bagh           12\n",
       "Sector 17 Dwarka       11\n",
       "Name: location, Length: 74, dtype: int64"
      ]
     },
     "execution_count": 27,
     "metadata": {},
     "output_type": "execute_result"
    }
   ],
   "source": [
    "data['location'].value_counts()"
   ]
  },
  {
   "cell_type": "markdown",
   "id": "played-fluid",
   "metadata": {},
   "source": [
    "# Outliers Detection and Removal"
   ]
  },
  {
   "cell_type": "code",
   "execution_count": 28,
   "id": "fluid-theater",
   "metadata": {},
   "outputs": [
    {
     "data": {
      "text/plain": [
       "count     4998.000000\n",
       "mean       559.001349\n",
       "std        531.995064\n",
       "min         50.000000\n",
       "25%        266.666667\n",
       "50%        400.000000\n",
       "75%        666.666667\n",
       "max      16000.000000\n",
       "dtype: float64"
      ]
     },
     "execution_count": 28,
     "metadata": {},
     "output_type": "execute_result"
    }
   ],
   "source": [
    "(data['sqft'] / data['bhk']).describe()"
   ]
  },
  {
   "cell_type": "code",
   "execution_count": 29,
   "id": "wrong-responsibility",
   "metadata": {},
   "outputs": [
    {
     "data": {
      "text/html": [
       "<div>\n",
       "<style scoped>\n",
       "    .dataframe tbody tr th:only-of-type {\n",
       "        vertical-align: middle;\n",
       "    }\n",
       "\n",
       "    .dataframe tbody tr th {\n",
       "        vertical-align: top;\n",
       "    }\n",
       "\n",
       "    .dataframe thead th {\n",
       "        text-align: right;\n",
       "    }\n",
       "</style>\n",
       "<table border=\"1\" class=\"dataframe\">\n",
       "  <thead>\n",
       "    <tr style=\"text-align: right;\">\n",
       "      <th></th>\n",
       "      <th>price</th>\n",
       "      <th>sqft</th>\n",
       "      <th>bathrooms</th>\n",
       "      <th>bhk</th>\n",
       "    </tr>\n",
       "  </thead>\n",
       "  <tbody>\n",
       "    <tr>\n",
       "      <th>count</th>\n",
       "      <td>3514.000000</td>\n",
       "      <td>3514.000000</td>\n",
       "      <td>3514.000000</td>\n",
       "      <td>3514.000000</td>\n",
       "    </tr>\n",
       "    <tr>\n",
       "      <th>mean</th>\n",
       "      <td>195.180760</td>\n",
       "      <td>1517.317871</td>\n",
       "      <td>2.736483</td>\n",
       "      <td>2.402106</td>\n",
       "    </tr>\n",
       "    <tr>\n",
       "      <th>std</th>\n",
       "      <td>526.043082</td>\n",
       "      <td>989.060901</td>\n",
       "      <td>1.513012</td>\n",
       "      <td>0.845750</td>\n",
       "    </tr>\n",
       "    <tr>\n",
       "      <th>min</th>\n",
       "      <td>20.000000</td>\n",
       "      <td>400.000000</td>\n",
       "      <td>1.000000</td>\n",
       "      <td>1.000000</td>\n",
       "    </tr>\n",
       "    <tr>\n",
       "      <th>25%</th>\n",
       "      <td>35.000000</td>\n",
       "      <td>990.000000</td>\n",
       "      <td>2.000000</td>\n",
       "      <td>2.000000</td>\n",
       "    </tr>\n",
       "    <tr>\n",
       "      <th>50%</th>\n",
       "      <td>111.500000</td>\n",
       "      <td>1300.000000</td>\n",
       "      <td>2.000000</td>\n",
       "      <td>2.000000</td>\n",
       "    </tr>\n",
       "    <tr>\n",
       "      <th>75%</th>\n",
       "      <td>173.750000</td>\n",
       "      <td>1800.000000</td>\n",
       "      <td>3.000000</td>\n",
       "      <td>3.000000</td>\n",
       "    </tr>\n",
       "    <tr>\n",
       "      <th>max</th>\n",
       "      <td>8545.999990</td>\n",
       "      <td>16000.000000</td>\n",
       "      <td>40.000000</td>\n",
       "      <td>7.000000</td>\n",
       "    </tr>\n",
       "  </tbody>\n",
       "</table>\n",
       "</div>"
      ],
      "text/plain": [
       "             price          sqft    bathrooms          bhk\n",
       "count  3514.000000   3514.000000  3514.000000  3514.000000\n",
       "mean    195.180760   1517.317871     2.736483     2.402106\n",
       "std     526.043082    989.060901     1.513012     0.845750\n",
       "min      20.000000    400.000000     1.000000     1.000000\n",
       "25%      35.000000    990.000000     2.000000     2.000000\n",
       "50%     111.500000   1300.000000     2.000000     2.000000\n",
       "75%     173.750000   1800.000000     3.000000     3.000000\n",
       "max    8545.999990  16000.000000    40.000000     7.000000"
      ]
     },
     "execution_count": 29,
     "metadata": {},
     "output_type": "execute_result"
    }
   ],
   "source": [
    "data = data[((data['sqft']/data['bhk']) >= 300)]\n",
    "data.describe()"
   ]
  },
  {
   "cell_type": "code",
   "execution_count": 30,
   "id": "european-silence",
   "metadata": {},
   "outputs": [
    {
     "data": {
      "text/plain": [
       "(3514, 6)"
      ]
     },
     "execution_count": 30,
     "metadata": {},
     "output_type": "execute_result"
    }
   ],
   "source": [
    "data.shape"
   ]
  },
  {
   "cell_type": "code",
   "execution_count": 31,
   "id": "limiting-membership",
   "metadata": {},
   "outputs": [
    {
     "data": {
      "text/plain": [
       "count    3514.000000\n",
       "mean      195.180760\n",
       "std       526.043082\n",
       "min        20.000000\n",
       "25%        35.000000\n",
       "50%       111.500000\n",
       "75%       173.750000\n",
       "max      8545.999990\n",
       "Name: price, dtype: float64"
      ]
     },
     "execution_count": 31,
     "metadata": {},
     "output_type": "execute_result"
    }
   ],
   "source": [
    "data.price.describe()"
   ]
  },
  {
   "cell_type": "code",
   "execution_count": 32,
   "id": "ignored-eleven",
   "metadata": {},
   "outputs": [
    {
     "data": {
      "text/html": [
       "<div>\n",
       "<style scoped>\n",
       "    .dataframe tbody tr th:only-of-type {\n",
       "        vertical-align: middle;\n",
       "    }\n",
       "\n",
       "    .dataframe tbody tr th {\n",
       "        vertical-align: top;\n",
       "    }\n",
       "\n",
       "    .dataframe thead th {\n",
       "        text-align: right;\n",
       "    }\n",
       "</style>\n",
       "<table border=\"1\" class=\"dataframe\">\n",
       "  <thead>\n",
       "    <tr style=\"text-align: right;\">\n",
       "      <th></th>\n",
       "      <th>price</th>\n",
       "      <th>sqft</th>\n",
       "      <th>bathrooms</th>\n",
       "      <th>bhk</th>\n",
       "    </tr>\n",
       "  </thead>\n",
       "  <tbody>\n",
       "    <tr>\n",
       "      <th>count</th>\n",
       "      <td>3141.000000</td>\n",
       "      <td>3141.000000</td>\n",
       "      <td>3141.000000</td>\n",
       "      <td>3141.000000</td>\n",
       "    </tr>\n",
       "    <tr>\n",
       "      <th>mean</th>\n",
       "      <td>122.956861</td>\n",
       "      <td>1461.273798</td>\n",
       "      <td>2.714104</td>\n",
       "      <td>2.396371</td>\n",
       "    </tr>\n",
       "    <tr>\n",
       "      <th>std</th>\n",
       "      <td>135.086531</td>\n",
       "      <td>866.395317</td>\n",
       "      <td>1.358069</td>\n",
       "      <td>0.841881</td>\n",
       "    </tr>\n",
       "    <tr>\n",
       "      <th>min</th>\n",
       "      <td>20.000000</td>\n",
       "      <td>400.000000</td>\n",
       "      <td>1.000000</td>\n",
       "      <td>1.000000</td>\n",
       "    </tr>\n",
       "    <tr>\n",
       "      <th>25%</th>\n",
       "      <td>33.000000</td>\n",
       "      <td>952.000000</td>\n",
       "      <td>2.000000</td>\n",
       "      <td>2.000000</td>\n",
       "    </tr>\n",
       "    <tr>\n",
       "      <th>50%</th>\n",
       "      <td>107.000000</td>\n",
       "      <td>1250.000000</td>\n",
       "      <td>2.000000</td>\n",
       "      <td>2.000000</td>\n",
       "    </tr>\n",
       "    <tr>\n",
       "      <th>75%</th>\n",
       "      <td>165.000000</td>\n",
       "      <td>1800.000000</td>\n",
       "      <td>3.000000</td>\n",
       "      <td>3.000000</td>\n",
       "    </tr>\n",
       "    <tr>\n",
       "      <th>max</th>\n",
       "      <td>2350.000000</td>\n",
       "      <td>16000.000000</td>\n",
       "      <td>16.000000</td>\n",
       "      <td>6.000000</td>\n",
       "    </tr>\n",
       "  </tbody>\n",
       "</table>\n",
       "</div>"
      ],
      "text/plain": [
       "             price          sqft    bathrooms          bhk\n",
       "count  3141.000000   3141.000000  3141.000000  3141.000000\n",
       "mean    122.956861   1461.273798     2.714104     2.396371\n",
       "std     135.086531    866.395317     1.358069     0.841881\n",
       "min      20.000000    400.000000     1.000000     1.000000\n",
       "25%      33.000000    952.000000     2.000000     2.000000\n",
       "50%     107.000000   1250.000000     2.000000     2.000000\n",
       "75%     165.000000   1800.000000     3.000000     3.000000\n",
       "max    2350.000000  16000.000000    16.000000     6.000000"
      ]
     },
     "execution_count": 32,
     "metadata": {},
     "output_type": "execute_result"
    }
   ],
   "source": [
    "def remove_outliers_sqft(df):\n",
    "    df_output = pd.DataFrame()\n",
    "    for key,subdf in df.groupby('location'):\n",
    "        m = np.mean(subdf.price)\n",
    "        st = np.std(subdf.price)\n",
    "        gen_df = subdf[(subdf.price > (m-st)) & (subdf.price <= (m+st))]\n",
    "        df_output = pd.concat([df_output,gen_df],ignore_index =True)\n",
    "    return df_output\n",
    "data = remove_outliers_sqft(data)\n",
    "data.describe()"
   ]
  },
  {
   "cell_type": "code",
   "execution_count": 33,
   "id": "great-number",
   "metadata": {},
   "outputs": [],
   "source": [
    "def bhk_outlier_remover(df):\n",
    "    exclude_indices = np.array([])\n",
    "    for location, loc_df in df.groupby('location'):\n",
    "        bhk_stats = {}\n",
    "        for bhk, bhk_df in loc_df.groupby('bhk'):\n",
    "            bhk_stats[bhk] = {\n",
    "                'mean': np.mean(bhk_df.price),\n",
    "                'std': np.std(bhk_df.price),\n",
    "                'count': bhk_df.shape[0]\n",
    "            }\n",
    "        for bhk, bhk_df in loc_df.groupby('bhk'):\n",
    "            stats = bhk_stats.get(bhk-1)\n",
    "            if stats and stats['count']>5:\n",
    "                exclude_indices = np.append(exclude_indices, bhk_df[bhk_df.price<(stats['mean'])].index.values)\n",
    "    return df.drop(exclude_indices,axis='index')"
   ]
  },
  {
   "cell_type": "code",
   "execution_count": 34,
   "id": "distant-appeal",
   "metadata": {},
   "outputs": [],
   "source": [
    "data = bhk_outlier_remover(data)"
   ]
  },
  {
   "cell_type": "code",
   "execution_count": 35,
   "id": "dimensional-baking",
   "metadata": {},
   "outputs": [
    {
     "data": {
      "text/plain": [
       "(1957, 6)"
      ]
     },
     "execution_count": 35,
     "metadata": {},
     "output_type": "execute_result"
    }
   ],
   "source": [
    "data.shape"
   ]
  },
  {
   "cell_type": "code",
   "execution_count": 36,
   "id": "asian-certification",
   "metadata": {},
   "outputs": [
    {
     "data": {
      "text/html": [
       "<div>\n",
       "<style scoped>\n",
       "    .dataframe tbody tr th:only-of-type {\n",
       "        vertical-align: middle;\n",
       "    }\n",
       "\n",
       "    .dataframe tbody tr th {\n",
       "        vertical-align: top;\n",
       "    }\n",
       "\n",
       "    .dataframe thead th {\n",
       "        text-align: right;\n",
       "    }\n",
       "</style>\n",
       "<table border=\"1\" class=\"dataframe\">\n",
       "  <thead>\n",
       "    <tr style=\"text-align: right;\">\n",
       "      <th></th>\n",
       "      <th>price</th>\n",
       "      <th>sqft</th>\n",
       "      <th>location</th>\n",
       "      <th>bathrooms</th>\n",
       "      <th>bhk</th>\n",
       "      <th>area_type</th>\n",
       "    </tr>\n",
       "  </thead>\n",
       "  <tbody>\n",
       "    <tr>\n",
       "      <th>3</th>\n",
       "      <td>190.00</td>\n",
       "      <td>1450</td>\n",
       "      <td>Alaknanda</td>\n",
       "      <td>4.0</td>\n",
       "      <td>4</td>\n",
       "      <td>Super built-up Area</td>\n",
       "    </tr>\n",
       "    <tr>\n",
       "      <th>4</th>\n",
       "      <td>190.00</td>\n",
       "      <td>1450</td>\n",
       "      <td>Alaknanda</td>\n",
       "      <td>3.0</td>\n",
       "      <td>3</td>\n",
       "      <td>Super built-up Area</td>\n",
       "    </tr>\n",
       "    <tr>\n",
       "      <th>7</th>\n",
       "      <td>187.00</td>\n",
       "      <td>1450</td>\n",
       "      <td>Alaknanda</td>\n",
       "      <td>1.0</td>\n",
       "      <td>4</td>\n",
       "      <td>Super built-up Area</td>\n",
       "    </tr>\n",
       "    <tr>\n",
       "      <th>8</th>\n",
       "      <td>183.00</td>\n",
       "      <td>1400</td>\n",
       "      <td>Alaknanda</td>\n",
       "      <td>1.0</td>\n",
       "      <td>3</td>\n",
       "      <td>Super built-up Area</td>\n",
       "    </tr>\n",
       "    <tr>\n",
       "      <th>12</th>\n",
       "      <td>185.00</td>\n",
       "      <td>1450</td>\n",
       "      <td>Alaknanda</td>\n",
       "      <td>5.0</td>\n",
       "      <td>4</td>\n",
       "      <td>Plot Area</td>\n",
       "    </tr>\n",
       "    <tr>\n",
       "      <th>...</th>\n",
       "      <td>...</td>\n",
       "      <td>...</td>\n",
       "      <td>...</td>\n",
       "      <td>...</td>\n",
       "      <td>...</td>\n",
       "      <td>...</td>\n",
       "    </tr>\n",
       "    <tr>\n",
       "      <th>3136</th>\n",
       "      <td>47.00</td>\n",
       "      <td>810</td>\n",
       "      <td>nawada</td>\n",
       "      <td>2.0</td>\n",
       "      <td>1</td>\n",
       "      <td>Built-up Area</td>\n",
       "    </tr>\n",
       "    <tr>\n",
       "      <th>3137</th>\n",
       "      <td>44.00</td>\n",
       "      <td>800</td>\n",
       "      <td>nawada</td>\n",
       "      <td>2.0</td>\n",
       "      <td>2</td>\n",
       "      <td>Super built-up Area</td>\n",
       "    </tr>\n",
       "    <tr>\n",
       "      <th>3138</th>\n",
       "      <td>45.00</td>\n",
       "      <td>900</td>\n",
       "      <td>nawada</td>\n",
       "      <td>3.0</td>\n",
       "      <td>2</td>\n",
       "      <td>Built-up Area</td>\n",
       "    </tr>\n",
       "    <tr>\n",
       "      <th>3139</th>\n",
       "      <td>51.00</td>\n",
       "      <td>900</td>\n",
       "      <td>nawada</td>\n",
       "      <td>7.0</td>\n",
       "      <td>2</td>\n",
       "      <td>Plot Area</td>\n",
       "    </tr>\n",
       "    <tr>\n",
       "      <th>3140</th>\n",
       "      <td>49.99</td>\n",
       "      <td>600</td>\n",
       "      <td>nawada</td>\n",
       "      <td>2.0</td>\n",
       "      <td>2</td>\n",
       "      <td>Built-up Area</td>\n",
       "    </tr>\n",
       "  </tbody>\n",
       "</table>\n",
       "<p>1957 rows × 6 columns</p>\n",
       "</div>"
      ],
      "text/plain": [
       "       price  sqft   location  bathrooms  bhk            area_type\n",
       "3     190.00  1450  Alaknanda        4.0    4  Super built-up Area\n",
       "4     190.00  1450  Alaknanda        3.0    3  Super built-up Area\n",
       "7     187.00  1450  Alaknanda        1.0    4  Super built-up Area\n",
       "8     183.00  1400  Alaknanda        1.0    3  Super built-up Area\n",
       "12    185.00  1450  Alaknanda        5.0    4            Plot Area\n",
       "...      ...   ...        ...        ...  ...                  ...\n",
       "3136   47.00   810     nawada        2.0    1        Built-up Area\n",
       "3137   44.00   800     nawada        2.0    2  Super built-up Area\n",
       "3138   45.00   900     nawada        3.0    2        Built-up Area\n",
       "3139   51.00   900     nawada        7.0    2            Plot Area\n",
       "3140   49.99   600     nawada        2.0    2        Built-up Area\n",
       "\n",
       "[1957 rows x 6 columns]"
      ]
     },
     "execution_count": 36,
     "metadata": {},
     "output_type": "execute_result"
    }
   ],
   "source": [
    "data"
   ]
  },
  {
   "cell_type": "markdown",
   "id": "southern-component",
   "metadata": {},
   "source": [
    "# Cleaned Data"
   ]
  },
  {
   "cell_type": "code",
   "execution_count": 37,
   "id": "bridal-sight",
   "metadata": {},
   "outputs": [
    {
     "data": {
      "text/html": [
       "<div>\n",
       "<style scoped>\n",
       "    .dataframe tbody tr th:only-of-type {\n",
       "        vertical-align: middle;\n",
       "    }\n",
       "\n",
       "    .dataframe tbody tr th {\n",
       "        vertical-align: top;\n",
       "    }\n",
       "\n",
       "    .dataframe thead th {\n",
       "        text-align: right;\n",
       "    }\n",
       "</style>\n",
       "<table border=\"1\" class=\"dataframe\">\n",
       "  <thead>\n",
       "    <tr style=\"text-align: right;\">\n",
       "      <th></th>\n",
       "      <th>price</th>\n",
       "      <th>sqft</th>\n",
       "      <th>location</th>\n",
       "      <th>bathrooms</th>\n",
       "      <th>bhk</th>\n",
       "    </tr>\n",
       "  </thead>\n",
       "  <tbody>\n",
       "    <tr>\n",
       "      <th>3</th>\n",
       "      <td>190.0</td>\n",
       "      <td>1450</td>\n",
       "      <td>Alaknanda</td>\n",
       "      <td>4.0</td>\n",
       "      <td>4</td>\n",
       "    </tr>\n",
       "    <tr>\n",
       "      <th>4</th>\n",
       "      <td>190.0</td>\n",
       "      <td>1450</td>\n",
       "      <td>Alaknanda</td>\n",
       "      <td>3.0</td>\n",
       "      <td>3</td>\n",
       "    </tr>\n",
       "    <tr>\n",
       "      <th>7</th>\n",
       "      <td>187.0</td>\n",
       "      <td>1450</td>\n",
       "      <td>Alaknanda</td>\n",
       "      <td>1.0</td>\n",
       "      <td>4</td>\n",
       "    </tr>\n",
       "    <tr>\n",
       "      <th>8</th>\n",
       "      <td>183.0</td>\n",
       "      <td>1400</td>\n",
       "      <td>Alaknanda</td>\n",
       "      <td>1.0</td>\n",
       "      <td>3</td>\n",
       "    </tr>\n",
       "    <tr>\n",
       "      <th>12</th>\n",
       "      <td>185.0</td>\n",
       "      <td>1450</td>\n",
       "      <td>Alaknanda</td>\n",
       "      <td>5.0</td>\n",
       "      <td>4</td>\n",
       "    </tr>\n",
       "  </tbody>\n",
       "</table>\n",
       "</div>"
      ],
      "text/plain": [
       "    price  sqft   location  bathrooms  bhk\n",
       "3   190.0  1450  Alaknanda        4.0    4\n",
       "4   190.0  1450  Alaknanda        3.0    3\n",
       "7   187.0  1450  Alaknanda        1.0    4\n",
       "8   183.0  1400  Alaknanda        1.0    3\n",
       "12  185.0  1450  Alaknanda        5.0    4"
      ]
     },
     "execution_count": 37,
     "metadata": {},
     "output_type": "execute_result"
    }
   ],
   "source": [
    "data.drop(columns=['area_type'],inplace=True)\n",
    "data.head()"
   ]
  },
  {
   "cell_type": "code",
   "execution_count": 38,
   "id": "raising-constant",
   "metadata": {},
   "outputs": [],
   "source": [
    "data.to_csv(\"Delhi_Cleaned_data.csv\")"
   ]
  },
  {
   "cell_type": "code",
   "execution_count": 39,
   "id": "strategic-airplane",
   "metadata": {},
   "outputs": [],
   "source": [
    "X = data.drop(columns=['price'])\n",
    "y = data['price']"
   ]
  },
  {
   "cell_type": "code",
   "execution_count": 40,
   "id": "rural-couple",
   "metadata": {},
   "outputs": [],
   "source": [
    "from sklearn.model_selection import train_test_split\n",
    "from sklearn.linear_model import LinearRegression,Lasso,Ridge\n",
    "from sklearn.preprocessing import OneHotEncoder, StandardScaler\n",
    "from sklearn.compose import make_column_transformer\n",
    "from sklearn.pipeline import make_pipeline\n",
    "from sklearn.metrics import r2_score"
   ]
  },
  {
   "cell_type": "code",
   "execution_count": 41,
   "id": "smooth-apollo",
   "metadata": {},
   "outputs": [],
   "source": [
    "X_train,X_test,y_train,y_test = train_test_split(X,y,test_size=0.2, random_state=0)"
   ]
  },
  {
   "cell_type": "code",
   "execution_count": 42,
   "id": "loved-sheet",
   "metadata": {},
   "outputs": [
    {
     "name": "stdout",
     "output_type": "stream",
     "text": [
      "(1565, 4)\n",
      "(392, 4)\n"
     ]
    }
   ],
   "source": [
    "print(X_train.shape)\n",
    "print(X_test.shape)"
   ]
  },
  {
   "cell_type": "markdown",
   "id": "outdoor-european",
   "metadata": {},
   "source": [
    "# Applying Linear Regression"
   ]
  },
  {
   "cell_type": "code",
   "execution_count": 43,
   "id": "ranking-breakfast",
   "metadata": {},
   "outputs": [],
   "source": [
    "column_trans = make_column_transformer((OneHotEncoder(sparse=False), ['location']),remainder='passthrough')"
   ]
  },
  {
   "cell_type": "code",
   "execution_count": 44,
   "id": "proof-purse",
   "metadata": {},
   "outputs": [],
   "source": [
    "scaler = StandardScaler()"
   ]
  },
  {
   "cell_type": "code",
   "execution_count": 45,
   "id": "single-wells",
   "metadata": {},
   "outputs": [],
   "source": [
    "lr = LinearRegression(normalize=True)"
   ]
  },
  {
   "cell_type": "code",
   "execution_count": 46,
   "id": "offshore-blend",
   "metadata": {},
   "outputs": [],
   "source": [
    "pipe = make_pipeline(column_trans,scaler,lr)"
   ]
  },
  {
   "cell_type": "code",
   "execution_count": 47,
   "id": "genetic-depression",
   "metadata": {},
   "outputs": [
    {
     "data": {
      "text/plain": [
       "Pipeline(steps=[('columntransformer',\n",
       "                 ColumnTransformer(remainder='passthrough',\n",
       "                                   transformers=[('onehotencoder',\n",
       "                                                  OneHotEncoder(sparse=False),\n",
       "                                                  ['location'])])),\n",
       "                ('standardscaler', StandardScaler()),\n",
       "                ('linearregression', LinearRegression(normalize=True))])"
      ]
     },
     "execution_count": 47,
     "metadata": {},
     "output_type": "execute_result"
    }
   ],
   "source": [
    "pipe.fit(X_train,y_train)"
   ]
  },
  {
   "cell_type": "code",
   "execution_count": 48,
   "id": "defensive-remains",
   "metadata": {},
   "outputs": [],
   "source": [
    "y_pred_lr = pipe.predict(X_test)"
   ]
  },
  {
   "cell_type": "code",
   "execution_count": 49,
   "id": "about-regular",
   "metadata": {},
   "outputs": [
    {
     "data": {
      "text/plain": [
       "0.3074397601872222"
      ]
     },
     "execution_count": 49,
     "metadata": {},
     "output_type": "execute_result"
    }
   ],
   "source": [
    "r2_score(y_test, y_pred_lr)"
   ]
  },
  {
   "cell_type": "markdown",
   "id": "identified-pennsylvania",
   "metadata": {},
   "source": [
    "# Applying Lasso"
   ]
  },
  {
   "cell_type": "code",
   "execution_count": 50,
   "id": "unique-ethics",
   "metadata": {},
   "outputs": [],
   "source": [
    "lasso = Lasso()"
   ]
  },
  {
   "cell_type": "code",
   "execution_count": 51,
   "id": "coral-sunday",
   "metadata": {},
   "outputs": [],
   "source": [
    "pipe = make_pipeline(column_trans, scaler, lasso)"
   ]
  },
  {
   "cell_type": "code",
   "execution_count": 52,
   "id": "constant-niger",
   "metadata": {},
   "outputs": [
    {
     "data": {
      "text/plain": [
       "Pipeline(steps=[('columntransformer',\n",
       "                 ColumnTransformer(remainder='passthrough',\n",
       "                                   transformers=[('onehotencoder',\n",
       "                                                  OneHotEncoder(sparse=False),\n",
       "                                                  ['location'])])),\n",
       "                ('standardscaler', StandardScaler()), ('lasso', Lasso())])"
      ]
     },
     "execution_count": 52,
     "metadata": {},
     "output_type": "execute_result"
    }
   ],
   "source": [
    "pipe.fit(X_train, y_train)"
   ]
  },
  {
   "cell_type": "code",
   "execution_count": 53,
   "id": "stupid-narrow",
   "metadata": {},
   "outputs": [],
   "source": [
    "y_pred_lasso = pipe.predict(X_test)"
   ]
  },
  {
   "cell_type": "code",
   "execution_count": 54,
   "id": "olive-seven",
   "metadata": {},
   "outputs": [
    {
     "data": {
      "text/plain": [
       "0.3085574350220004"
      ]
     },
     "execution_count": 54,
     "metadata": {},
     "output_type": "execute_result"
    }
   ],
   "source": [
    "r2_score(y_test, y_pred_lasso)"
   ]
  },
  {
   "cell_type": "markdown",
   "id": "sustained-tongue",
   "metadata": {},
   "source": [
    "# Applying Ridge"
   ]
  },
  {
   "cell_type": "code",
   "execution_count": 55,
   "id": "awful-gothic",
   "metadata": {},
   "outputs": [],
   "source": [
    "ridge = Ridge()"
   ]
  },
  {
   "cell_type": "code",
   "execution_count": 56,
   "id": "verbal-filename",
   "metadata": {},
   "outputs": [],
   "source": [
    "pipe = make_pipeline(column_trans, scaler, ridge)"
   ]
  },
  {
   "cell_type": "code",
   "execution_count": 57,
   "id": "indie-composition",
   "metadata": {},
   "outputs": [
    {
     "data": {
      "text/plain": [
       "Pipeline(steps=[('columntransformer',\n",
       "                 ColumnTransformer(remainder='passthrough',\n",
       "                                   transformers=[('onehotencoder',\n",
       "                                                  OneHotEncoder(sparse=False),\n",
       "                                                  ['location'])])),\n",
       "                ('standardscaler', StandardScaler()), ('ridge', Ridge())])"
      ]
     },
     "execution_count": 57,
     "metadata": {},
     "output_type": "execute_result"
    }
   ],
   "source": [
    "pipe.fit(X_train, y_train)"
   ]
  },
  {
   "cell_type": "code",
   "execution_count": 58,
   "id": "southeast-antique",
   "metadata": {},
   "outputs": [],
   "source": [
    "y_pred_ridge = pipe.predict(X_test)"
   ]
  },
  {
   "cell_type": "code",
   "execution_count": 59,
   "id": "computational-screen",
   "metadata": {},
   "outputs": [
    {
     "data": {
      "text/plain": [
       "0.30710662402483324"
      ]
     },
     "execution_count": 59,
     "metadata": {},
     "output_type": "execute_result"
    }
   ],
   "source": [
    "r2_score(y_test, y_pred_ridge)"
   ]
  },
  {
   "cell_type": "code",
   "execution_count": 60,
   "id": "adult-intersection",
   "metadata": {},
   "outputs": [
    {
     "name": "stdout",
     "output_type": "stream",
     "text": [
      "Linear Regression:  0.3074397601872222\n",
      "Lasso:  0.3085574350220004\n",
      "Ridge:  0.30710662402483324\n"
     ]
    }
   ],
   "source": [
    "print(\"Linear Regression: \", r2_score(y_test, y_pred_lr))\n",
    "print(\"Lasso: \", r2_score(y_test, y_pred_lasso))\n",
    "print(\"Ridge: \", r2_score(y_test, y_pred_ridge))"
   ]
  },
  {
   "cell_type": "code",
   "execution_count": 61,
   "id": "focal-interval",
   "metadata": {},
   "outputs": [],
   "source": [
    "import pickle"
   ]
  },
  {
   "cell_type": "code",
   "execution_count": 62,
   "id": "severe-friday",
   "metadata": {},
   "outputs": [],
   "source": [
    "pickle.dump(pipe, open('DelhiRidgeModel.pkl', 'wb'))"
   ]
  },
  {
   "cell_type": "code",
   "execution_count": null,
   "id": "southwest-africa",
   "metadata": {},
   "outputs": [],
   "source": []
  }
 ],
 "metadata": {
  "kernelspec": {
   "display_name": "Python 3",
   "language": "python",
   "name": "python3"
  },
  "language_info": {
   "codemirror_mode": {
    "name": "ipython",
    "version": 3
   },
   "file_extension": ".py",
   "mimetype": "text/x-python",
   "name": "python",
   "nbconvert_exporter": "python",
   "pygments_lexer": "ipython3",
   "version": "3.9.1"
  }
 },
 "nbformat": 4,
 "nbformat_minor": 5
}
