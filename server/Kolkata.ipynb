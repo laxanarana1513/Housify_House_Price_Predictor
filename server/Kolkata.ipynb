{
 "cells": [
  {
   "cell_type": "code",
   "execution_count": 1,
   "id": "polar-basket",
   "metadata": {},
   "outputs": [],
   "source": [
    "import numpy as np\n",
    "import pandas as pd"
   ]
  },
  {
   "cell_type": "code",
   "execution_count": 2,
   "id": "raising-newfoundland",
   "metadata": {},
   "outputs": [],
   "source": [
    "data = pd.read_csv('Kolkata.csv')\n",
    "data['price'] = data['price'] / 100000"
   ]
  },
  {
   "cell_type": "code",
   "execution_count": 3,
   "id": "shaped-token",
   "metadata": {},
   "outputs": [
    {
     "data": {
      "text/html": [
       "<div>\n",
       "<style scoped>\n",
       "    .dataframe tbody tr th:only-of-type {\n",
       "        vertical-align: middle;\n",
       "    }\n",
       "\n",
       "    .dataframe tbody tr th {\n",
       "        vertical-align: top;\n",
       "    }\n",
       "\n",
       "    .dataframe thead th {\n",
       "        text-align: right;\n",
       "    }\n",
       "</style>\n",
       "<table border=\"1\" class=\"dataframe\">\n",
       "  <thead>\n",
       "    <tr style=\"text-align: right;\">\n",
       "      <th></th>\n",
       "      <th>price</th>\n",
       "      <th>sqft</th>\n",
       "      <th>location</th>\n",
       "      <th>bathrooms</th>\n",
       "      <th>bhk</th>\n",
       "      <th>area_type</th>\n",
       "    </tr>\n",
       "  </thead>\n",
       "  <tbody>\n",
       "    <tr>\n",
       "      <th>0</th>\n",
       "      <td>22.35000</td>\n",
       "      <td>1016</td>\n",
       "      <td>Barasat</td>\n",
       "      <td>2.0</td>\n",
       "      <td>1</td>\n",
       "      <td>Super built-up Area</td>\n",
       "    </tr>\n",
       "    <tr>\n",
       "      <th>1</th>\n",
       "      <td>36.65999</td>\n",
       "      <td>1111</td>\n",
       "      <td>Keshtopur</td>\n",
       "      <td>5.0</td>\n",
       "      <td>3</td>\n",
       "      <td>Plot Area</td>\n",
       "    </tr>\n",
       "    <tr>\n",
       "      <th>2</th>\n",
       "      <td>37.74000</td>\n",
       "      <td>1020</td>\n",
       "      <td>Rajarhat</td>\n",
       "      <td>2.0</td>\n",
       "      <td>3</td>\n",
       "      <td>Built-up Area</td>\n",
       "    </tr>\n",
       "    <tr>\n",
       "      <th>3</th>\n",
       "      <td>25.24000</td>\n",
       "      <td>935</td>\n",
       "      <td>Narendrapur</td>\n",
       "      <td>3.0</td>\n",
       "      <td>2</td>\n",
       "      <td>Super built-up Area</td>\n",
       "    </tr>\n",
       "    <tr>\n",
       "      <th>4</th>\n",
       "      <td>83.00000</td>\n",
       "      <td>1956</td>\n",
       "      <td>New Town</td>\n",
       "      <td>2.0</td>\n",
       "      <td>4</td>\n",
       "      <td>Super built-up Area</td>\n",
       "    </tr>\n",
       "  </tbody>\n",
       "</table>\n",
       "</div>"
      ],
      "text/plain": [
       "      price  sqft     location  bathrooms  bhk            area_type\n",
       "0  22.35000  1016      Barasat        2.0    1  Super built-up Area\n",
       "1  36.65999  1111    Keshtopur        5.0    3            Plot Area\n",
       "2  37.74000  1020     Rajarhat        2.0    3        Built-up Area\n",
       "3  25.24000   935  Narendrapur        3.0    2  Super built-up Area\n",
       "4  83.00000  1956     New Town        2.0    4  Super built-up Area"
      ]
     },
     "execution_count": 3,
     "metadata": {},
     "output_type": "execute_result"
    }
   ],
   "source": [
    "data.head()"
   ]
  },
  {
   "cell_type": "code",
   "execution_count": 4,
   "id": "received-thong",
   "metadata": {},
   "outputs": [
    {
     "data": {
      "text/plain": [
       "(6507, 6)"
      ]
     },
     "execution_count": 4,
     "metadata": {},
     "output_type": "execute_result"
    }
   ],
   "source": [
    "data.shape"
   ]
  },
  {
   "cell_type": "code",
   "execution_count": 5,
   "id": "lonely-brighton",
   "metadata": {},
   "outputs": [
    {
     "name": "stdout",
     "output_type": "stream",
     "text": [
      "<class 'pandas.core.frame.DataFrame'>\n",
      "RangeIndex: 6507 entries, 0 to 6506\n",
      "Data columns (total 6 columns):\n",
      " #   Column     Non-Null Count  Dtype  \n",
      "---  ------     --------------  -----  \n",
      " 0   price      6507 non-null   float64\n",
      " 1   sqft       6507 non-null   int64  \n",
      " 2   location   6507 non-null   object \n",
      " 3   bathrooms  6470 non-null   float64\n",
      " 4   bhk        6507 non-null   int64  \n",
      " 5   area_type  6507 non-null   object \n",
      "dtypes: float64(2), int64(2), object(2)\n",
      "memory usage: 305.1+ KB\n"
     ]
    }
   ],
   "source": [
    "data.info()"
   ]
  },
  {
   "cell_type": "code",
   "execution_count": 6,
   "id": "hazardous-lincoln",
   "metadata": {},
   "outputs": [
    {
     "name": "stdout",
     "output_type": "stream",
     "text": [
      "40.00000    99\n",
      "45.00000    97\n",
      "55.00000    96\n",
      "35.00000    94\n",
      "65.00000    93\n",
      "            ..\n",
      "35.61999     1\n",
      "33.82000     1\n",
      "31.18000     1\n",
      "47.12000     1\n",
      "37.60000     1\n",
      "Name: price, Length: 1660, dtype: int64\n",
      "********************\n",
      "800     141\n",
      "750      98\n",
      "1100     89\n",
      "850      85\n",
      "1200     81\n",
      "       ... \n",
      "1874      1\n",
      "3060      1\n",
      "1033      1\n",
      "1057      1\n",
      "2073      1\n",
      "Name: sqft, Length: 1188, dtype: int64\n",
      "********************\n",
      "New Town                   711\n",
      "Rajarhat                   405\n",
      "Tangra                     369\n",
      "Dum Dum                    316\n",
      "Garia                      307\n",
      "                          ... \n",
      "Kestopur                     1\n",
      "Nandi Bagan                  1\n",
      "Action Area IIB Newtown      1\n",
      "Kudgat                       1\n",
      "Nayabad Daspara              1\n",
      "Name: location, Length: 308, dtype: int64\n",
      "********************\n",
      "2.0     3367\n",
      "3.0     1589\n",
      "4.0      612\n",
      "1.0      381\n",
      "5.0      244\n",
      "6.0      130\n",
      "7.0       69\n",
      "8.0       33\n",
      "9.0       24\n",
      "10.0      10\n",
      "12.0       3\n",
      "11.0       2\n",
      "16.0       2\n",
      "15.0       1\n",
      "27.0       1\n",
      "40.0       1\n",
      "14.0       1\n",
      "Name: bathrooms, dtype: int64\n",
      "********************\n",
      "3     2903\n",
      "2     2022\n",
      "4      794\n",
      "1      625\n",
      "5       90\n",
      "6       32\n",
      "7       13\n",
      "8       10\n",
      "9        8\n",
      "10       6\n",
      "11       2\n",
      "16       1\n",
      "13       1\n",
      "Name: bhk, dtype: int64\n",
      "********************\n",
      "Super built-up Area    4279\n",
      "Built-up Area          1183\n",
      "Plot Area               992\n",
      "Carpet Area              53\n",
      "Name: area_type, dtype: int64\n",
      "********************\n"
     ]
    }
   ],
   "source": [
    "for column in data.columns:\n",
    "    print(data[column].value_counts())\n",
    "    print(\"*\"*20)"
   ]
  },
  {
   "cell_type": "code",
   "execution_count": 7,
   "id": "practical-chamber",
   "metadata": {},
   "outputs": [
    {
     "data": {
      "text/plain": [
       "price         0\n",
       "sqft          0\n",
       "location      0\n",
       "bathrooms    37\n",
       "bhk           0\n",
       "area_type     0\n",
       "dtype: int64"
      ]
     },
     "execution_count": 7,
     "metadata": {},
     "output_type": "execute_result"
    }
   ],
   "source": [
    "data.isna().sum()"
   ]
  },
  {
   "cell_type": "code",
   "execution_count": 8,
   "id": "demonstrated-instruction",
   "metadata": {},
   "outputs": [
    {
     "data": {
      "text/html": [
       "<div>\n",
       "<style scoped>\n",
       "    .dataframe tbody tr th:only-of-type {\n",
       "        vertical-align: middle;\n",
       "    }\n",
       "\n",
       "    .dataframe tbody tr th {\n",
       "        vertical-align: top;\n",
       "    }\n",
       "\n",
       "    .dataframe thead th {\n",
       "        text-align: right;\n",
       "    }\n",
       "</style>\n",
       "<table border=\"1\" class=\"dataframe\">\n",
       "  <thead>\n",
       "    <tr style=\"text-align: right;\">\n",
       "      <th></th>\n",
       "      <th>price</th>\n",
       "      <th>sqft</th>\n",
       "      <th>bathrooms</th>\n",
       "      <th>bhk</th>\n",
       "    </tr>\n",
       "  </thead>\n",
       "  <tbody>\n",
       "    <tr>\n",
       "      <th>count</th>\n",
       "      <td>6507.000000</td>\n",
       "      <td>6507.000000</td>\n",
       "      <td>6470.000000</td>\n",
       "      <td>6507.000000</td>\n",
       "    </tr>\n",
       "    <tr>\n",
       "      <th>mean</th>\n",
       "      <td>85.085697</td>\n",
       "      <td>1344.166897</td>\n",
       "      <td>2.717002</td>\n",
       "      <td>2.697095</td>\n",
       "    </tr>\n",
       "    <tr>\n",
       "      <th>std</th>\n",
       "      <td>146.593896</td>\n",
       "      <td>807.698043</td>\n",
       "      <td>1.435630</td>\n",
       "      <td>1.022644</td>\n",
       "    </tr>\n",
       "    <tr>\n",
       "      <th>min</th>\n",
       "      <td>20.000000</td>\n",
       "      <td>350.000000</td>\n",
       "      <td>1.000000</td>\n",
       "      <td>1.000000</td>\n",
       "    </tr>\n",
       "    <tr>\n",
       "      <th>25%</th>\n",
       "      <td>33.000000</td>\n",
       "      <td>920.000000</td>\n",
       "      <td>2.000000</td>\n",
       "      <td>2.000000</td>\n",
       "    </tr>\n",
       "    <tr>\n",
       "      <th>50%</th>\n",
       "      <td>49.400000</td>\n",
       "      <td>1144.000000</td>\n",
       "      <td>2.000000</td>\n",
       "      <td>3.000000</td>\n",
       "    </tr>\n",
       "    <tr>\n",
       "      <th>75%</th>\n",
       "      <td>80.000000</td>\n",
       "      <td>1454.000000</td>\n",
       "      <td>3.000000</td>\n",
       "      <td>3.000000</td>\n",
       "    </tr>\n",
       "    <tr>\n",
       "      <th>max</th>\n",
       "      <td>5040.000000</td>\n",
       "      <td>10000.000000</td>\n",
       "      <td>40.000000</td>\n",
       "      <td>16.000000</td>\n",
       "    </tr>\n",
       "  </tbody>\n",
       "</table>\n",
       "</div>"
      ],
      "text/plain": [
       "             price          sqft    bathrooms          bhk\n",
       "count  6507.000000   6507.000000  6470.000000  6507.000000\n",
       "mean     85.085697   1344.166897     2.717002     2.697095\n",
       "std     146.593896    807.698043     1.435630     1.022644\n",
       "min      20.000000    350.000000     1.000000     1.000000\n",
       "25%      33.000000    920.000000     2.000000     2.000000\n",
       "50%      49.400000   1144.000000     2.000000     3.000000\n",
       "75%      80.000000   1454.000000     3.000000     3.000000\n",
       "max    5040.000000  10000.000000    40.000000    16.000000"
      ]
     },
     "execution_count": 8,
     "metadata": {},
     "output_type": "execute_result"
    }
   ],
   "source": [
    "data.describe()"
   ]
  },
  {
   "cell_type": "code",
   "execution_count": 9,
   "id": "verified-reasoning",
   "metadata": {},
   "outputs": [
    {
     "name": "stdout",
     "output_type": "stream",
     "text": [
      "<class 'pandas.core.frame.DataFrame'>\n",
      "RangeIndex: 6507 entries, 0 to 6506\n",
      "Data columns (total 6 columns):\n",
      " #   Column     Non-Null Count  Dtype  \n",
      "---  ------     --------------  -----  \n",
      " 0   price      6507 non-null   float64\n",
      " 1   sqft       6507 non-null   int64  \n",
      " 2   location   6507 non-null   object \n",
      " 3   bathrooms  6470 non-null   float64\n",
      " 4   bhk        6507 non-null   int64  \n",
      " 5   area_type  6507 non-null   object \n",
      "dtypes: float64(2), int64(2), object(2)\n",
      "memory usage: 305.1+ KB\n"
     ]
    }
   ],
   "source": [
    "data.info()"
   ]
  },
  {
   "cell_type": "code",
   "execution_count": 10,
   "id": "above-concern",
   "metadata": {},
   "outputs": [
    {
     "data": {
      "text/plain": [
       "New Town                   711\n",
       "Rajarhat                   405\n",
       "Tangra                     369\n",
       "Dum Dum                    316\n",
       "Garia                      307\n",
       "                          ... \n",
       "Kestopur                     1\n",
       "Nandi Bagan                  1\n",
       "Action Area IIB Newtown      1\n",
       "Kudgat                       1\n",
       "Nayabad Daspara              1\n",
       "Name: location, Length: 308, dtype: int64"
      ]
     },
     "execution_count": 10,
     "metadata": {},
     "output_type": "execute_result"
    }
   ],
   "source": [
    "data['location'].value_counts()"
   ]
  },
  {
   "cell_type": "code",
   "execution_count": 11,
   "id": "chief-function",
   "metadata": {},
   "outputs": [],
   "source": [
    "data['location'] = data['location'].fillna('Tangra')"
   ]
  },
  {
   "cell_type": "code",
   "execution_count": 12,
   "id": "vertical-concord",
   "metadata": {},
   "outputs": [
    {
     "data": {
      "text/plain": [
       "3     2903\n",
       "2     2022\n",
       "4      794\n",
       "1      625\n",
       "5       90\n",
       "6       32\n",
       "7       13\n",
       "8       10\n",
       "9        8\n",
       "10       6\n",
       "11       2\n",
       "16       1\n",
       "13       1\n",
       "Name: bhk, dtype: int64"
      ]
     },
     "execution_count": 12,
     "metadata": {},
     "output_type": "execute_result"
    }
   ],
   "source": [
    "data['bhk'].value_counts()"
   ]
  },
  {
   "cell_type": "code",
   "execution_count": 13,
   "id": "bearing-stuff",
   "metadata": {},
   "outputs": [],
   "source": [
    "data['bhk'] = data['bhk'].fillna('2')"
   ]
  },
  {
   "cell_type": "code",
   "execution_count": 14,
   "id": "qualified-suffering",
   "metadata": {},
   "outputs": [],
   "source": [
    "data['bathrooms'] = data['bathrooms'].fillna(data['bathrooms'].median())"
   ]
  },
  {
   "cell_type": "code",
   "execution_count": 15,
   "id": "satisfactory-campaign",
   "metadata": {},
   "outputs": [
    {
     "name": "stdout",
     "output_type": "stream",
     "text": [
      "<class 'pandas.core.frame.DataFrame'>\n",
      "RangeIndex: 6507 entries, 0 to 6506\n",
      "Data columns (total 6 columns):\n",
      " #   Column     Non-Null Count  Dtype  \n",
      "---  ------     --------------  -----  \n",
      " 0   price      6507 non-null   float64\n",
      " 1   sqft       6507 non-null   int64  \n",
      " 2   location   6507 non-null   object \n",
      " 3   bathrooms  6507 non-null   float64\n",
      " 4   bhk        6507 non-null   int64  \n",
      " 5   area_type  6507 non-null   object \n",
      "dtypes: float64(2), int64(2), object(2)\n",
      "memory usage: 305.1+ KB\n"
     ]
    }
   ],
   "source": [
    "data.info()"
   ]
  },
  {
   "cell_type": "code",
   "execution_count": 16,
   "id": "cardiac-frederick",
   "metadata": {},
   "outputs": [
    {
     "data": {
      "text/html": [
       "<div>\n",
       "<style scoped>\n",
       "    .dataframe tbody tr th:only-of-type {\n",
       "        vertical-align: middle;\n",
       "    }\n",
       "\n",
       "    .dataframe tbody tr th {\n",
       "        vertical-align: top;\n",
       "    }\n",
       "\n",
       "    .dataframe thead th {\n",
       "        text-align: right;\n",
       "    }\n",
       "</style>\n",
       "<table border=\"1\" class=\"dataframe\">\n",
       "  <thead>\n",
       "    <tr style=\"text-align: right;\">\n",
       "      <th></th>\n",
       "      <th>price</th>\n",
       "      <th>sqft</th>\n",
       "      <th>location</th>\n",
       "      <th>bathrooms</th>\n",
       "      <th>bhk</th>\n",
       "      <th>area_type</th>\n",
       "    </tr>\n",
       "  </thead>\n",
       "  <tbody>\n",
       "  </tbody>\n",
       "</table>\n",
       "</div>"
      ],
      "text/plain": [
       "Empty DataFrame\n",
       "Columns: [price, sqft, location, bathrooms, bhk, area_type]\n",
       "Index: []"
      ]
     },
     "execution_count": 16,
     "metadata": {},
     "output_type": "execute_result"
    }
   ],
   "source": [
    "data[data.bhk > 20]"
   ]
  },
  {
   "cell_type": "code",
   "execution_count": 17,
   "id": "graduate-import",
   "metadata": {},
   "outputs": [
    {
     "data": {
      "text/plain": [
       "array([1016, 1111, 1020, ..., 1002, 1369,  968], dtype=int64)"
      ]
     },
     "execution_count": 17,
     "metadata": {},
     "output_type": "execute_result"
    }
   ],
   "source": [
    "data['sqft'].unique()"
   ]
  },
  {
   "cell_type": "code",
   "execution_count": 18,
   "id": "visible-minutes",
   "metadata": {},
   "outputs": [],
   "source": [
    "def convertRange(x):\n",
    "    temp = x.split('-')\n",
    "    if len(temp) == 2:\n",
    "        return (float(temp[0]) + float(temp[1]))/2\n",
    "    try:\n",
    "        return float(x)\n",
    "    except:\n",
    "        return None"
   ]
  },
  {
   "cell_type": "code",
   "execution_count": 19,
   "id": "sapphire-cliff",
   "metadata": {},
   "outputs": [
    {
     "data": {
      "text/html": [
       "<div>\n",
       "<style scoped>\n",
       "    .dataframe tbody tr th:only-of-type {\n",
       "        vertical-align: middle;\n",
       "    }\n",
       "\n",
       "    .dataframe tbody tr th {\n",
       "        vertical-align: top;\n",
       "    }\n",
       "\n",
       "    .dataframe thead th {\n",
       "        text-align: right;\n",
       "    }\n",
       "</style>\n",
       "<table border=\"1\" class=\"dataframe\">\n",
       "  <thead>\n",
       "    <tr style=\"text-align: right;\">\n",
       "      <th></th>\n",
       "      <th>price</th>\n",
       "      <th>sqft</th>\n",
       "      <th>location</th>\n",
       "      <th>bathrooms</th>\n",
       "      <th>bhk</th>\n",
       "      <th>area_type</th>\n",
       "    </tr>\n",
       "  </thead>\n",
       "  <tbody>\n",
       "    <tr>\n",
       "      <th>0</th>\n",
       "      <td>22.35000</td>\n",
       "      <td>1016</td>\n",
       "      <td>Barasat</td>\n",
       "      <td>2.0</td>\n",
       "      <td>1</td>\n",
       "      <td>Super built-up Area</td>\n",
       "    </tr>\n",
       "    <tr>\n",
       "      <th>1</th>\n",
       "      <td>36.65999</td>\n",
       "      <td>1111</td>\n",
       "      <td>Keshtopur</td>\n",
       "      <td>5.0</td>\n",
       "      <td>3</td>\n",
       "      <td>Plot Area</td>\n",
       "    </tr>\n",
       "    <tr>\n",
       "      <th>2</th>\n",
       "      <td>37.74000</td>\n",
       "      <td>1020</td>\n",
       "      <td>Rajarhat</td>\n",
       "      <td>2.0</td>\n",
       "      <td>3</td>\n",
       "      <td>Built-up Area</td>\n",
       "    </tr>\n",
       "    <tr>\n",
       "      <th>3</th>\n",
       "      <td>25.24000</td>\n",
       "      <td>935</td>\n",
       "      <td>Narendrapur</td>\n",
       "      <td>3.0</td>\n",
       "      <td>2</td>\n",
       "      <td>Super built-up Area</td>\n",
       "    </tr>\n",
       "    <tr>\n",
       "      <th>4</th>\n",
       "      <td>83.00000</td>\n",
       "      <td>1956</td>\n",
       "      <td>New Town</td>\n",
       "      <td>2.0</td>\n",
       "      <td>4</td>\n",
       "      <td>Super built-up Area</td>\n",
       "    </tr>\n",
       "  </tbody>\n",
       "</table>\n",
       "</div>"
      ],
      "text/plain": [
       "      price  sqft     location  bathrooms  bhk            area_type\n",
       "0  22.35000  1016      Barasat        2.0    1  Super built-up Area\n",
       "1  36.65999  1111    Keshtopur        5.0    3            Plot Area\n",
       "2  37.74000  1020     Rajarhat        2.0    3        Built-up Area\n",
       "3  25.24000   935  Narendrapur        3.0    2  Super built-up Area\n",
       "4  83.00000  1956     New Town        2.0    4  Super built-up Area"
      ]
     },
     "execution_count": 19,
     "metadata": {},
     "output_type": "execute_result"
    }
   ],
   "source": [
    "data.head()"
   ]
  },
  {
   "cell_type": "markdown",
   "id": "assured-output",
   "metadata": {},
   "source": [
    "# Price Per Square Feet"
   ]
  },
  {
   "cell_type": "code",
   "execution_count": 20,
   "id": "duplicate-baseball",
   "metadata": {},
   "outputs": [
    {
     "data": {
      "text/plain": [
       "New Town                   711\n",
       "Rajarhat                   405\n",
       "Tangra                     369\n",
       "Dum Dum                    316\n",
       "Garia                      307\n",
       "                          ... \n",
       "Kestopur                     1\n",
       "Nandi Bagan                  1\n",
       "Action Area IIB Newtown      1\n",
       "Kudgat                       1\n",
       "Nayabad Daspara              1\n",
       "Name: location, Length: 308, dtype: int64"
      ]
     },
     "execution_count": 20,
     "metadata": {},
     "output_type": "execute_result"
    }
   ],
   "source": [
    "data['location'].value_counts()"
   ]
  },
  {
   "cell_type": "code",
   "execution_count": 21,
   "id": "three-treasure",
   "metadata": {},
   "outputs": [],
   "source": [
    "data['location'] = data['location'].apply(lambda x: x.strip())"
   ]
  },
  {
   "cell_type": "code",
   "execution_count": 22,
   "id": "dried-ukraine",
   "metadata": {},
   "outputs": [
    {
     "data": {
      "text/plain": [
       "0           Barasat\n",
       "1         Keshtopur\n",
       "2          Rajarhat\n",
       "3       Narendrapur\n",
       "4          New Town\n",
       "           ...     \n",
       "6502      Lake Town\n",
       "6503    Narendrapur\n",
       "6504       Rajarhat\n",
       "6505       Kaikhali\n",
       "6506         Howrah\n",
       "Name: location, Length: 6507, dtype: object"
      ]
     },
     "execution_count": 22,
     "metadata": {},
     "output_type": "execute_result"
    }
   ],
   "source": [
    "data['location']"
   ]
  },
  {
   "cell_type": "code",
   "execution_count": 23,
   "id": "liquid-somewhere",
   "metadata": {},
   "outputs": [],
   "source": [
    "location_count = data['location'].value_counts()"
   ]
  },
  {
   "cell_type": "code",
   "execution_count": 24,
   "id": "incoming-alexandria",
   "metadata": {},
   "outputs": [
    {
     "data": {
      "text/plain": [
       "New Town                   711\n",
       "Rajarhat                   405\n",
       "Tangra                     369\n",
       "Dum Dum                    316\n",
       "Garia                      307\n",
       "                          ... \n",
       "Kestopur                     1\n",
       "Nandi Bagan                  1\n",
       "Action Area IIB Newtown      1\n",
       "Kudgat                       1\n",
       "Nayabad Daspara              1\n",
       "Name: location, Length: 308, dtype: int64"
      ]
     },
     "execution_count": 24,
     "metadata": {},
     "output_type": "execute_result"
    }
   ],
   "source": [
    "location_count"
   ]
  },
  {
   "cell_type": "code",
   "execution_count": 25,
   "id": "chicken-armenia",
   "metadata": {},
   "outputs": [
    {
     "data": {
      "text/plain": [
       "Ganguly Bagan              10\n",
       "Airport                    10\n",
       "Dhakuria Station Road      10\n",
       "Topsia Road                10\n",
       "Baghajatin                 10\n",
       "                           ..\n",
       "Kestopur                    1\n",
       "Nandi Bagan                 1\n",
       "Action Area IIB Newtown     1\n",
       "Kudgat                      1\n",
       "Nayabad Daspara             1\n",
       "Name: location, Length: 230, dtype: int64"
      ]
     },
     "execution_count": 25,
     "metadata": {},
     "output_type": "execute_result"
    }
   ],
   "source": [
    "location_count_less_10 = location_count[location_count <= 10]\n",
    "location_count_less_10"
   ]
  },
  {
   "cell_type": "code",
   "execution_count": 26,
   "id": "terminal-canada",
   "metadata": {},
   "outputs": [],
   "source": [
    "data['location'] = data['location'].apply(lambda x: 'Other' if x in location_count_less_10 else x)"
   ]
  },
  {
   "cell_type": "code",
   "execution_count": 27,
   "id": "coordinated-bottom",
   "metadata": {},
   "outputs": [
    {
     "data": {
      "text/plain": [
       "New Town                        711\n",
       "Other                           709\n",
       "Rajarhat                        405\n",
       "Tangra                          369\n",
       "Dum Dum                         316\n",
       "                               ... \n",
       "Durgapur                         12\n",
       "Naktala                          12\n",
       "Hooghly Chinsurah                11\n",
       "Elgin                            11\n",
       "N S C Bose Road  Narendrapur     11\n",
       "Name: location, Length: 79, dtype: int64"
      ]
     },
     "execution_count": 27,
     "metadata": {},
     "output_type": "execute_result"
    }
   ],
   "source": [
    "data['location'].value_counts()"
   ]
  },
  {
   "cell_type": "markdown",
   "id": "billion-compilation",
   "metadata": {},
   "source": [
    "# Outliers Detection and Removal"
   ]
  },
  {
   "cell_type": "code",
   "execution_count": 28,
   "id": "consistent-interaction",
   "metadata": {},
   "outputs": [
    {
     "data": {
      "text/plain": [
       "count    6507.000000\n",
       "mean      587.897689\n",
       "std       485.578019\n",
       "min        68.181818\n",
       "25%       323.666667\n",
       "50%       450.000000\n",
       "75%       660.000000\n",
       "max      7000.000000\n",
       "dtype: float64"
      ]
     },
     "execution_count": 28,
     "metadata": {},
     "output_type": "execute_result"
    }
   ],
   "source": [
    "(data['sqft'] / data['bhk']).describe()"
   ]
  },
  {
   "cell_type": "code",
   "execution_count": 29,
   "id": "liquid-large",
   "metadata": {},
   "outputs": [
    {
     "data": {
      "text/html": [
       "<div>\n",
       "<style scoped>\n",
       "    .dataframe tbody tr th:only-of-type {\n",
       "        vertical-align: middle;\n",
       "    }\n",
       "\n",
       "    .dataframe tbody tr th {\n",
       "        vertical-align: top;\n",
       "    }\n",
       "\n",
       "    .dataframe thead th {\n",
       "        text-align: right;\n",
       "    }\n",
       "</style>\n",
       "<table border=\"1\" class=\"dataframe\">\n",
       "  <thead>\n",
       "    <tr style=\"text-align: right;\">\n",
       "      <th></th>\n",
       "      <th>price</th>\n",
       "      <th>sqft</th>\n",
       "      <th>bathrooms</th>\n",
       "      <th>bhk</th>\n",
       "    </tr>\n",
       "  </thead>\n",
       "  <tbody>\n",
       "    <tr>\n",
       "      <th>count</th>\n",
       "      <td>5277.000000</td>\n",
       "      <td>5277.000000</td>\n",
       "      <td>5277.000000</td>\n",
       "      <td>5277.000000</td>\n",
       "    </tr>\n",
       "    <tr>\n",
       "      <th>mean</th>\n",
       "      <td>87.885203</td>\n",
       "      <td>1454.717453</td>\n",
       "      <td>2.701345</td>\n",
       "      <td>2.454614</td>\n",
       "    </tr>\n",
       "    <tr>\n",
       "      <th>std</th>\n",
       "      <td>141.011217</td>\n",
       "      <td>854.565735</td>\n",
       "      <td>1.398805</td>\n",
       "      <td>0.801153</td>\n",
       "    </tr>\n",
       "    <tr>\n",
       "      <th>min</th>\n",
       "      <td>20.000000</td>\n",
       "      <td>576.000000</td>\n",
       "      <td>1.000000</td>\n",
       "      <td>1.000000</td>\n",
       "    </tr>\n",
       "    <tr>\n",
       "      <th>25%</th>\n",
       "      <td>34.000000</td>\n",
       "      <td>1000.000000</td>\n",
       "      <td>2.000000</td>\n",
       "      <td>2.000000</td>\n",
       "    </tr>\n",
       "    <tr>\n",
       "      <th>50%</th>\n",
       "      <td>50.500000</td>\n",
       "      <td>1226.000000</td>\n",
       "      <td>2.000000</td>\n",
       "      <td>3.000000</td>\n",
       "    </tr>\n",
       "    <tr>\n",
       "      <th>75%</th>\n",
       "      <td>80.430000</td>\n",
       "      <td>1537.000000</td>\n",
       "      <td>3.000000</td>\n",
       "      <td>3.000000</td>\n",
       "    </tr>\n",
       "    <tr>\n",
       "      <th>max</th>\n",
       "      <td>1900.000000</td>\n",
       "      <td>10000.000000</td>\n",
       "      <td>40.000000</td>\n",
       "      <td>8.000000</td>\n",
       "    </tr>\n",
       "  </tbody>\n",
       "</table>\n",
       "</div>"
      ],
      "text/plain": [
       "             price          sqft    bathrooms          bhk\n",
       "count  5277.000000   5277.000000  5277.000000  5277.000000\n",
       "mean     87.885203   1454.717453     2.701345     2.454614\n",
       "std     141.011217    854.565735     1.398805     0.801153\n",
       "min      20.000000    576.000000     1.000000     1.000000\n",
       "25%      34.000000   1000.000000     2.000000     2.000000\n",
       "50%      50.500000   1226.000000     2.000000     3.000000\n",
       "75%      80.430000   1537.000000     3.000000     3.000000\n",
       "max    1900.000000  10000.000000    40.000000     8.000000"
      ]
     },
     "execution_count": 29,
     "metadata": {},
     "output_type": "execute_result"
    }
   ],
   "source": [
    "data = data[((data['sqft']/data['bhk']) >= 300)]\n",
    "data.describe()"
   ]
  },
  {
   "cell_type": "code",
   "execution_count": 30,
   "id": "passive-organ",
   "metadata": {},
   "outputs": [
    {
     "data": {
      "text/plain": [
       "(5277, 6)"
      ]
     },
     "execution_count": 30,
     "metadata": {},
     "output_type": "execute_result"
    }
   ],
   "source": [
    "data.shape"
   ]
  },
  {
   "cell_type": "code",
   "execution_count": 31,
   "id": "strategic-leeds",
   "metadata": {},
   "outputs": [
    {
     "data": {
      "text/plain": [
       "count    5277.000000\n",
       "mean       87.885203\n",
       "std       141.011217\n",
       "min        20.000000\n",
       "25%        34.000000\n",
       "50%        50.500000\n",
       "75%        80.430000\n",
       "max      1900.000000\n",
       "Name: price, dtype: float64"
      ]
     },
     "execution_count": 31,
     "metadata": {},
     "output_type": "execute_result"
    }
   ],
   "source": [
    "data.price.describe()"
   ]
  },
  {
   "cell_type": "code",
   "execution_count": 32,
   "id": "juvenile-oliver",
   "metadata": {},
   "outputs": [
    {
     "data": {
      "text/html": [
       "<div>\n",
       "<style scoped>\n",
       "    .dataframe tbody tr th:only-of-type {\n",
       "        vertical-align: middle;\n",
       "    }\n",
       "\n",
       "    .dataframe tbody tr th {\n",
       "        vertical-align: top;\n",
       "    }\n",
       "\n",
       "    .dataframe thead th {\n",
       "        text-align: right;\n",
       "    }\n",
       "</style>\n",
       "<table border=\"1\" class=\"dataframe\">\n",
       "  <thead>\n",
       "    <tr style=\"text-align: right;\">\n",
       "      <th></th>\n",
       "      <th>price</th>\n",
       "      <th>sqft</th>\n",
       "      <th>bathrooms</th>\n",
       "      <th>bhk</th>\n",
       "    </tr>\n",
       "  </thead>\n",
       "  <tbody>\n",
       "    <tr>\n",
       "      <th>count</th>\n",
       "      <td>4821.00000</td>\n",
       "      <td>4821.000000</td>\n",
       "      <td>4821.000000</td>\n",
       "      <td>4821.000000</td>\n",
       "    </tr>\n",
       "    <tr>\n",
       "      <th>mean</th>\n",
       "      <td>57.55622</td>\n",
       "      <td>1415.127774</td>\n",
       "      <td>2.698195</td>\n",
       "      <td>2.449907</td>\n",
       "    </tr>\n",
       "    <tr>\n",
       "      <th>std</th>\n",
       "      <td>35.66875</td>\n",
       "      <td>781.069371</td>\n",
       "      <td>1.311130</td>\n",
       "      <td>0.799008</td>\n",
       "    </tr>\n",
       "    <tr>\n",
       "      <th>min</th>\n",
       "      <td>20.00000</td>\n",
       "      <td>576.000000</td>\n",
       "      <td>1.000000</td>\n",
       "      <td>1.000000</td>\n",
       "    </tr>\n",
       "    <tr>\n",
       "      <th>25%</th>\n",
       "      <td>33.00000</td>\n",
       "      <td>1000.000000</td>\n",
       "      <td>2.000000</td>\n",
       "      <td>2.000000</td>\n",
       "    </tr>\n",
       "    <tr>\n",
       "      <th>50%</th>\n",
       "      <td>47.52000</td>\n",
       "      <td>1216.000000</td>\n",
       "      <td>2.000000</td>\n",
       "      <td>2.000000</td>\n",
       "    </tr>\n",
       "    <tr>\n",
       "      <th>75%</th>\n",
       "      <td>72.75000</td>\n",
       "      <td>1523.000000</td>\n",
       "      <td>3.000000</td>\n",
       "      <td>3.000000</td>\n",
       "    </tr>\n",
       "    <tr>\n",
       "      <th>max</th>\n",
       "      <td>574.00000</td>\n",
       "      <td>10000.000000</td>\n",
       "      <td>16.000000</td>\n",
       "      <td>7.000000</td>\n",
       "    </tr>\n",
       "  </tbody>\n",
       "</table>\n",
       "</div>"
      ],
      "text/plain": [
       "            price          sqft    bathrooms          bhk\n",
       "count  4821.00000   4821.000000  4821.000000  4821.000000\n",
       "mean     57.55622   1415.127774     2.698195     2.449907\n",
       "std      35.66875    781.069371     1.311130     0.799008\n",
       "min      20.00000    576.000000     1.000000     1.000000\n",
       "25%      33.00000   1000.000000     2.000000     2.000000\n",
       "50%      47.52000   1216.000000     2.000000     2.000000\n",
       "75%      72.75000   1523.000000     3.000000     3.000000\n",
       "max     574.00000  10000.000000    16.000000     7.000000"
      ]
     },
     "execution_count": 32,
     "metadata": {},
     "output_type": "execute_result"
    }
   ],
   "source": [
    "def remove_outliers_sqft(df):\n",
    "    df_output = pd.DataFrame()\n",
    "    for key,subdf in df.groupby('location'):\n",
    "        m = np.mean(subdf.price)\n",
    "        st = np.std(subdf.price)\n",
    "        gen_df = subdf[(subdf.price > (m-st)) & (subdf.price <= (m+st))]\n",
    "        df_output = pd.concat([df_output,gen_df],ignore_index =True)\n",
    "    return df_output\n",
    "data = remove_outliers_sqft(data)\n",
    "data.describe()"
   ]
  },
  {
   "cell_type": "code",
   "execution_count": 33,
   "id": "paperback-consequence",
   "metadata": {},
   "outputs": [],
   "source": [
    "def bhk_outlier_remover(df):\n",
    "    exclude_indices = np.array([])\n",
    "    for location, loc_df in df.groupby('location'):\n",
    "        bhk_stats = {}\n",
    "        for bhk, bhk_df in loc_df.groupby('bhk'):\n",
    "            bhk_stats[bhk] = {\n",
    "                'mean': np.mean(bhk_df.price),\n",
    "                'std': np.std(bhk_df.price),\n",
    "                'count': bhk_df.shape[0]\n",
    "            }\n",
    "        for bhk, bhk_df in loc_df.groupby('bhk'):\n",
    "            stats = bhk_stats.get(bhk-1)\n",
    "            if stats and stats['count']>5:\n",
    "                exclude_indices = np.append(exclude_indices, bhk_df[bhk_df.price<(stats['mean'])].index.values)\n",
    "    return df.drop(exclude_indices,axis='index')"
   ]
  },
  {
   "cell_type": "code",
   "execution_count": 34,
   "id": "alleged-ready",
   "metadata": {},
   "outputs": [],
   "source": [
    "data = bhk_outlier_remover(data)"
   ]
  },
  {
   "cell_type": "code",
   "execution_count": 35,
   "id": "arabic-torture",
   "metadata": {},
   "outputs": [
    {
     "data": {
      "text/plain": [
       "(2590, 6)"
      ]
     },
     "execution_count": 35,
     "metadata": {},
     "output_type": "execute_result"
    }
   ],
   "source": [
    "data.shape"
   ]
  },
  {
   "cell_type": "code",
   "execution_count": 36,
   "id": "modular-facility",
   "metadata": {},
   "outputs": [
    {
     "data": {
      "text/html": [
       "<div>\n",
       "<style scoped>\n",
       "    .dataframe tbody tr th:only-of-type {\n",
       "        vertical-align: middle;\n",
       "    }\n",
       "\n",
       "    .dataframe tbody tr th {\n",
       "        vertical-align: top;\n",
       "    }\n",
       "\n",
       "    .dataframe thead th {\n",
       "        text-align: right;\n",
       "    }\n",
       "</style>\n",
       "<table border=\"1\" class=\"dataframe\">\n",
       "  <thead>\n",
       "    <tr style=\"text-align: right;\">\n",
       "      <th></th>\n",
       "      <th>price</th>\n",
       "      <th>sqft</th>\n",
       "      <th>location</th>\n",
       "      <th>bathrooms</th>\n",
       "      <th>bhk</th>\n",
       "      <th>area_type</th>\n",
       "    </tr>\n",
       "  </thead>\n",
       "  <tbody>\n",
       "    <tr>\n",
       "      <th>0</th>\n",
       "      <td>574.00</td>\n",
       "      <td>4995</td>\n",
       "      <td>Alipore</td>\n",
       "      <td>1.0</td>\n",
       "      <td>3</td>\n",
       "      <td>Super built-up Area</td>\n",
       "    </tr>\n",
       "    <tr>\n",
       "      <th>1</th>\n",
       "      <td>520.00</td>\n",
       "      <td>4995</td>\n",
       "      <td>Alipore</td>\n",
       "      <td>3.0</td>\n",
       "      <td>2</td>\n",
       "      <td>Super built-up Area</td>\n",
       "    </tr>\n",
       "    <tr>\n",
       "      <th>2</th>\n",
       "      <td>450.00</td>\n",
       "      <td>4100</td>\n",
       "      <td>Alipore</td>\n",
       "      <td>1.0</td>\n",
       "      <td>3</td>\n",
       "      <td>Super built-up Area</td>\n",
       "    </tr>\n",
       "    <tr>\n",
       "      <th>3</th>\n",
       "      <td>426.00</td>\n",
       "      <td>3391</td>\n",
       "      <td>Alipore</td>\n",
       "      <td>3.0</td>\n",
       "      <td>2</td>\n",
       "      <td>Super built-up Area</td>\n",
       "    </tr>\n",
       "    <tr>\n",
       "      <th>4</th>\n",
       "      <td>111.00</td>\n",
       "      <td>2665</td>\n",
       "      <td>Alipore</td>\n",
       "      <td>5.0</td>\n",
       "      <td>1</td>\n",
       "      <td>Plot Area</td>\n",
       "    </tr>\n",
       "    <tr>\n",
       "      <th>...</th>\n",
       "      <td>...</td>\n",
       "      <td>...</td>\n",
       "      <td>...</td>\n",
       "      <td>...</td>\n",
       "      <td>...</td>\n",
       "      <td>...</td>\n",
       "    </tr>\n",
       "    <tr>\n",
       "      <th>4816</th>\n",
       "      <td>32.40</td>\n",
       "      <td>1274</td>\n",
       "      <td>south dum dum</td>\n",
       "      <td>3.0</td>\n",
       "      <td>3</td>\n",
       "      <td>Super built-up Area</td>\n",
       "    </tr>\n",
       "    <tr>\n",
       "      <th>4817</th>\n",
       "      <td>28.98</td>\n",
       "      <td>810</td>\n",
       "      <td>south dum dum</td>\n",
       "      <td>2.0</td>\n",
       "      <td>2</td>\n",
       "      <td>Built-up Area</td>\n",
       "    </tr>\n",
       "    <tr>\n",
       "      <th>4818</th>\n",
       "      <td>37.82</td>\n",
       "      <td>1126</td>\n",
       "      <td>south dum dum</td>\n",
       "      <td>1.0</td>\n",
       "      <td>3</td>\n",
       "      <td>Super built-up Area</td>\n",
       "    </tr>\n",
       "    <tr>\n",
       "      <th>4819</th>\n",
       "      <td>32.00</td>\n",
       "      <td>900</td>\n",
       "      <td>south dum dum</td>\n",
       "      <td>2.0</td>\n",
       "      <td>3</td>\n",
       "      <td>Super built-up Area</td>\n",
       "    </tr>\n",
       "    <tr>\n",
       "      <th>4820</th>\n",
       "      <td>55.00</td>\n",
       "      <td>1281</td>\n",
       "      <td>south dum dum</td>\n",
       "      <td>5.0</td>\n",
       "      <td>3</td>\n",
       "      <td>Plot Area</td>\n",
       "    </tr>\n",
       "  </tbody>\n",
       "</table>\n",
       "<p>2590 rows × 6 columns</p>\n",
       "</div>"
      ],
      "text/plain": [
       "       price  sqft       location  bathrooms  bhk            area_type\n",
       "0     574.00  4995        Alipore        1.0    3  Super built-up Area\n",
       "1     520.00  4995        Alipore        3.0    2  Super built-up Area\n",
       "2     450.00  4100        Alipore        1.0    3  Super built-up Area\n",
       "3     426.00  3391        Alipore        3.0    2  Super built-up Area\n",
       "4     111.00  2665        Alipore        5.0    1            Plot Area\n",
       "...      ...   ...            ...        ...  ...                  ...\n",
       "4816   32.40  1274  south dum dum        3.0    3  Super built-up Area\n",
       "4817   28.98   810  south dum dum        2.0    2        Built-up Area\n",
       "4818   37.82  1126  south dum dum        1.0    3  Super built-up Area\n",
       "4819   32.00   900  south dum dum        2.0    3  Super built-up Area\n",
       "4820   55.00  1281  south dum dum        5.0    3            Plot Area\n",
       "\n",
       "[2590 rows x 6 columns]"
      ]
     },
     "execution_count": 36,
     "metadata": {},
     "output_type": "execute_result"
    }
   ],
   "source": [
    "data"
   ]
  },
  {
   "cell_type": "markdown",
   "id": "domestic-bacteria",
   "metadata": {},
   "source": [
    "# Cleaned Data"
   ]
  },
  {
   "cell_type": "code",
   "execution_count": 37,
   "id": "working-graduation",
   "metadata": {},
   "outputs": [
    {
     "data": {
      "text/html": [
       "<div>\n",
       "<style scoped>\n",
       "    .dataframe tbody tr th:only-of-type {\n",
       "        vertical-align: middle;\n",
       "    }\n",
       "\n",
       "    .dataframe tbody tr th {\n",
       "        vertical-align: top;\n",
       "    }\n",
       "\n",
       "    .dataframe thead th {\n",
       "        text-align: right;\n",
       "    }\n",
       "</style>\n",
       "<table border=\"1\" class=\"dataframe\">\n",
       "  <thead>\n",
       "    <tr style=\"text-align: right;\">\n",
       "      <th></th>\n",
       "      <th>price</th>\n",
       "      <th>sqft</th>\n",
       "      <th>location</th>\n",
       "      <th>bathrooms</th>\n",
       "      <th>bhk</th>\n",
       "    </tr>\n",
       "  </thead>\n",
       "  <tbody>\n",
       "    <tr>\n",
       "      <th>0</th>\n",
       "      <td>574.0</td>\n",
       "      <td>4995</td>\n",
       "      <td>Alipore</td>\n",
       "      <td>1.0</td>\n",
       "      <td>3</td>\n",
       "    </tr>\n",
       "    <tr>\n",
       "      <th>1</th>\n",
       "      <td>520.0</td>\n",
       "      <td>4995</td>\n",
       "      <td>Alipore</td>\n",
       "      <td>3.0</td>\n",
       "      <td>2</td>\n",
       "    </tr>\n",
       "    <tr>\n",
       "      <th>2</th>\n",
       "      <td>450.0</td>\n",
       "      <td>4100</td>\n",
       "      <td>Alipore</td>\n",
       "      <td>1.0</td>\n",
       "      <td>3</td>\n",
       "    </tr>\n",
       "    <tr>\n",
       "      <th>3</th>\n",
       "      <td>426.0</td>\n",
       "      <td>3391</td>\n",
       "      <td>Alipore</td>\n",
       "      <td>3.0</td>\n",
       "      <td>2</td>\n",
       "    </tr>\n",
       "    <tr>\n",
       "      <th>4</th>\n",
       "      <td>111.0</td>\n",
       "      <td>2665</td>\n",
       "      <td>Alipore</td>\n",
       "      <td>5.0</td>\n",
       "      <td>1</td>\n",
       "    </tr>\n",
       "  </tbody>\n",
       "</table>\n",
       "</div>"
      ],
      "text/plain": [
       "   price  sqft location  bathrooms  bhk\n",
       "0  574.0  4995  Alipore        1.0    3\n",
       "1  520.0  4995  Alipore        3.0    2\n",
       "2  450.0  4100  Alipore        1.0    3\n",
       "3  426.0  3391  Alipore        3.0    2\n",
       "4  111.0  2665  Alipore        5.0    1"
      ]
     },
     "execution_count": 37,
     "metadata": {},
     "output_type": "execute_result"
    }
   ],
   "source": [
    "data.drop(columns=['area_type'],inplace=True)\n",
    "data.head()"
   ]
  },
  {
   "cell_type": "code",
   "execution_count": 38,
   "id": "cognitive-falls",
   "metadata": {},
   "outputs": [],
   "source": [
    "data.to_csv(\"Kolkata_Cleaned_data.csv\")"
   ]
  },
  {
   "cell_type": "code",
   "execution_count": 39,
   "id": "auburn-commitment",
   "metadata": {},
   "outputs": [],
   "source": [
    "X = data.drop(columns=['price'])\n",
    "y = data['price']"
   ]
  },
  {
   "cell_type": "code",
   "execution_count": 40,
   "id": "biological-center",
   "metadata": {},
   "outputs": [],
   "source": [
    "from sklearn.model_selection import train_test_split\n",
    "from sklearn.linear_model import LinearRegression,Lasso,Ridge\n",
    "from sklearn.preprocessing import OneHotEncoder, StandardScaler\n",
    "from sklearn.compose import make_column_transformer\n",
    "from sklearn.pipeline import make_pipeline\n",
    "from sklearn.metrics import r2_score"
   ]
  },
  {
   "cell_type": "code",
   "execution_count": 41,
   "id": "further-taiwan",
   "metadata": {},
   "outputs": [],
   "source": [
    "X_train,X_test,y_train,y_test = train_test_split(X,y,test_size=0.2, random_state=0)"
   ]
  },
  {
   "cell_type": "code",
   "execution_count": 42,
   "id": "signed-minutes",
   "metadata": {},
   "outputs": [
    {
     "name": "stdout",
     "output_type": "stream",
     "text": [
      "(2072, 4)\n",
      "(518, 4)\n"
     ]
    }
   ],
   "source": [
    "print(X_train.shape)\n",
    "print(X_test.shape)"
   ]
  },
  {
   "cell_type": "markdown",
   "id": "worthy-passenger",
   "metadata": {},
   "source": [
    "# Applying Linear Regression"
   ]
  },
  {
   "cell_type": "code",
   "execution_count": 43,
   "id": "czech-department",
   "metadata": {},
   "outputs": [],
   "source": [
    "column_trans = make_column_transformer((OneHotEncoder(sparse=False), ['location']),remainder='passthrough')"
   ]
  },
  {
   "cell_type": "code",
   "execution_count": 44,
   "id": "collaborative-prayer",
   "metadata": {},
   "outputs": [],
   "source": [
    "scaler = StandardScaler()"
   ]
  },
  {
   "cell_type": "code",
   "execution_count": 45,
   "id": "early-memorial",
   "metadata": {},
   "outputs": [],
   "source": [
    "lr = LinearRegression(normalize=True)"
   ]
  },
  {
   "cell_type": "code",
   "execution_count": 46,
   "id": "ethical-baseline",
   "metadata": {},
   "outputs": [],
   "source": [
    "pipe = make_pipeline(column_trans,scaler,lr)"
   ]
  },
  {
   "cell_type": "code",
   "execution_count": 47,
   "id": "mobile-replica",
   "metadata": {},
   "outputs": [
    {
     "data": {
      "text/plain": [
       "Pipeline(steps=[('columntransformer',\n",
       "                 ColumnTransformer(remainder='passthrough',\n",
       "                                   transformers=[('onehotencoder',\n",
       "                                                  OneHotEncoder(sparse=False),\n",
       "                                                  ['location'])])),\n",
       "                ('standardscaler', StandardScaler()),\n",
       "                ('linearregression', LinearRegression(normalize=True))])"
      ]
     },
     "execution_count": 47,
     "metadata": {},
     "output_type": "execute_result"
    }
   ],
   "source": [
    "pipe.fit(X_train,y_train)"
   ]
  },
  {
   "cell_type": "code",
   "execution_count": 48,
   "id": "structured-headline",
   "metadata": {},
   "outputs": [],
   "source": [
    "y_pred_lr = pipe.predict(X_test)"
   ]
  },
  {
   "cell_type": "code",
   "execution_count": 49,
   "id": "compound-arrangement",
   "metadata": {},
   "outputs": [
    {
     "data": {
      "text/plain": [
       "0.10772988964164809"
      ]
     },
     "execution_count": 49,
     "metadata": {},
     "output_type": "execute_result"
    }
   ],
   "source": [
    "r2_score(y_test, y_pred_lr)"
   ]
  },
  {
   "cell_type": "markdown",
   "id": "variable-hughes",
   "metadata": {},
   "source": [
    "# Applying Lasso"
   ]
  },
  {
   "cell_type": "code",
   "execution_count": 50,
   "id": "unavailable-norway",
   "metadata": {},
   "outputs": [],
   "source": [
    "lasso = Lasso()"
   ]
  },
  {
   "cell_type": "code",
   "execution_count": 51,
   "id": "found-berkeley",
   "metadata": {},
   "outputs": [],
   "source": [
    "pipe = make_pipeline(column_trans, scaler, lasso)"
   ]
  },
  {
   "cell_type": "code",
   "execution_count": 52,
   "id": "micro-quantum",
   "metadata": {},
   "outputs": [
    {
     "data": {
      "text/plain": [
       "Pipeline(steps=[('columntransformer',\n",
       "                 ColumnTransformer(remainder='passthrough',\n",
       "                                   transformers=[('onehotencoder',\n",
       "                                                  OneHotEncoder(sparse=False),\n",
       "                                                  ['location'])])),\n",
       "                ('standardscaler', StandardScaler()), ('lasso', Lasso())])"
      ]
     },
     "execution_count": 52,
     "metadata": {},
     "output_type": "execute_result"
    }
   ],
   "source": [
    "pipe.fit(X_train, y_train)"
   ]
  },
  {
   "cell_type": "code",
   "execution_count": 53,
   "id": "dressed-residence",
   "metadata": {},
   "outputs": [],
   "source": [
    "y_pred_lasso = pipe.predict(X_test)"
   ]
  },
  {
   "cell_type": "code",
   "execution_count": 54,
   "id": "proof-melbourne",
   "metadata": {},
   "outputs": [
    {
     "data": {
      "text/plain": [
       "0.1263416290744931"
      ]
     },
     "execution_count": 54,
     "metadata": {},
     "output_type": "execute_result"
    }
   ],
   "source": [
    "r2_score(y_test, y_pred_lasso)"
   ]
  },
  {
   "cell_type": "markdown",
   "id": "developmental-basket",
   "metadata": {},
   "source": [
    "# Applying Ridge"
   ]
  },
  {
   "cell_type": "code",
   "execution_count": 55,
   "id": "confused-ecology",
   "metadata": {},
   "outputs": [],
   "source": [
    "ridge = Ridge()"
   ]
  },
  {
   "cell_type": "code",
   "execution_count": 56,
   "id": "classical-doctor",
   "metadata": {},
   "outputs": [],
   "source": [
    "pipe = make_pipeline(column_trans, scaler, ridge)"
   ]
  },
  {
   "cell_type": "code",
   "execution_count": 57,
   "id": "distant-estate",
   "metadata": {},
   "outputs": [
    {
     "data": {
      "text/plain": [
       "Pipeline(steps=[('columntransformer',\n",
       "                 ColumnTransformer(remainder='passthrough',\n",
       "                                   transformers=[('onehotencoder',\n",
       "                                                  OneHotEncoder(sparse=False),\n",
       "                                                  ['location'])])),\n",
       "                ('standardscaler', StandardScaler()), ('ridge', Ridge())])"
      ]
     },
     "execution_count": 57,
     "metadata": {},
     "output_type": "execute_result"
    }
   ],
   "source": [
    "pipe.fit(X_train, y_train)"
   ]
  },
  {
   "cell_type": "code",
   "execution_count": 58,
   "id": "adverse-programmer",
   "metadata": {},
   "outputs": [],
   "source": [
    "y_pred_ridge = pipe.predict(X_test)"
   ]
  },
  {
   "cell_type": "code",
   "execution_count": 59,
   "id": "proprietary-marsh",
   "metadata": {},
   "outputs": [
    {
     "data": {
      "text/plain": [
       "0.1092218657754993"
      ]
     },
     "execution_count": 59,
     "metadata": {},
     "output_type": "execute_result"
    }
   ],
   "source": [
    "r2_score(y_test, y_pred_ridge)"
   ]
  },
  {
   "cell_type": "code",
   "execution_count": 60,
   "id": "decreased-gabriel",
   "metadata": {},
   "outputs": [
    {
     "name": "stdout",
     "output_type": "stream",
     "text": [
      "Linear Regression:  0.10772988964164809\n",
      "Lasso:  0.1263416290744931\n",
      "Ridge:  0.1092218657754993\n"
     ]
    }
   ],
   "source": [
    "print(\"Linear Regression: \", r2_score(y_test, y_pred_lr))\n",
    "print(\"Lasso: \", r2_score(y_test, y_pred_lasso))\n",
    "print(\"Ridge: \", r2_score(y_test, y_pred_ridge))"
   ]
  },
  {
   "cell_type": "code",
   "execution_count": 61,
   "id": "official-athens",
   "metadata": {},
   "outputs": [],
   "source": [
    "import pickle"
   ]
  },
  {
   "cell_type": "code",
   "execution_count": 62,
   "id": "blocked-punch",
   "metadata": {},
   "outputs": [],
   "source": [
    "pickle.dump(pipe, open('KolkataRidgeModel.pkl', 'wb'))"
   ]
  },
  {
   "cell_type": "code",
   "execution_count": null,
   "id": "played-framework",
   "metadata": {},
   "outputs": [],
   "source": []
  }
 ],
 "metadata": {
  "kernelspec": {
   "display_name": "Python 3",
   "language": "python",
   "name": "python3"
  },
  "language_info": {
   "codemirror_mode": {
    "name": "ipython",
    "version": 3
   },
   "file_extension": ".py",
   "mimetype": "text/x-python",
   "name": "python",
   "nbconvert_exporter": "python",
   "pygments_lexer": "ipython3",
   "version": "3.9.1"
  }
 },
 "nbformat": 4,
 "nbformat_minor": 5
}
