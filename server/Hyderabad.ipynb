{
 "cells": [
  {
   "cell_type": "code",
   "execution_count": 1,
   "id": "quick-library",
   "metadata": {},
   "outputs": [],
   "source": [
    "import numpy as np\n",
    "import pandas as pd"
   ]
  },
  {
   "cell_type": "code",
   "execution_count": 2,
   "id": "touched-option",
   "metadata": {},
   "outputs": [],
   "source": [
    "data = pd.read_csv('Hyderabad.csv')\n",
    "data['price'] = data['price'] / 100000"
   ]
  },
  {
   "cell_type": "code",
   "execution_count": 3,
   "id": "purple-terrain",
   "metadata": {},
   "outputs": [
    {
     "data": {
      "text/html": [
       "<div>\n",
       "<style scoped>\n",
       "    .dataframe tbody tr th:only-of-type {\n",
       "        vertical-align: middle;\n",
       "    }\n",
       "\n",
       "    .dataframe tbody tr th {\n",
       "        vertical-align: top;\n",
       "    }\n",
       "\n",
       "    .dataframe thead th {\n",
       "        text-align: right;\n",
       "    }\n",
       "</style>\n",
       "<table border=\"1\" class=\"dataframe\">\n",
       "  <thead>\n",
       "    <tr style=\"text-align: right;\">\n",
       "      <th></th>\n",
       "      <th>price</th>\n",
       "      <th>sqft</th>\n",
       "      <th>location</th>\n",
       "      <th>bathrooms</th>\n",
       "      <th>bhk</th>\n",
       "      <th>area_type</th>\n",
       "    </tr>\n",
       "  </thead>\n",
       "  <tbody>\n",
       "    <tr>\n",
       "      <th>0</th>\n",
       "      <td>69.68</td>\n",
       "      <td>1340</td>\n",
       "      <td>Nizampet</td>\n",
       "      <td>2.0</td>\n",
       "      <td>1</td>\n",
       "      <td>Super built-up Area</td>\n",
       "    </tr>\n",
       "    <tr>\n",
       "      <th>1</th>\n",
       "      <td>290.00</td>\n",
       "      <td>3498</td>\n",
       "      <td>Hitech City</td>\n",
       "      <td>5.0</td>\n",
       "      <td>3</td>\n",
       "      <td>Plot Area</td>\n",
       "    </tr>\n",
       "    <tr>\n",
       "      <th>2</th>\n",
       "      <td>65.90</td>\n",
       "      <td>1318</td>\n",
       "      <td>Manikonda</td>\n",
       "      <td>2.0</td>\n",
       "      <td>3</td>\n",
       "      <td>Built-up Area</td>\n",
       "    </tr>\n",
       "    <tr>\n",
       "      <th>3</th>\n",
       "      <td>57.39</td>\n",
       "      <td>1295</td>\n",
       "      <td>Alwal</td>\n",
       "      <td>3.0</td>\n",
       "      <td>2</td>\n",
       "      <td>Super built-up Area</td>\n",
       "    </tr>\n",
       "    <tr>\n",
       "      <th>4</th>\n",
       "      <td>56.79</td>\n",
       "      <td>1145</td>\n",
       "      <td>Kukatpally</td>\n",
       "      <td>2.0</td>\n",
       "      <td>4</td>\n",
       "      <td>Super built-up Area</td>\n",
       "    </tr>\n",
       "  </tbody>\n",
       "</table>\n",
       "</div>"
      ],
      "text/plain": [
       "    price  sqft     location  bathrooms  bhk            area_type\n",
       "0   69.68  1340     Nizampet        2.0    1  Super built-up Area\n",
       "1  290.00  3498  Hitech City        5.0    3            Plot Area\n",
       "2   65.90  1318    Manikonda        2.0    3        Built-up Area\n",
       "3   57.39  1295        Alwal        3.0    2  Super built-up Area\n",
       "4   56.79  1145   Kukatpally        2.0    4  Super built-up Area"
      ]
     },
     "execution_count": 3,
     "metadata": {},
     "output_type": "execute_result"
    }
   ],
   "source": [
    "data.head()"
   ]
  },
  {
   "cell_type": "code",
   "execution_count": 4,
   "id": "streaming-president",
   "metadata": {},
   "outputs": [
    {
     "data": {
      "text/plain": [
       "(2518, 6)"
      ]
     },
     "execution_count": 4,
     "metadata": {},
     "output_type": "execute_result"
    }
   ],
   "source": [
    "data.shape"
   ]
  },
  {
   "cell_type": "code",
   "execution_count": 5,
   "id": "cordless-fifteen",
   "metadata": {},
   "outputs": [
    {
     "name": "stdout",
     "output_type": "stream",
     "text": [
      "<class 'pandas.core.frame.DataFrame'>\n",
      "RangeIndex: 2518 entries, 0 to 2517\n",
      "Data columns (total 6 columns):\n",
      " #   Column     Non-Null Count  Dtype  \n",
      "---  ------     --------------  -----  \n",
      " 0   price      2518 non-null   float64\n",
      " 1   sqft       2518 non-null   int64  \n",
      " 2   location   2518 non-null   object \n",
      " 3   bathrooms  2500 non-null   float64\n",
      " 4   bhk        2518 non-null   int64  \n",
      " 5   area_type  2518 non-null   object \n",
      "dtypes: float64(2), int64(2), object(2)\n",
      "memory usage: 118.2+ KB\n"
     ]
    }
   ],
   "source": [
    "data.info()"
   ]
  },
  {
   "cell_type": "code",
   "execution_count": 6,
   "id": "eligible-nothing",
   "metadata": {},
   "outputs": [
    {
     "name": "stdout",
     "output_type": "stream",
     "text": [
      "35.00    48\n",
      "39.00    46\n",
      "60.00    45\n",
      "45.00    43\n",
      "80.00    39\n",
      "         ..\n",
      "52.75     1\n",
      "40.44     1\n",
      "27.50     1\n",
      "75.88     1\n",
      "49.68     1\n",
      "Name: price, Length: 690, dtype: int64\n",
      "********************\n",
      "1100    76\n",
      "1150    76\n",
      "1200    69\n",
      "1050    67\n",
      "1515    50\n",
      "        ..\n",
      "3015     1\n",
      "2490     1\n",
      "980      1\n",
      "4395     1\n",
      "2049     1\n",
      "Name: sqft, Length: 579, dtype: int64\n",
      "********************\n",
      "Kukatpally                      166\n",
      "Kondapur                        149\n",
      "Manikonda                       115\n",
      "Nizampet                        106\n",
      "Gachibowli                       83\n",
      "                               ... \n",
      "Arvind Nagar Colony               1\n",
      "Mansoorabad                       1\n",
      "Gurramguda                        1\n",
      "Khizra Enclave                    1\n",
      "Paramount Colony Toli Chowki      1\n",
      "Name: location, Length: 243, dtype: int64\n",
      "********************\n",
      "2.0     1313\n",
      "3.0      618\n",
      "4.0      241\n",
      "1.0      148\n",
      "5.0       77\n",
      "6.0       46\n",
      "7.0       25\n",
      "8.0       12\n",
      "9.0       10\n",
      "10.0       4\n",
      "12.0       2\n",
      "11.0       2\n",
      "27.0       1\n",
      "14.0       1\n",
      "Name: bathrooms, dtype: int64\n",
      "********************\n",
      "3     995\n",
      "2     722\n",
      "4     439\n",
      "1     255\n",
      "5      56\n",
      "6      24\n",
      "7       9\n",
      "8       8\n",
      "9       7\n",
      "10      2\n",
      "11      1\n",
      "Name: bhk, dtype: int64\n",
      "********************\n",
      "Super built-up Area    1648\n",
      "Built-up Area           474\n",
      "Plot Area               377\n",
      "Carpet Area              19\n",
      "Name: area_type, dtype: int64\n",
      "********************\n"
     ]
    }
   ],
   "source": [
    "for column in data.columns:\n",
    "    print(data[column].value_counts())\n",
    "    print(\"*\"*20)"
   ]
  },
  {
   "cell_type": "code",
   "execution_count": 7,
   "id": "comprehensive-minority",
   "metadata": {},
   "outputs": [
    {
     "data": {
      "text/plain": [
       "price         0\n",
       "sqft          0\n",
       "location      0\n",
       "bathrooms    18\n",
       "bhk           0\n",
       "area_type     0\n",
       "dtype: int64"
      ]
     },
     "execution_count": 7,
     "metadata": {},
     "output_type": "execute_result"
    }
   ],
   "source": [
    "data.isna().sum()"
   ]
  },
  {
   "cell_type": "code",
   "execution_count": 8,
   "id": "widespread-finance",
   "metadata": {},
   "outputs": [
    {
     "data": {
      "text/html": [
       "<div>\n",
       "<style scoped>\n",
       "    .dataframe tbody tr th:only-of-type {\n",
       "        vertical-align: middle;\n",
       "    }\n",
       "\n",
       "    .dataframe tbody tr th {\n",
       "        vertical-align: top;\n",
       "    }\n",
       "\n",
       "    .dataframe thead th {\n",
       "        text-align: right;\n",
       "    }\n",
       "</style>\n",
       "<table border=\"1\" class=\"dataframe\">\n",
       "  <thead>\n",
       "    <tr style=\"text-align: right;\">\n",
       "      <th></th>\n",
       "      <th>price</th>\n",
       "      <th>sqft</th>\n",
       "      <th>bathrooms</th>\n",
       "      <th>bhk</th>\n",
       "    </tr>\n",
       "  </thead>\n",
       "  <tbody>\n",
       "    <tr>\n",
       "      <th>count</th>\n",
       "      <td>2518.000000</td>\n",
       "      <td>2518.000000</td>\n",
       "      <td>2500.000000</td>\n",
       "      <td>2518.000000</td>\n",
       "    </tr>\n",
       "    <tr>\n",
       "      <th>mean</th>\n",
       "      <td>98.183796</td>\n",
       "      <td>1644.571088</td>\n",
       "      <td>2.696400</td>\n",
       "      <td>2.813741</td>\n",
       "    </tr>\n",
       "    <tr>\n",
       "      <th>std</th>\n",
       "      <td>87.771129</td>\n",
       "      <td>746.256956</td>\n",
       "      <td>1.397501</td>\n",
       "      <td>1.143576</td>\n",
       "    </tr>\n",
       "    <tr>\n",
       "      <th>min</th>\n",
       "      <td>20.000000</td>\n",
       "      <td>500.000000</td>\n",
       "      <td>1.000000</td>\n",
       "      <td>1.000000</td>\n",
       "    </tr>\n",
       "    <tr>\n",
       "      <th>25%</th>\n",
       "      <td>47.600000</td>\n",
       "      <td>1160.000000</td>\n",
       "      <td>2.000000</td>\n",
       "      <td>2.000000</td>\n",
       "    </tr>\n",
       "    <tr>\n",
       "      <th>50%</th>\n",
       "      <td>77.540000</td>\n",
       "      <td>1500.000000</td>\n",
       "      <td>2.000000</td>\n",
       "      <td>3.000000</td>\n",
       "    </tr>\n",
       "    <tr>\n",
       "      <th>75%</th>\n",
       "      <td>109.000000</td>\n",
       "      <td>1829.000000</td>\n",
       "      <td>3.000000</td>\n",
       "      <td>3.000000</td>\n",
       "    </tr>\n",
       "    <tr>\n",
       "      <th>max</th>\n",
       "      <td>1650.000000</td>\n",
       "      <td>9400.000000</td>\n",
       "      <td>27.000000</td>\n",
       "      <td>11.000000</td>\n",
       "    </tr>\n",
       "  </tbody>\n",
       "</table>\n",
       "</div>"
      ],
      "text/plain": [
       "             price         sqft    bathrooms          bhk\n",
       "count  2518.000000  2518.000000  2500.000000  2518.000000\n",
       "mean     98.183796  1644.571088     2.696400     2.813741\n",
       "std      87.771129   746.256956     1.397501     1.143576\n",
       "min      20.000000   500.000000     1.000000     1.000000\n",
       "25%      47.600000  1160.000000     2.000000     2.000000\n",
       "50%      77.540000  1500.000000     2.000000     3.000000\n",
       "75%     109.000000  1829.000000     3.000000     3.000000\n",
       "max    1650.000000  9400.000000    27.000000    11.000000"
      ]
     },
     "execution_count": 8,
     "metadata": {},
     "output_type": "execute_result"
    }
   ],
   "source": [
    "data.describe()"
   ]
  },
  {
   "cell_type": "code",
   "execution_count": 9,
   "id": "naked-configuration",
   "metadata": {},
   "outputs": [
    {
     "name": "stdout",
     "output_type": "stream",
     "text": [
      "<class 'pandas.core.frame.DataFrame'>\n",
      "RangeIndex: 2518 entries, 0 to 2517\n",
      "Data columns (total 6 columns):\n",
      " #   Column     Non-Null Count  Dtype  \n",
      "---  ------     --------------  -----  \n",
      " 0   price      2518 non-null   float64\n",
      " 1   sqft       2518 non-null   int64  \n",
      " 2   location   2518 non-null   object \n",
      " 3   bathrooms  2500 non-null   float64\n",
      " 4   bhk        2518 non-null   int64  \n",
      " 5   area_type  2518 non-null   object \n",
      "dtypes: float64(2), int64(2), object(2)\n",
      "memory usage: 118.2+ KB\n"
     ]
    }
   ],
   "source": [
    "data.info()"
   ]
  },
  {
   "cell_type": "code",
   "execution_count": 10,
   "id": "passing-college",
   "metadata": {},
   "outputs": [
    {
     "data": {
      "text/plain": [
       "Kukatpally                      166\n",
       "Kondapur                        149\n",
       "Manikonda                       115\n",
       "Nizampet                        106\n",
       "Gachibowli                       83\n",
       "                               ... \n",
       "Arvind Nagar Colony               1\n",
       "Mansoorabad                       1\n",
       "Gurramguda                        1\n",
       "Khizra Enclave                    1\n",
       "Paramount Colony Toli Chowki      1\n",
       "Name: location, Length: 243, dtype: int64"
      ]
     },
     "execution_count": 10,
     "metadata": {},
     "output_type": "execute_result"
    }
   ],
   "source": [
    "data['location'].value_counts()"
   ]
  },
  {
   "cell_type": "code",
   "execution_count": 11,
   "id": "collective-drilling",
   "metadata": {},
   "outputs": [],
   "source": [
    "data['location'] = data['location'].fillna('Kukatpally')"
   ]
  },
  {
   "cell_type": "code",
   "execution_count": 12,
   "id": "architectural-winter",
   "metadata": {},
   "outputs": [
    {
     "data": {
      "text/plain": [
       "3     995\n",
       "2     722\n",
       "4     439\n",
       "1     255\n",
       "5      56\n",
       "6      24\n",
       "7       9\n",
       "8       8\n",
       "9       7\n",
       "10      2\n",
       "11      1\n",
       "Name: bhk, dtype: int64"
      ]
     },
     "execution_count": 12,
     "metadata": {},
     "output_type": "execute_result"
    }
   ],
   "source": [
    "data['bhk'].value_counts()"
   ]
  },
  {
   "cell_type": "code",
   "execution_count": 13,
   "id": "sealed-french",
   "metadata": {},
   "outputs": [],
   "source": [
    "data['bhk'] = data['bhk'].fillna('2')"
   ]
  },
  {
   "cell_type": "code",
   "execution_count": 14,
   "id": "pretty-fabric",
   "metadata": {},
   "outputs": [],
   "source": [
    "data['bathrooms'] = data['bathrooms'].fillna(data['bathrooms'].median())"
   ]
  },
  {
   "cell_type": "code",
   "execution_count": 15,
   "id": "surgical-hungarian",
   "metadata": {},
   "outputs": [
    {
     "name": "stdout",
     "output_type": "stream",
     "text": [
      "<class 'pandas.core.frame.DataFrame'>\n",
      "RangeIndex: 2518 entries, 0 to 2517\n",
      "Data columns (total 6 columns):\n",
      " #   Column     Non-Null Count  Dtype  \n",
      "---  ------     --------------  -----  \n",
      " 0   price      2518 non-null   float64\n",
      " 1   sqft       2518 non-null   int64  \n",
      " 2   location   2518 non-null   object \n",
      " 3   bathrooms  2518 non-null   float64\n",
      " 4   bhk        2518 non-null   int64  \n",
      " 5   area_type  2518 non-null   object \n",
      "dtypes: float64(2), int64(2), object(2)\n",
      "memory usage: 118.2+ KB\n"
     ]
    }
   ],
   "source": [
    "data.info()"
   ]
  },
  {
   "cell_type": "code",
   "execution_count": 16,
   "id": "equal-collapse",
   "metadata": {},
   "outputs": [
    {
     "data": {
      "text/html": [
       "<div>\n",
       "<style scoped>\n",
       "    .dataframe tbody tr th:only-of-type {\n",
       "        vertical-align: middle;\n",
       "    }\n",
       "\n",
       "    .dataframe tbody tr th {\n",
       "        vertical-align: top;\n",
       "    }\n",
       "\n",
       "    .dataframe thead th {\n",
       "        text-align: right;\n",
       "    }\n",
       "</style>\n",
       "<table border=\"1\" class=\"dataframe\">\n",
       "  <thead>\n",
       "    <tr style=\"text-align: right;\">\n",
       "      <th></th>\n",
       "      <th>price</th>\n",
       "      <th>sqft</th>\n",
       "      <th>location</th>\n",
       "      <th>bathrooms</th>\n",
       "      <th>bhk</th>\n",
       "      <th>area_type</th>\n",
       "    </tr>\n",
       "  </thead>\n",
       "  <tbody>\n",
       "  </tbody>\n",
       "</table>\n",
       "</div>"
      ],
      "text/plain": [
       "Empty DataFrame\n",
       "Columns: [price, sqft, location, bathrooms, bhk, area_type]\n",
       "Index: []"
      ]
     },
     "execution_count": 16,
     "metadata": {},
     "output_type": "execute_result"
    }
   ],
   "source": [
    "data[data.bhk > 20]"
   ]
  },
  {
   "cell_type": "code",
   "execution_count": 17,
   "id": "organized-peter",
   "metadata": {},
   "outputs": [
    {
     "data": {
      "text/plain": [
       "array([1340, 3498, 1318, 1295, 1145, 1230, 1350, 1400, 2240, 1520, 1535,\n",
       "       1150, 1285, 1897, 1725, 1665, 1592, 1050, 1735, 2800, 1175, 1190,\n",
       "       2956,  680, 1970, 1105, 2005, 1406, 1545, 1495, 1300, 1200, 1450,\n",
       "       1912, 1850, 1674, 1242,  850, 1895, 1636, 1076, 1080, 2100, 1265,\n",
       "       1089, 1100, 1700, 2150, 1195, 1205, 1250,  950, 1908, 1675, 1420,\n",
       "        910, 1325, 1717, 2400, 1000, 1040, 1181, 1550, 1280, 1945, 3500,\n",
       "       2729, 1500, 2165, 1822, 1270, 1600, 1818, 1282, 1830, 1815, 1220,\n",
       "       1650, 1680, 1555, 1685, 1225, 1795, 1435, 1430, 2080, 2092, 1370,\n",
       "       2232, 2063, 1865, 2270, 1896, 3031, 1702, 1525, 1728, 1640, 1835,\n",
       "       1570, 1140, 1530, 1900, 3380, 1875, 2540, 2630, 4500, 2700, 1792,\n",
       "       1673, 2200, 1170, 1644, 1687, 1554, 1684,  970, 1415, 1980, 1905,\n",
       "       1925, 1482, 1800, 1730, 1165, 1110, 1278, 1215, 1770, 1210, 1010,\n",
       "       1620, 1670, 4780, 1836, 2000, 1315, 2500, 3959, 1889, 1920, 1885,\n",
       "       1695, 1090, 3100, 1521, 2490, 1260,  900, 1710, 1705, 1330, 2250,\n",
       "        800, 1840, 1560, 3200, 2950, 1699, 1254, 4067, 1320, 1605, 2120,\n",
       "       1860, 3090, 6718,  842, 3600, 1245, 1418, 1940, 1615, 1160,  908,\n",
       "       1380,  840,  931, 1740, 3145,  963,  909, 1180,  845, 1460, 1360,\n",
       "       2460, 1107, 2900, 1745,  684, 1635, 1585, 1385, 1035, 1720, 1327,\n",
       "        941, 1390,  540,  810, 1985, 1014, 1085, 3000,  955, 1155, 1120,\n",
       "        966, 1575,  940, 1060, 1015, 1208, 1425, 1130,  930, 1506, 2450,\n",
       "       2405, 4070, 1490, 1755, 1216, 2070, 3025, 2786, 2050, 1880, 2665,\n",
       "       2220, 3448, 3015, 2007, 1630, 2600, 2300, 2960, 2350, 1924, 1580,\n",
       "       1125, 1515, 2848, 1492, 1283, 1410, 1463, 2085, 2580, 2185, 2210,\n",
       "       1111, 1161, 2021, 9400, 1465, 1228, 1106, 1096, 1765, 1005, 1750,\n",
       "       1471,  990, 3180,  987, 1075,  600, 1275, 1376, 1972, 1628, 1274,\n",
       "       1784, 1788, 1966, 1502, 1707, 1642, 1487, 1633, 1877, 1524, 1326,\n",
       "       1597, 1020, 1935, 1045, 1214, 1368, 2115,  902, 1025, 1480, 1510,\n",
       "       1523, 3233, 1548, 1294, 1538, 1678, 1361, 1681,  607, 1565,  682,\n",
       "       1539, 1641, 1402, 1401, 1008, 1188, 1199, 1115, 1568, 1794, 1953,\n",
       "       3434, 1799, 1638, 1392,  905, 3266, 1652, 3147, 3044, 2051, 3101,\n",
       "       3049, 1738, 1355, 1334, 1346, 1473, 2607, 2192, 2815, 2452, 2191,\n",
       "       2813, 1290, 2049, 3494, 1336, 1655, 1313, 1256, 1780, 1785, 1511,\n",
       "       1610, 1503, 1189, 1209, 1279, 1311, 1405, 1627, 1778, 1971, 1846,\n",
       "       1804, 1559, 1629, 1752, 1808, 1986, 1715, 1826, 1995, 1996, 5200,\n",
       "       1990,  550, 1235, 2260, 2015, 4650, 1742, 1505, 2026, 2771, 2595,\n",
       "       2060, 1255, 2285, 1993, 2282, 1384, 1874, 1820, 4160, 1139,  770,\n",
       "       1257, 2225, 2170, 2025, 2160, 1395, 1366, 1146, 1441, 1950, 1951,\n",
       "       1621, 1128,  960, 1470, 1955, 2865, 1201, 2380, 2925, 1003, 5000,\n",
       "        750, 3300, 1028, 1591, 4320, 1507, 1412, 3350, 1055,  933, 1026,\n",
       "        982,  700, 4799, 4152, 2166, 2612, 1232, 3230, 1271, 4395, 4146,\n",
       "       2875, 2744, 2141, 1931, 1782, 4829, 1475, 4700, 4300, 1122, 2020,\n",
       "       3190, 1775, 1662, 3493, 4800, 1185, 3490, 1834, 2615, 4400, 8500,\n",
       "       1589, 1604, 2265, 1688, 2625, 2385, 3240, 1240, 2644, 3450, 1960,\n",
       "        980, 1590, 4375, 3258, 1007, 2664, 1147, 3900, 3765, 2230, 1314,\n",
       "       3355, 7600, 1513, 1557, 1057, 2122, 1375, 1001, 3085, 3195, 1002,\n",
       "       1013, 1012, 1691, 3615, 3590, 3875, 4290, 2445,  920, 2750, 1006,\n",
       "       1206, 1202, 1203, 1104, 4150, 1296,  998,  500, 1103, 1440, 1133,\n",
       "       1134,  710, 1978, 3537, 1207, 3430, 2655,  861, 3152, 1030, 3550,\n",
       "       2983, 1625, 4600, 2103, 1760, 3975,  965, 1310, 1269, 1365, 3474,\n",
       "       3695, 1595, 5440, 2850, 3556, 2566, 1436, 4000, 1331, 2650, 1358,\n",
       "       2075, 3325,  880,  925, 4730, 1645, 3883, 2008, 4305, 1616, 2690,\n",
       "       1091, 1540, 1844,  875, 3250, 2175, 2180, 2190, 1551, 2010, 1093,\n",
       "       3405, 2585, 1197, 1485, 1887,  961, 1805], dtype=int64)"
      ]
     },
     "execution_count": 17,
     "metadata": {},
     "output_type": "execute_result"
    }
   ],
   "source": [
    "data['sqft'].unique()"
   ]
  },
  {
   "cell_type": "code",
   "execution_count": 18,
   "id": "specialized-compression",
   "metadata": {},
   "outputs": [],
   "source": [
    "def convertRange(x):\n",
    "    temp = x.split('-')\n",
    "    if len(temp) == 2:\n",
    "        return (float(temp[0]) + float(temp[1]))/2\n",
    "    try:\n",
    "        return float(x)\n",
    "    except:\n",
    "        return None"
   ]
  },
  {
   "cell_type": "code",
   "execution_count": 19,
   "id": "appropriate-chicken",
   "metadata": {},
   "outputs": [
    {
     "data": {
      "text/html": [
       "<div>\n",
       "<style scoped>\n",
       "    .dataframe tbody tr th:only-of-type {\n",
       "        vertical-align: middle;\n",
       "    }\n",
       "\n",
       "    .dataframe tbody tr th {\n",
       "        vertical-align: top;\n",
       "    }\n",
       "\n",
       "    .dataframe thead th {\n",
       "        text-align: right;\n",
       "    }\n",
       "</style>\n",
       "<table border=\"1\" class=\"dataframe\">\n",
       "  <thead>\n",
       "    <tr style=\"text-align: right;\">\n",
       "      <th></th>\n",
       "      <th>price</th>\n",
       "      <th>sqft</th>\n",
       "      <th>location</th>\n",
       "      <th>bathrooms</th>\n",
       "      <th>bhk</th>\n",
       "      <th>area_type</th>\n",
       "    </tr>\n",
       "  </thead>\n",
       "  <tbody>\n",
       "    <tr>\n",
       "      <th>0</th>\n",
       "      <td>69.68</td>\n",
       "      <td>1340</td>\n",
       "      <td>Nizampet</td>\n",
       "      <td>2.0</td>\n",
       "      <td>1</td>\n",
       "      <td>Super built-up Area</td>\n",
       "    </tr>\n",
       "    <tr>\n",
       "      <th>1</th>\n",
       "      <td>290.00</td>\n",
       "      <td>3498</td>\n",
       "      <td>Hitech City</td>\n",
       "      <td>5.0</td>\n",
       "      <td>3</td>\n",
       "      <td>Plot Area</td>\n",
       "    </tr>\n",
       "    <tr>\n",
       "      <th>2</th>\n",
       "      <td>65.90</td>\n",
       "      <td>1318</td>\n",
       "      <td>Manikonda</td>\n",
       "      <td>2.0</td>\n",
       "      <td>3</td>\n",
       "      <td>Built-up Area</td>\n",
       "    </tr>\n",
       "    <tr>\n",
       "      <th>3</th>\n",
       "      <td>57.39</td>\n",
       "      <td>1295</td>\n",
       "      <td>Alwal</td>\n",
       "      <td>3.0</td>\n",
       "      <td>2</td>\n",
       "      <td>Super built-up Area</td>\n",
       "    </tr>\n",
       "    <tr>\n",
       "      <th>4</th>\n",
       "      <td>56.79</td>\n",
       "      <td>1145</td>\n",
       "      <td>Kukatpally</td>\n",
       "      <td>2.0</td>\n",
       "      <td>4</td>\n",
       "      <td>Super built-up Area</td>\n",
       "    </tr>\n",
       "  </tbody>\n",
       "</table>\n",
       "</div>"
      ],
      "text/plain": [
       "    price  sqft     location  bathrooms  bhk            area_type\n",
       "0   69.68  1340     Nizampet        2.0    1  Super built-up Area\n",
       "1  290.00  3498  Hitech City        5.0    3            Plot Area\n",
       "2   65.90  1318    Manikonda        2.0    3        Built-up Area\n",
       "3   57.39  1295        Alwal        3.0    2  Super built-up Area\n",
       "4   56.79  1145   Kukatpally        2.0    4  Super built-up Area"
      ]
     },
     "execution_count": 19,
     "metadata": {},
     "output_type": "execute_result"
    }
   ],
   "source": [
    "data.head()"
   ]
  },
  {
   "cell_type": "markdown",
   "id": "dated-steps",
   "metadata": {},
   "source": [
    "# Price Per Square Feet"
   ]
  },
  {
   "cell_type": "code",
   "execution_count": 20,
   "id": "negative-visit",
   "metadata": {},
   "outputs": [
    {
     "data": {
      "text/plain": [
       "Kukatpally                      166\n",
       "Kondapur                        149\n",
       "Manikonda                       115\n",
       "Nizampet                        106\n",
       "Gachibowli                       83\n",
       "                               ... \n",
       "Arvind Nagar Colony               1\n",
       "Mansoorabad                       1\n",
       "Gurramguda                        1\n",
       "Khizra Enclave                    1\n",
       "Paramount Colony Toli Chowki      1\n",
       "Name: location, Length: 243, dtype: int64"
      ]
     },
     "execution_count": 20,
     "metadata": {},
     "output_type": "execute_result"
    }
   ],
   "source": [
    "data['location'].value_counts()"
   ]
  },
  {
   "cell_type": "code",
   "execution_count": 21,
   "id": "black-england",
   "metadata": {},
   "outputs": [],
   "source": [
    "data['location'] = data['location'].apply(lambda x: x.strip())"
   ]
  },
  {
   "cell_type": "code",
   "execution_count": 22,
   "id": "recorded-trunk",
   "metadata": {},
   "outputs": [
    {
     "data": {
      "text/plain": [
       "0          Nizampet\n",
       "1       Hitech City\n",
       "2         Manikonda\n",
       "3             Alwal\n",
       "4        Kukatpally\n",
       "           ...     \n",
       "2513       Nacharam\n",
       "2514      Manikonda\n",
       "2515       Madhapur\n",
       "2516    Hitech City\n",
       "2517       Narsingi\n",
       "Name: location, Length: 2518, dtype: object"
      ]
     },
     "execution_count": 22,
     "metadata": {},
     "output_type": "execute_result"
    }
   ],
   "source": [
    "data['location']"
   ]
  },
  {
   "cell_type": "code",
   "execution_count": 23,
   "id": "sacred-complement",
   "metadata": {},
   "outputs": [],
   "source": [
    "location_count = data['location'].value_counts()"
   ]
  },
  {
   "cell_type": "code",
   "execution_count": 24,
   "id": "clean-blues",
   "metadata": {},
   "outputs": [
    {
     "data": {
      "text/plain": [
       "Kukatpally                      166\n",
       "Kondapur                        149\n",
       "Manikonda                       115\n",
       "Nizampet                        106\n",
       "Gachibowli                       83\n",
       "                               ... \n",
       "Arvind Nagar Colony               1\n",
       "Mansoorabad                       1\n",
       "Gurramguda                        1\n",
       "Khizra Enclave                    1\n",
       "Paramount Colony Toli Chowki      1\n",
       "Name: location, Length: 243, dtype: int64"
      ]
     },
     "execution_count": 24,
     "metadata": {},
     "output_type": "execute_result"
    }
   ],
   "source": [
    "location_count"
   ]
  },
  {
   "cell_type": "code",
   "execution_count": 25,
   "id": "greater-seller",
   "metadata": {},
   "outputs": [
    {
     "data": {
      "text/plain": [
       "Mehdipatnam                     10\n",
       "Gandipet                        10\n",
       "Chaitanyapuri                    9\n",
       "Habsiguda                        9\n",
       "Pati                             9\n",
       "                                ..\n",
       "Arvind Nagar Colony              1\n",
       "Mansoorabad                      1\n",
       "Gurramguda                       1\n",
       "Khizra Enclave                   1\n",
       "Paramount Colony Toli Chowki     1\n",
       "Name: location, Length: 189, dtype: int64"
      ]
     },
     "execution_count": 25,
     "metadata": {},
     "output_type": "execute_result"
    }
   ],
   "source": [
    "location_count_less_10 = location_count[location_count <= 10]\n",
    "location_count_less_10"
   ]
  },
  {
   "cell_type": "code",
   "execution_count": 26,
   "id": "single-daily",
   "metadata": {},
   "outputs": [],
   "source": [
    "data['location'] = data['location'].apply(lambda x: 'Other' if x in location_count_less_10 else x)"
   ]
  },
  {
   "cell_type": "code",
   "execution_count": 27,
   "id": "junior-texture",
   "metadata": {},
   "outputs": [
    {
     "data": {
      "text/plain": [
       "Other                        468\n",
       "Kukatpally                   166\n",
       "Kondapur                     149\n",
       "Manikonda                    115\n",
       "Nizampet                     106\n",
       "Gachibowli                    83\n",
       "Hitech City                   82\n",
       "Miyapur                       80\n",
       "Kokapet                       79\n",
       "Pragathi Nagar Kukatpally     57\n",
       "Bachupally Road               55\n",
       "Narsingi                      52\n",
       "Beeramguda                    51\n",
       "Puppalaguda                   51\n",
       "Nanakramguda                  49\n",
       "Gajularamaram                 48\n",
       "Banjara Hills                 44\n",
       "Tellapur                      43\n",
       "Appa Junction                 43\n",
       "Serilingampally               41\n",
       "Jubilee Hills                 41\n",
       "Madhapur                      34\n",
       "Krishna Reddy Pet             34\n",
       "Nallagandla Gachibowli        32\n",
       "Bachupally                    28\n",
       "Appa Junction Peerancheru     28\n",
       "Mallampet                     22\n",
       "Malkajgiri                    22\n",
       "Begumpet                      21\n",
       "Aminpur                       20\n",
       "Alwal                         20\n",
       "Nacharam                      19\n",
       "Kollur Road                   19\n",
       "Balanagar                     18\n",
       "Sanath Nagar                  18\n",
       "Mallapur                      18\n",
       "Attapur                       17\n",
       "Chandanagar                   17\n",
       "West Marredpally              17\n",
       "Kompally                      16\n",
       "Nagole                        16\n",
       "Bandlaguda Jagir              15\n",
       "Patancheru                    15\n",
       "East Marredpally              14\n",
       "LB Nagar                      14\n",
       "Adibatla                      14\n",
       "Shaikpet                      13\n",
       "Tarnaka                       13\n",
       "Toli Chowki                   12\n",
       "Gajulramaram Kukatpally       12\n",
       "Nallakunta                    12\n",
       "Madinaguda                    12\n",
       "Darga Khaliz Khan             11\n",
       "TellapurOsman Nagar Road      11\n",
       "Kachiguda                     11\n",
       "Name: location, dtype: int64"
      ]
     },
     "execution_count": 27,
     "metadata": {},
     "output_type": "execute_result"
    }
   ],
   "source": [
    "data['location'].value_counts()"
   ]
  },
  {
   "cell_type": "markdown",
   "id": "wanted-christianity",
   "metadata": {},
   "source": [
    "# Outliers Detection and Removal"
   ]
  },
  {
   "cell_type": "code",
   "execution_count": 28,
   "id": "experimental-protocol",
   "metadata": {},
   "outputs": [
    {
     "data": {
      "text/plain": [
       "count    2518.000000\n",
       "mean      697.642440\n",
       "std       492.039654\n",
       "min       117.000000\n",
       "25%       396.666667\n",
       "50%       550.000000\n",
       "75%       825.000000\n",
       "max      5200.000000\n",
       "dtype: float64"
      ]
     },
     "execution_count": 28,
     "metadata": {},
     "output_type": "execute_result"
    }
   ],
   "source": [
    "(data['sqft'] / data['bhk']).describe()"
   ]
  },
  {
   "cell_type": "code",
   "execution_count": 29,
   "id": "modern-hours",
   "metadata": {},
   "outputs": [
    {
     "data": {
      "text/html": [
       "<div>\n",
       "<style scoped>\n",
       "    .dataframe tbody tr th:only-of-type {\n",
       "        vertical-align: middle;\n",
       "    }\n",
       "\n",
       "    .dataframe tbody tr th {\n",
       "        vertical-align: top;\n",
       "    }\n",
       "\n",
       "    .dataframe thead th {\n",
       "        text-align: right;\n",
       "    }\n",
       "</style>\n",
       "<table border=\"1\" class=\"dataframe\">\n",
       "  <thead>\n",
       "    <tr style=\"text-align: right;\">\n",
       "      <th></th>\n",
       "      <th>price</th>\n",
       "      <th>sqft</th>\n",
       "      <th>bathrooms</th>\n",
       "      <th>bhk</th>\n",
       "    </tr>\n",
       "  </thead>\n",
       "  <tbody>\n",
       "    <tr>\n",
       "      <th>count</th>\n",
       "      <td>2336.000000</td>\n",
       "      <td>2336.000000</td>\n",
       "      <td>2336.000000</td>\n",
       "      <td>2336.000000</td>\n",
       "    </tr>\n",
       "    <tr>\n",
       "      <th>mean</th>\n",
       "      <td>101.825813</td>\n",
       "      <td>1685.497432</td>\n",
       "      <td>2.685360</td>\n",
       "      <td>2.665668</td>\n",
       "    </tr>\n",
       "    <tr>\n",
       "      <th>std</th>\n",
       "      <td>89.869908</td>\n",
       "      <td>755.181996</td>\n",
       "      <td>1.387268</td>\n",
       "      <td>0.950574</td>\n",
       "    </tr>\n",
       "    <tr>\n",
       "      <th>min</th>\n",
       "      <td>20.020000</td>\n",
       "      <td>607.000000</td>\n",
       "      <td>1.000000</td>\n",
       "      <td>1.000000</td>\n",
       "    </tr>\n",
       "    <tr>\n",
       "      <th>25%</th>\n",
       "      <td>50.000000</td>\n",
       "      <td>1195.000000</td>\n",
       "      <td>2.000000</td>\n",
       "      <td>2.000000</td>\n",
       "    </tr>\n",
       "    <tr>\n",
       "      <th>50%</th>\n",
       "      <td>80.000000</td>\n",
       "      <td>1515.000000</td>\n",
       "      <td>2.000000</td>\n",
       "      <td>3.000000</td>\n",
       "    </tr>\n",
       "    <tr>\n",
       "      <th>75%</th>\n",
       "      <td>111.000000</td>\n",
       "      <td>1875.000000</td>\n",
       "      <td>3.000000</td>\n",
       "      <td>3.000000</td>\n",
       "    </tr>\n",
       "    <tr>\n",
       "      <th>max</th>\n",
       "      <td>1650.000000</td>\n",
       "      <td>9400.000000</td>\n",
       "      <td>27.000000</td>\n",
       "      <td>9.000000</td>\n",
       "    </tr>\n",
       "  </tbody>\n",
       "</table>\n",
       "</div>"
      ],
      "text/plain": [
       "             price         sqft    bathrooms          bhk\n",
       "count  2336.000000  2336.000000  2336.000000  2336.000000\n",
       "mean    101.825813  1685.497432     2.685360     2.665668\n",
       "std      89.869908   755.181996     1.387268     0.950574\n",
       "min      20.020000   607.000000     1.000000     1.000000\n",
       "25%      50.000000  1195.000000     2.000000     2.000000\n",
       "50%      80.000000  1515.000000     2.000000     3.000000\n",
       "75%     111.000000  1875.000000     3.000000     3.000000\n",
       "max    1650.000000  9400.000000    27.000000     9.000000"
      ]
     },
     "execution_count": 29,
     "metadata": {},
     "output_type": "execute_result"
    }
   ],
   "source": [
    "data = data[((data['sqft']/data['bhk']) >= 300)]\n",
    "data.describe()"
   ]
  },
  {
   "cell_type": "code",
   "execution_count": 30,
   "id": "satellite-graphic",
   "metadata": {},
   "outputs": [
    {
     "data": {
      "text/plain": [
       "(2336, 6)"
      ]
     },
     "execution_count": 30,
     "metadata": {},
     "output_type": "execute_result"
    }
   ],
   "source": [
    "data.shape"
   ]
  },
  {
   "cell_type": "code",
   "execution_count": 31,
   "id": "fabulous-ticket",
   "metadata": {},
   "outputs": [
    {
     "data": {
      "text/plain": [
       "count    2336.000000\n",
       "mean      101.825813\n",
       "std        89.869908\n",
       "min        20.020000\n",
       "25%        50.000000\n",
       "50%        80.000000\n",
       "75%       111.000000\n",
       "max      1650.000000\n",
       "Name: price, dtype: float64"
      ]
     },
     "execution_count": 31,
     "metadata": {},
     "output_type": "execute_result"
    }
   ],
   "source": [
    "data.price.describe()"
   ]
  },
  {
   "cell_type": "code",
   "execution_count": 32,
   "id": "introductory-arabic",
   "metadata": {},
   "outputs": [
    {
     "data": {
      "text/html": [
       "<div>\n",
       "<style scoped>\n",
       "    .dataframe tbody tr th:only-of-type {\n",
       "        vertical-align: middle;\n",
       "    }\n",
       "\n",
       "    .dataframe tbody tr th {\n",
       "        vertical-align: top;\n",
       "    }\n",
       "\n",
       "    .dataframe thead th {\n",
       "        text-align: right;\n",
       "    }\n",
       "</style>\n",
       "<table border=\"1\" class=\"dataframe\">\n",
       "  <thead>\n",
       "    <tr style=\"text-align: right;\">\n",
       "      <th></th>\n",
       "      <th>price</th>\n",
       "      <th>sqft</th>\n",
       "      <th>bathrooms</th>\n",
       "      <th>bhk</th>\n",
       "    </tr>\n",
       "  </thead>\n",
       "  <tbody>\n",
       "    <tr>\n",
       "      <th>count</th>\n",
       "      <td>1844.000000</td>\n",
       "      <td>1844.000000</td>\n",
       "      <td>1844.000000</td>\n",
       "      <td>1844.000000</td>\n",
       "    </tr>\n",
       "    <tr>\n",
       "      <th>mean</th>\n",
       "      <td>90.443112</td>\n",
       "      <td>1601.082972</td>\n",
       "      <td>2.693601</td>\n",
       "      <td>2.673536</td>\n",
       "    </tr>\n",
       "    <tr>\n",
       "      <th>std</th>\n",
       "      <td>58.393801</td>\n",
       "      <td>559.634038</td>\n",
       "      <td>1.446061</td>\n",
       "      <td>0.936818</td>\n",
       "    </tr>\n",
       "    <tr>\n",
       "      <th>min</th>\n",
       "      <td>22.000000</td>\n",
       "      <td>680.000000</td>\n",
       "      <td>1.000000</td>\n",
       "      <td>1.000000</td>\n",
       "    </tr>\n",
       "    <tr>\n",
       "      <th>25%</th>\n",
       "      <td>52.000000</td>\n",
       "      <td>1200.000000</td>\n",
       "      <td>2.000000</td>\n",
       "      <td>2.000000</td>\n",
       "    </tr>\n",
       "    <tr>\n",
       "      <th>50%</th>\n",
       "      <td>78.400000</td>\n",
       "      <td>1515.000000</td>\n",
       "      <td>2.000000</td>\n",
       "      <td>3.000000</td>\n",
       "    </tr>\n",
       "    <tr>\n",
       "      <th>75%</th>\n",
       "      <td>107.000000</td>\n",
       "      <td>1780.500000</td>\n",
       "      <td>3.000000</td>\n",
       "      <td>3.000000</td>\n",
       "    </tr>\n",
       "    <tr>\n",
       "      <th>max</th>\n",
       "      <td>415.000000</td>\n",
       "      <td>4829.000000</td>\n",
       "      <td>27.000000</td>\n",
       "      <td>6.000000</td>\n",
       "    </tr>\n",
       "  </tbody>\n",
       "</table>\n",
       "</div>"
      ],
      "text/plain": [
       "             price         sqft    bathrooms          bhk\n",
       "count  1844.000000  1844.000000  1844.000000  1844.000000\n",
       "mean     90.443112  1601.082972     2.693601     2.673536\n",
       "std      58.393801   559.634038     1.446061     0.936818\n",
       "min      22.000000   680.000000     1.000000     1.000000\n",
       "25%      52.000000  1200.000000     2.000000     2.000000\n",
       "50%      78.400000  1515.000000     2.000000     3.000000\n",
       "75%     107.000000  1780.500000     3.000000     3.000000\n",
       "max     415.000000  4829.000000    27.000000     6.000000"
      ]
     },
     "execution_count": 32,
     "metadata": {},
     "output_type": "execute_result"
    }
   ],
   "source": [
    "def remove_outliers_sqft(df):\n",
    "    df_output = pd.DataFrame()\n",
    "    for key,subdf in df.groupby('location'):\n",
    "        m = np.mean(subdf.price)\n",
    "        st = np.std(subdf.price)\n",
    "        gen_df = subdf[(subdf.price > (m-st)) & (subdf.price <= (m+st))]\n",
    "        df_output = pd.concat([df_output,gen_df],ignore_index =True)\n",
    "    return df_output\n",
    "data = remove_outliers_sqft(data)\n",
    "data.describe()"
   ]
  },
  {
   "cell_type": "code",
   "execution_count": 33,
   "id": "constitutional-border",
   "metadata": {},
   "outputs": [],
   "source": [
    "def bhk_outlier_remover(df):\n",
    "    exclude_indices = np.array([])\n",
    "    for location, loc_df in df.groupby('location'):\n",
    "        bhk_stats = {}\n",
    "        for bhk, bhk_df in loc_df.groupby('bhk'):\n",
    "            bhk_stats[bhk] = {\n",
    "                'mean': np.mean(bhk_df.price),\n",
    "                'std': np.std(bhk_df.price),\n",
    "                'count': bhk_df.shape[0]\n",
    "            }\n",
    "        for bhk, bhk_df in loc_df.groupby('bhk'):\n",
    "            stats = bhk_stats.get(bhk-1)\n",
    "            if stats and stats['count']>5:\n",
    "                exclude_indices = np.append(exclude_indices, bhk_df[bhk_df.price<(stats['mean'])].index.values)\n",
    "    return df.drop(exclude_indices,axis='index')"
   ]
  },
  {
   "cell_type": "code",
   "execution_count": 34,
   "id": "technological-skill",
   "metadata": {},
   "outputs": [],
   "source": [
    "data = bhk_outlier_remover(data)"
   ]
  },
  {
   "cell_type": "code",
   "execution_count": 35,
   "id": "expensive-nation",
   "metadata": {},
   "outputs": [
    {
     "data": {
      "text/plain": [
       "(1227, 6)"
      ]
     },
     "execution_count": 35,
     "metadata": {},
     "output_type": "execute_result"
    }
   ],
   "source": [
    "data.shape"
   ]
  },
  {
   "cell_type": "code",
   "execution_count": 36,
   "id": "remarkable-recovery",
   "metadata": {},
   "outputs": [
    {
     "data": {
      "text/html": [
       "<div>\n",
       "<style scoped>\n",
       "    .dataframe tbody tr th:only-of-type {\n",
       "        vertical-align: middle;\n",
       "    }\n",
       "\n",
       "    .dataframe tbody tr th {\n",
       "        vertical-align: top;\n",
       "    }\n",
       "\n",
       "    .dataframe thead th {\n",
       "        text-align: right;\n",
       "    }\n",
       "</style>\n",
       "<table border=\"1\" class=\"dataframe\">\n",
       "  <thead>\n",
       "    <tr style=\"text-align: right;\">\n",
       "      <th></th>\n",
       "      <th>price</th>\n",
       "      <th>sqft</th>\n",
       "      <th>location</th>\n",
       "      <th>bathrooms</th>\n",
       "      <th>bhk</th>\n",
       "      <th>area_type</th>\n",
       "    </tr>\n",
       "  </thead>\n",
       "  <tbody>\n",
       "    <tr>\n",
       "      <th>0</th>\n",
       "      <td>28.0</td>\n",
       "      <td>1400</td>\n",
       "      <td>Adibatla</td>\n",
       "      <td>2.0</td>\n",
       "      <td>4</td>\n",
       "      <td>Carpet Area</td>\n",
       "    </tr>\n",
       "    <tr>\n",
       "      <th>1</th>\n",
       "      <td>28.0</td>\n",
       "      <td>1400</td>\n",
       "      <td>Adibatla</td>\n",
       "      <td>2.0</td>\n",
       "      <td>3</td>\n",
       "      <td>Super built-up Area</td>\n",
       "    </tr>\n",
       "    <tr>\n",
       "      <th>2</th>\n",
       "      <td>22.0</td>\n",
       "      <td>1050</td>\n",
       "      <td>Adibatla</td>\n",
       "      <td>2.0</td>\n",
       "      <td>2</td>\n",
       "      <td>Super built-up Area</td>\n",
       "    </tr>\n",
       "    <tr>\n",
       "      <th>3</th>\n",
       "      <td>28.0</td>\n",
       "      <td>1200</td>\n",
       "      <td>Adibatla</td>\n",
       "      <td>2.0</td>\n",
       "      <td>3</td>\n",
       "      <td>Carpet Area</td>\n",
       "    </tr>\n",
       "    <tr>\n",
       "      <th>4</th>\n",
       "      <td>22.0</td>\n",
       "      <td>1000</td>\n",
       "      <td>Adibatla</td>\n",
       "      <td>2.0</td>\n",
       "      <td>3</td>\n",
       "      <td>Super built-up Area</td>\n",
       "    </tr>\n",
       "    <tr>\n",
       "      <th>...</th>\n",
       "      <td>...</td>\n",
       "      <td>...</td>\n",
       "      <td>...</td>\n",
       "      <td>...</td>\n",
       "      <td>...</td>\n",
       "      <td>...</td>\n",
       "    </tr>\n",
       "    <tr>\n",
       "      <th>1839</th>\n",
       "      <td>150.0</td>\n",
       "      <td>1970</td>\n",
       "      <td>West Marredpally</td>\n",
       "      <td>2.0</td>\n",
       "      <td>3</td>\n",
       "      <td>Super built-up Area</td>\n",
       "    </tr>\n",
       "    <tr>\n",
       "      <th>1840</th>\n",
       "      <td>125.0</td>\n",
       "      <td>1650</td>\n",
       "      <td>West Marredpally</td>\n",
       "      <td>2.0</td>\n",
       "      <td>4</td>\n",
       "      <td>Super built-up Area</td>\n",
       "    </tr>\n",
       "    <tr>\n",
       "      <th>1841</th>\n",
       "      <td>80.0</td>\n",
       "      <td>1700</td>\n",
       "      <td>West Marredpally</td>\n",
       "      <td>4.0</td>\n",
       "      <td>2</td>\n",
       "      <td>Plot Area</td>\n",
       "    </tr>\n",
       "    <tr>\n",
       "      <th>1842</th>\n",
       "      <td>85.0</td>\n",
       "      <td>1822</td>\n",
       "      <td>West Marredpally</td>\n",
       "      <td>2.0</td>\n",
       "      <td>2</td>\n",
       "      <td>Super built-up Area</td>\n",
       "    </tr>\n",
       "    <tr>\n",
       "      <th>1843</th>\n",
       "      <td>140.0</td>\n",
       "      <td>2115</td>\n",
       "      <td>West Marredpally</td>\n",
       "      <td>2.0</td>\n",
       "      <td>3</td>\n",
       "      <td>Super built-up Area</td>\n",
       "    </tr>\n",
       "  </tbody>\n",
       "</table>\n",
       "<p>1227 rows × 6 columns</p>\n",
       "</div>"
      ],
      "text/plain": [
       "      price  sqft          location  bathrooms  bhk            area_type\n",
       "0      28.0  1400          Adibatla        2.0    4          Carpet Area\n",
       "1      28.0  1400          Adibatla        2.0    3  Super built-up Area\n",
       "2      22.0  1050          Adibatla        2.0    2  Super built-up Area\n",
       "3      28.0  1200          Adibatla        2.0    3          Carpet Area\n",
       "4      22.0  1000          Adibatla        2.0    3  Super built-up Area\n",
       "...     ...   ...               ...        ...  ...                  ...\n",
       "1839  150.0  1970  West Marredpally        2.0    3  Super built-up Area\n",
       "1840  125.0  1650  West Marredpally        2.0    4  Super built-up Area\n",
       "1841   80.0  1700  West Marredpally        4.0    2            Plot Area\n",
       "1842   85.0  1822  West Marredpally        2.0    2  Super built-up Area\n",
       "1843  140.0  2115  West Marredpally        2.0    3  Super built-up Area\n",
       "\n",
       "[1227 rows x 6 columns]"
      ]
     },
     "execution_count": 36,
     "metadata": {},
     "output_type": "execute_result"
    }
   ],
   "source": [
    "data"
   ]
  },
  {
   "cell_type": "markdown",
   "id": "tutorial-aviation",
   "metadata": {},
   "source": [
    "# Cleaned Data"
   ]
  },
  {
   "cell_type": "code",
   "execution_count": 37,
   "id": "concerned-count",
   "metadata": {},
   "outputs": [
    {
     "data": {
      "text/html": [
       "<div>\n",
       "<style scoped>\n",
       "    .dataframe tbody tr th:only-of-type {\n",
       "        vertical-align: middle;\n",
       "    }\n",
       "\n",
       "    .dataframe tbody tr th {\n",
       "        vertical-align: top;\n",
       "    }\n",
       "\n",
       "    .dataframe thead th {\n",
       "        text-align: right;\n",
       "    }\n",
       "</style>\n",
       "<table border=\"1\" class=\"dataframe\">\n",
       "  <thead>\n",
       "    <tr style=\"text-align: right;\">\n",
       "      <th></th>\n",
       "      <th>price</th>\n",
       "      <th>sqft</th>\n",
       "      <th>location</th>\n",
       "      <th>bathrooms</th>\n",
       "      <th>bhk</th>\n",
       "    </tr>\n",
       "  </thead>\n",
       "  <tbody>\n",
       "    <tr>\n",
       "      <th>0</th>\n",
       "      <td>28.0</td>\n",
       "      <td>1400</td>\n",
       "      <td>Adibatla</td>\n",
       "      <td>2.0</td>\n",
       "      <td>4</td>\n",
       "    </tr>\n",
       "    <tr>\n",
       "      <th>1</th>\n",
       "      <td>28.0</td>\n",
       "      <td>1400</td>\n",
       "      <td>Adibatla</td>\n",
       "      <td>2.0</td>\n",
       "      <td>3</td>\n",
       "    </tr>\n",
       "    <tr>\n",
       "      <th>2</th>\n",
       "      <td>22.0</td>\n",
       "      <td>1050</td>\n",
       "      <td>Adibatla</td>\n",
       "      <td>2.0</td>\n",
       "      <td>2</td>\n",
       "    </tr>\n",
       "    <tr>\n",
       "      <th>3</th>\n",
       "      <td>28.0</td>\n",
       "      <td>1200</td>\n",
       "      <td>Adibatla</td>\n",
       "      <td>2.0</td>\n",
       "      <td>3</td>\n",
       "    </tr>\n",
       "    <tr>\n",
       "      <th>4</th>\n",
       "      <td>22.0</td>\n",
       "      <td>1000</td>\n",
       "      <td>Adibatla</td>\n",
       "      <td>2.0</td>\n",
       "      <td>3</td>\n",
       "    </tr>\n",
       "  </tbody>\n",
       "</table>\n",
       "</div>"
      ],
      "text/plain": [
       "   price  sqft  location  bathrooms  bhk\n",
       "0   28.0  1400  Adibatla        2.0    4\n",
       "1   28.0  1400  Adibatla        2.0    3\n",
       "2   22.0  1050  Adibatla        2.0    2\n",
       "3   28.0  1200  Adibatla        2.0    3\n",
       "4   22.0  1000  Adibatla        2.0    3"
      ]
     },
     "execution_count": 37,
     "metadata": {},
     "output_type": "execute_result"
    }
   ],
   "source": [
    "data.drop(columns=['area_type'],inplace=True)\n",
    "data.head()"
   ]
  },
  {
   "cell_type": "code",
   "execution_count": 38,
   "id": "lyric-penalty",
   "metadata": {},
   "outputs": [],
   "source": [
    "data.to_csv(\"Hyderabad_Cleaned_data.csv\")"
   ]
  },
  {
   "cell_type": "code",
   "execution_count": 39,
   "id": "honey-spray",
   "metadata": {},
   "outputs": [],
   "source": [
    "X = data.drop(columns=['price'])\n",
    "y = data['price']"
   ]
  },
  {
   "cell_type": "code",
   "execution_count": 40,
   "id": "exclusive-worse",
   "metadata": {},
   "outputs": [],
   "source": [
    "from sklearn.model_selection import train_test_split\n",
    "from sklearn.linear_model import LinearRegression,Lasso,Ridge\n",
    "from sklearn.preprocessing import OneHotEncoder, StandardScaler\n",
    "from sklearn.compose import make_column_transformer\n",
    "from sklearn.pipeline import make_pipeline\n",
    "from sklearn.metrics import r2_score"
   ]
  },
  {
   "cell_type": "code",
   "execution_count": 41,
   "id": "large-cover",
   "metadata": {},
   "outputs": [],
   "source": [
    "X_train,X_test,y_train,y_test = train_test_split(X,y,test_size=0.2, random_state=0)"
   ]
  },
  {
   "cell_type": "code",
   "execution_count": 42,
   "id": "chubby-reflection",
   "metadata": {},
   "outputs": [
    {
     "name": "stdout",
     "output_type": "stream",
     "text": [
      "(981, 4)\n",
      "(246, 4)\n"
     ]
    }
   ],
   "source": [
    "print(X_train.shape)\n",
    "print(X_test.shape)"
   ]
  },
  {
   "cell_type": "markdown",
   "id": "gross-secondary",
   "metadata": {},
   "source": [
    "# Applying Linear Regression"
   ]
  },
  {
   "cell_type": "code",
   "execution_count": 43,
   "id": "helpful-hunger",
   "metadata": {},
   "outputs": [],
   "source": [
    "column_trans = make_column_transformer((OneHotEncoder(sparse=False), ['location']),remainder='passthrough')"
   ]
  },
  {
   "cell_type": "code",
   "execution_count": 44,
   "id": "representative-tradition",
   "metadata": {},
   "outputs": [],
   "source": [
    "scaler = StandardScaler()"
   ]
  },
  {
   "cell_type": "code",
   "execution_count": 45,
   "id": "working-healing",
   "metadata": {},
   "outputs": [],
   "source": [
    "lr = LinearRegression(normalize=True)"
   ]
  },
  {
   "cell_type": "code",
   "execution_count": 46,
   "id": "handed-board",
   "metadata": {},
   "outputs": [],
   "source": [
    "pipe = make_pipeline(column_trans,scaler,lr)"
   ]
  },
  {
   "cell_type": "code",
   "execution_count": 47,
   "id": "related-honduras",
   "metadata": {},
   "outputs": [
    {
     "data": {
      "text/plain": [
       "Pipeline(steps=[('columntransformer',\n",
       "                 ColumnTransformer(remainder='passthrough',\n",
       "                                   transformers=[('onehotencoder',\n",
       "                                                  OneHotEncoder(sparse=False),\n",
       "                                                  ['location'])])),\n",
       "                ('standardscaler', StandardScaler()),\n",
       "                ('linearregression', LinearRegression(normalize=True))])"
      ]
     },
     "execution_count": 47,
     "metadata": {},
     "output_type": "execute_result"
    }
   ],
   "source": [
    "pipe.fit(X_train,y_train)"
   ]
  },
  {
   "cell_type": "code",
   "execution_count": 48,
   "id": "eight-establishment",
   "metadata": {},
   "outputs": [],
   "source": [
    "y_pred_lr = pipe.predict(X_test)"
   ]
  },
  {
   "cell_type": "code",
   "execution_count": 49,
   "id": "adopted-command",
   "metadata": {},
   "outputs": [
    {
     "data": {
      "text/plain": [
       "0.9132522242501371"
      ]
     },
     "execution_count": 49,
     "metadata": {},
     "output_type": "execute_result"
    }
   ],
   "source": [
    "r2_score(y_test, y_pred_lr)"
   ]
  },
  {
   "cell_type": "markdown",
   "id": "crazy-invite",
   "metadata": {},
   "source": [
    "# Applying Lasso"
   ]
  },
  {
   "cell_type": "code",
   "execution_count": 50,
   "id": "amazing-dylan",
   "metadata": {},
   "outputs": [],
   "source": [
    "lasso = Lasso()"
   ]
  },
  {
   "cell_type": "code",
   "execution_count": 51,
   "id": "pregnant-railway",
   "metadata": {},
   "outputs": [],
   "source": [
    "pipe = make_pipeline(column_trans, scaler, lasso)"
   ]
  },
  {
   "cell_type": "code",
   "execution_count": 52,
   "id": "advisory-squad",
   "metadata": {},
   "outputs": [
    {
     "data": {
      "text/plain": [
       "Pipeline(steps=[('columntransformer',\n",
       "                 ColumnTransformer(remainder='passthrough',\n",
       "                                   transformers=[('onehotencoder',\n",
       "                                                  OneHotEncoder(sparse=False),\n",
       "                                                  ['location'])])),\n",
       "                ('standardscaler', StandardScaler()), ('lasso', Lasso())])"
      ]
     },
     "execution_count": 52,
     "metadata": {},
     "output_type": "execute_result"
    }
   ],
   "source": [
    "pipe.fit(X_train, y_train)"
   ]
  },
  {
   "cell_type": "code",
   "execution_count": 53,
   "id": "supported-mystery",
   "metadata": {},
   "outputs": [],
   "source": [
    "y_pred_lasso = pipe.predict(X_test)"
   ]
  },
  {
   "cell_type": "code",
   "execution_count": 54,
   "id": "younger-edgar",
   "metadata": {},
   "outputs": [
    {
     "data": {
      "text/plain": [
       "0.896397654160015"
      ]
     },
     "execution_count": 54,
     "metadata": {},
     "output_type": "execute_result"
    }
   ],
   "source": [
    "r2_score(y_test, y_pred_lasso)"
   ]
  },
  {
   "cell_type": "markdown",
   "id": "proud-protein",
   "metadata": {},
   "source": [
    "# Applying Ridge"
   ]
  },
  {
   "cell_type": "code",
   "execution_count": 55,
   "id": "fantastic-midnight",
   "metadata": {},
   "outputs": [],
   "source": [
    "ridge = Ridge()"
   ]
  },
  {
   "cell_type": "code",
   "execution_count": 56,
   "id": "reliable-franchise",
   "metadata": {},
   "outputs": [],
   "source": [
    "pipe = make_pipeline(column_trans, scaler, ridge)"
   ]
  },
  {
   "cell_type": "code",
   "execution_count": 57,
   "id": "capital-leadership",
   "metadata": {},
   "outputs": [
    {
     "data": {
      "text/plain": [
       "Pipeline(steps=[('columntransformer',\n",
       "                 ColumnTransformer(remainder='passthrough',\n",
       "                                   transformers=[('onehotencoder',\n",
       "                                                  OneHotEncoder(sparse=False),\n",
       "                                                  ['location'])])),\n",
       "                ('standardscaler', StandardScaler()), ('ridge', Ridge())])"
      ]
     },
     "execution_count": 57,
     "metadata": {},
     "output_type": "execute_result"
    }
   ],
   "source": [
    "pipe.fit(X_train, y_train)"
   ]
  },
  {
   "cell_type": "code",
   "execution_count": 58,
   "id": "excellent-progress",
   "metadata": {},
   "outputs": [],
   "source": [
    "y_pred_ridge = pipe.predict(X_test)"
   ]
  },
  {
   "cell_type": "code",
   "execution_count": 59,
   "id": "unlike-messaging",
   "metadata": {},
   "outputs": [
    {
     "data": {
      "text/plain": [
       "0.9131881863650086"
      ]
     },
     "execution_count": 59,
     "metadata": {},
     "output_type": "execute_result"
    }
   ],
   "source": [
    "r2_score(y_test, y_pred_ridge)"
   ]
  },
  {
   "cell_type": "code",
   "execution_count": 60,
   "id": "progressive-discovery",
   "metadata": {},
   "outputs": [
    {
     "name": "stdout",
     "output_type": "stream",
     "text": [
      "Linear Regression:  0.9132522242501371\n",
      "Lasso:  0.896397654160015\n",
      "Ridge:  0.9131881863650086\n"
     ]
    }
   ],
   "source": [
    "print(\"Linear Regression: \", r2_score(y_test, y_pred_lr))\n",
    "print(\"Lasso: \", r2_score(y_test, y_pred_lasso))\n",
    "print(\"Ridge: \", r2_score(y_test, y_pred_ridge))"
   ]
  },
  {
   "cell_type": "code",
   "execution_count": 61,
   "id": "marked-writing",
   "metadata": {},
   "outputs": [],
   "source": [
    "import pickle"
   ]
  },
  {
   "cell_type": "code",
   "execution_count": 63,
   "id": "final-ratio",
   "metadata": {},
   "outputs": [],
   "source": [
    "pickle.dump(pipe, open('HyderabadRidgeModel.pkl', 'wb'))"
   ]
  },
  {
   "cell_type": "code",
   "execution_count": null,
   "id": "exempt-check",
   "metadata": {},
   "outputs": [],
   "source": []
  }
 ],
 "metadata": {
  "kernelspec": {
   "display_name": "Python 3",
   "language": "python",
   "name": "python3"
  },
  "language_info": {
   "codemirror_mode": {
    "name": "ipython",
    "version": 3
   },
   "file_extension": ".py",
   "mimetype": "text/x-python",
   "name": "python",
   "nbconvert_exporter": "python",
   "pygments_lexer": "ipython3",
   "version": "3.9.1"
  }
 },
 "nbformat": 4,
 "nbformat_minor": 5
}
